{
 "cells": [
  {
   "cell_type": "markdown",
   "metadata": {},
   "source": [
    "# 数据读取"
   ]
  },
  {
   "cell_type": "code",
   "execution_count": 7,
   "metadata": {},
   "outputs": [
    {
     "data": {
      "text/html": [
       "<div>\n",
       "<style scoped>\n",
       "    .dataframe tbody tr th:only-of-type {\n",
       "        vertical-align: middle;\n",
       "    }\n",
       "\n",
       "    .dataframe tbody tr th {\n",
       "        vertical-align: top;\n",
       "    }\n",
       "\n",
       "    .dataframe thead th {\n",
       "        text-align: right;\n",
       "    }\n",
       "</style>\n",
       "<table border=\"1\" class=\"dataframe\">\n",
       "  <thead>\n",
       "    <tr style=\"text-align: right;\">\n",
       "      <th></th>\n",
       "      <th>destination</th>\n",
       "      <th>passanger</th>\n",
       "      <th>weather</th>\n",
       "      <th>temperature</th>\n",
       "      <th>time</th>\n",
       "      <th>coupon</th>\n",
       "      <th>expiration</th>\n",
       "      <th>gender</th>\n",
       "      <th>age</th>\n",
       "      <th>maritalStatus</th>\n",
       "      <th>...</th>\n",
       "      <th>CoffeeHouse</th>\n",
       "      <th>CarryAway</th>\n",
       "      <th>RestaurantLessThan20</th>\n",
       "      <th>Restaurant20To50</th>\n",
       "      <th>toCoupon_GEQ5min</th>\n",
       "      <th>toCoupon_GEQ15min</th>\n",
       "      <th>toCoupon_GEQ25min</th>\n",
       "      <th>direction_same</th>\n",
       "      <th>direction_opp</th>\n",
       "      <th>Y</th>\n",
       "    </tr>\n",
       "  </thead>\n",
       "  <tbody>\n",
       "    <tr>\n",
       "      <th>0</th>\n",
       "      <td>No Urgent Place</td>\n",
       "      <td>Alone</td>\n",
       "      <td>Sunny</td>\n",
       "      <td>55</td>\n",
       "      <td>2PM</td>\n",
       "      <td>Restaurant(&lt;20)</td>\n",
       "      <td>1d</td>\n",
       "      <td>Female</td>\n",
       "      <td>21</td>\n",
       "      <td>Unmarried partner</td>\n",
       "      <td>...</td>\n",
       "      <td>never</td>\n",
       "      <td>NaN</td>\n",
       "      <td>4~8</td>\n",
       "      <td>1~3</td>\n",
       "      <td>1</td>\n",
       "      <td>0</td>\n",
       "      <td>0</td>\n",
       "      <td>0</td>\n",
       "      <td>1</td>\n",
       "      <td>1</td>\n",
       "    </tr>\n",
       "    <tr>\n",
       "      <th>1</th>\n",
       "      <td>No Urgent Place</td>\n",
       "      <td>Friend(s)</td>\n",
       "      <td>Sunny</td>\n",
       "      <td>80</td>\n",
       "      <td>10AM</td>\n",
       "      <td>Coffee House</td>\n",
       "      <td>2h</td>\n",
       "      <td>Female</td>\n",
       "      <td>21</td>\n",
       "      <td>Unmarried partner</td>\n",
       "      <td>...</td>\n",
       "      <td>never</td>\n",
       "      <td>NaN</td>\n",
       "      <td>4~8</td>\n",
       "      <td>1~3</td>\n",
       "      <td>1</td>\n",
       "      <td>0</td>\n",
       "      <td>0</td>\n",
       "      <td>0</td>\n",
       "      <td>1</td>\n",
       "      <td>0</td>\n",
       "    </tr>\n",
       "    <tr>\n",
       "      <th>2</th>\n",
       "      <td>No Urgent Place</td>\n",
       "      <td>Friend(s)</td>\n",
       "      <td>Sunny</td>\n",
       "      <td>80</td>\n",
       "      <td>10AM</td>\n",
       "      <td>Carry out &amp; Take away</td>\n",
       "      <td>2h</td>\n",
       "      <td>Female</td>\n",
       "      <td>21</td>\n",
       "      <td>Unmarried partner</td>\n",
       "      <td>...</td>\n",
       "      <td>never</td>\n",
       "      <td>NaN</td>\n",
       "      <td>4~8</td>\n",
       "      <td>1~3</td>\n",
       "      <td>1</td>\n",
       "      <td>1</td>\n",
       "      <td>0</td>\n",
       "      <td>0</td>\n",
       "      <td>1</td>\n",
       "      <td>1</td>\n",
       "    </tr>\n",
       "    <tr>\n",
       "      <th>3</th>\n",
       "      <td>No Urgent Place</td>\n",
       "      <td>Friend(s)</td>\n",
       "      <td>Sunny</td>\n",
       "      <td>80</td>\n",
       "      <td>2PM</td>\n",
       "      <td>Coffee House</td>\n",
       "      <td>2h</td>\n",
       "      <td>Female</td>\n",
       "      <td>21</td>\n",
       "      <td>Unmarried partner</td>\n",
       "      <td>...</td>\n",
       "      <td>never</td>\n",
       "      <td>NaN</td>\n",
       "      <td>4~8</td>\n",
       "      <td>1~3</td>\n",
       "      <td>1</td>\n",
       "      <td>1</td>\n",
       "      <td>0</td>\n",
       "      <td>0</td>\n",
       "      <td>1</td>\n",
       "      <td>0</td>\n",
       "    </tr>\n",
       "    <tr>\n",
       "      <th>4</th>\n",
       "      <td>No Urgent Place</td>\n",
       "      <td>Friend(s)</td>\n",
       "      <td>Sunny</td>\n",
       "      <td>80</td>\n",
       "      <td>2PM</td>\n",
       "      <td>Coffee House</td>\n",
       "      <td>1d</td>\n",
       "      <td>Female</td>\n",
       "      <td>21</td>\n",
       "      <td>Unmarried partner</td>\n",
       "      <td>...</td>\n",
       "      <td>never</td>\n",
       "      <td>NaN</td>\n",
       "      <td>4~8</td>\n",
       "      <td>1~3</td>\n",
       "      <td>1</td>\n",
       "      <td>1</td>\n",
       "      <td>0</td>\n",
       "      <td>0</td>\n",
       "      <td>1</td>\n",
       "      <td>0</td>\n",
       "    </tr>\n",
       "  </tbody>\n",
       "</table>\n",
       "<p>5 rows × 26 columns</p>\n",
       "</div>"
      ],
      "text/plain": [
       "       destination  passanger weather  temperature  time  \\\n",
       "0  No Urgent Place      Alone   Sunny           55   2PM   \n",
       "1  No Urgent Place  Friend(s)   Sunny           80  10AM   \n",
       "2  No Urgent Place  Friend(s)   Sunny           80  10AM   \n",
       "3  No Urgent Place  Friend(s)   Sunny           80   2PM   \n",
       "4  No Urgent Place  Friend(s)   Sunny           80   2PM   \n",
       "\n",
       "                  coupon expiration  gender age      maritalStatus  ...  \\\n",
       "0        Restaurant(<20)         1d  Female  21  Unmarried partner  ...   \n",
       "1           Coffee House         2h  Female  21  Unmarried partner  ...   \n",
       "2  Carry out & Take away         2h  Female  21  Unmarried partner  ...   \n",
       "3           Coffee House         2h  Female  21  Unmarried partner  ...   \n",
       "4           Coffee House         1d  Female  21  Unmarried partner  ...   \n",
       "\n",
       "   CoffeeHouse CarryAway RestaurantLessThan20 Restaurant20To50  \\\n",
       "0        never       NaN                  4~8              1~3   \n",
       "1        never       NaN                  4~8              1~3   \n",
       "2        never       NaN                  4~8              1~3   \n",
       "3        never       NaN                  4~8              1~3   \n",
       "4        never       NaN                  4~8              1~3   \n",
       "\n",
       "  toCoupon_GEQ5min toCoupon_GEQ15min toCoupon_GEQ25min direction_same  \\\n",
       "0                1                 0                 0              0   \n",
       "1                1                 0                 0              0   \n",
       "2                1                 1                 0              0   \n",
       "3                1                 1                 0              0   \n",
       "4                1                 1                 0              0   \n",
       "\n",
       "  direction_opp  Y  \n",
       "0             1  1  \n",
       "1             1  0  \n",
       "2             1  1  \n",
       "3             1  0  \n",
       "4             1  0  \n",
       "\n",
       "[5 rows x 26 columns]"
      ]
     },
     "execution_count": 7,
     "metadata": {},
     "output_type": "execute_result"
    }
   ],
   "source": [
    "import matplotlib.pyplot as plt\n",
    "import seaborn as sns\n",
    "import pandas as pd\n",
    "import numpy as np\n",
    "import seaborn as sns\n",
    "import plotly.graph_objects as go\n",
    "from plotly.subplots import make_subplots\n",
    "from scipy.stats import chi2_contingency,pointbiserialr\n",
    "from scipy.stats.contingency import association\n",
    "import plotly.express as px\n",
    "from mlxtend.frequent_patterns import fpgrowth\n",
    "from mlxtend.preprocessing import TransactionEncoder\n",
    "import networkx as nx\n",
    "from sklearn.preprocessing import LabelEncoder\n",
    "from sklearn.linear_model import LogisticRegression\n",
    "from sklearn.preprocessing import OneHotEncoder\n",
    "from sklearn.pipeline import Pipeline\n",
    "from sklearn.compose import ColumnTransformer\n",
    "from sklearn.model_selection import train_test_split\n",
    "from sklearn.metrics import (\n",
    "    accuracy_score, precision_score, recall_score, f1_score,\n",
    "    roc_auc_score, classification_report, confusion_matrix, ConfusionMatrixDisplay\n",
    ")\n",
    "from scipy.stats import beta\n",
    "from statsmodels.stats.proportion import proportion_confint\n",
    "from collections import Counter\n",
    "import xgboost as xgb\n",
    "# from tqdm import tqdm  # 用 tqdm 代替 tqdm.autonotebook.tqdm\n",
    "import shap\n",
    "plt.rcParams['font.sans-serif'] = ['SimHei']\n",
    "plt.rcParams['axes.unicode_minus'] = False \n",
    "\n",
    "\n",
    "file_path = r\"D:\\兼职\\兼职\\作品项目\\coupons.csv\"\n",
    "df = pd.read_csv(file_path, engine='python')\n",
    "data = df.copy()\n",
    "data.head()"
   ]
  },
  {
   "cell_type": "markdown",
   "metadata": {},
   "source": [
    "# 数据探索性分析"
   ]
  },
  {
   "cell_type": "markdown",
   "metadata": {},
   "source": [
    "在数据下载的网站已经提供了数据行数、字段数和含义解释。接下来需要验证下拿到手的数据集是否符合描述。"
   ]
  },
  {
   "cell_type": "code",
   "execution_count": 2,
   "metadata": {},
   "outputs": [
    {
     "name": "stdout",
     "output_type": "stream",
     "text": [
      "<class 'pandas.core.frame.DataFrame'>\n",
      "RangeIndex: 12684 entries, 0 to 12683\n",
      "Data columns (total 26 columns):\n",
      " #   Column                Non-Null Count  Dtype \n",
      "---  ------                --------------  ----- \n",
      " 0   destination           12684 non-null  object\n",
      " 1   passanger             12684 non-null  object\n",
      " 2   weather               12684 non-null  object\n",
      " 3   temperature           12684 non-null  int64 \n",
      " 4   time                  12684 non-null  object\n",
      " 5   coupon                12684 non-null  object\n",
      " 6   expiration            12684 non-null  object\n",
      " 7   gender                12684 non-null  object\n",
      " 8   age                   12684 non-null  object\n",
      " 9   maritalStatus         12684 non-null  object\n",
      " 10  has_children          12684 non-null  int64 \n",
      " 11  education             12684 non-null  object\n",
      " 12  occupation            12684 non-null  object\n",
      " 13  income                12684 non-null  object\n",
      " 14  car                   108 non-null    object\n",
      " 15  Bar                   12577 non-null  object\n",
      " 16  CoffeeHouse           12467 non-null  object\n",
      " 17  CarryAway             12533 non-null  object\n",
      " 18  RestaurantLessThan20  12554 non-null  object\n",
      " 19  Restaurant20To50      12495 non-null  object\n",
      " 20  toCoupon_GEQ5min      12684 non-null  int64 \n",
      " 21  toCoupon_GEQ15min     12684 non-null  int64 \n",
      " 22  toCoupon_GEQ25min     12684 non-null  int64 \n",
      " 23  direction_same        12684 non-null  int64 \n",
      " 24  direction_opp         12684 non-null  int64 \n",
      " 25  Y                     12684 non-null  int64 \n",
      "dtypes: int64(8), object(18)\n",
      "memory usage: 2.5+ MB\n"
     ]
    }
   ],
   "source": [
    "data.info()"
   ]
  },
  {
   "cell_type": "code",
   "execution_count": 3,
   "metadata": {},
   "outputs": [
    {
     "data": {
      "text/plain": [
       "(12684, 26)"
      ]
     },
     "execution_count": 3,
     "metadata": {},
     "output_type": "execute_result"
    }
   ],
   "source": [
    "data.shape"
   ]
  },
  {
   "cell_type": "markdown",
   "metadata": {},
   "source": [
    "数据大小和网站描述一致，接下来要对数据进行探索性分析。以及观察到有些字段存在数据缺失的情况，尽管网站写的是Missing Values is no……比如car字段缺失较多，接下来数据清洗时可以删除。"
   ]
  },
  {
   "cell_type": "markdown",
   "metadata": {},
   "source": [
    "## 数据效度"
   ]
  },
  {
   "cell_type": "markdown",
   "metadata": {},
   "source": [
    "因为不适用于信度检验的方式，所以只能对问卷数据进行一些效度检验。比如结构性：是否充分涵盖了多种类型？结果上是否只偏向一种结果？（虽然可能符合实际情况，但是不利于全面的分析）"
   ]
  },
  {
   "cell_type": "code",
   "execution_count": 4,
   "metadata": {},
   "outputs": [
    {
     "data": {
      "application/vnd.plotly.v1+json": {
       "config": {
        "plotlyServerURL": "https://plot.ly"
       },
       "data": [
        {
         "alignmentgroup": "True",
         "hovertemplate": "x=%{x}<br>y=%{y}<br>color=%{marker.color}<extra></extra>",
         "legendgroup": "",
         "marker": {
          "color": [
           1,
           0
          ],
          "coloraxis": "coloraxis",
          "pattern": {
           "shape": ""
          }
         },
         "name": "",
         "offsetgroup": "",
         "orientation": "v",
         "showlegend": false,
         "textposition": "auto",
         "type": "bar",
         "x": [
          1,
          0
         ],
         "xaxis": "x",
         "y": [
          7210,
          5474
         ],
         "yaxis": "y"
        }
       ],
       "layout": {
        "barmode": "relative",
        "coloraxis": {
         "colorbar": {
          "title": {
           "text": "color"
          }
         },
         "colorscale": [
          [
           0,
           "#0d0887"
          ],
          [
           0.1111111111111111,
           "#46039f"
          ],
          [
           0.2222222222222222,
           "#7201a8"
          ],
          [
           0.3333333333333333,
           "#9c179e"
          ],
          [
           0.4444444444444444,
           "#bd3786"
          ],
          [
           0.5555555555555556,
           "#d8576b"
          ],
          [
           0.6666666666666666,
           "#ed7953"
          ],
          [
           0.7777777777777778,
           "#fb9f3a"
          ],
          [
           0.8888888888888888,
           "#fdca26"
          ],
          [
           1,
           "#f0f921"
          ]
         ]
        },
        "height": 400,
        "legend": {
         "tracegroupgap": 0
        },
        "template": {
         "data": {
          "bar": [
           {
            "error_x": {
             "color": "#2a3f5f"
            },
            "error_y": {
             "color": "#2a3f5f"
            },
            "marker": {
             "line": {
              "color": "#E5ECF6",
              "width": 0.5
             },
             "pattern": {
              "fillmode": "overlay",
              "size": 10,
              "solidity": 0.2
             }
            },
            "type": "bar"
           }
          ],
          "barpolar": [
           {
            "marker": {
             "line": {
              "color": "#E5ECF6",
              "width": 0.5
             },
             "pattern": {
              "fillmode": "overlay",
              "size": 10,
              "solidity": 0.2
             }
            },
            "type": "barpolar"
           }
          ],
          "carpet": [
           {
            "aaxis": {
             "endlinecolor": "#2a3f5f",
             "gridcolor": "white",
             "linecolor": "white",
             "minorgridcolor": "white",
             "startlinecolor": "#2a3f5f"
            },
            "baxis": {
             "endlinecolor": "#2a3f5f",
             "gridcolor": "white",
             "linecolor": "white",
             "minorgridcolor": "white",
             "startlinecolor": "#2a3f5f"
            },
            "type": "carpet"
           }
          ],
          "choropleth": [
           {
            "colorbar": {
             "outlinewidth": 0,
             "ticks": ""
            },
            "type": "choropleth"
           }
          ],
          "contour": [
           {
            "colorbar": {
             "outlinewidth": 0,
             "ticks": ""
            },
            "colorscale": [
             [
              0,
              "#0d0887"
             ],
             [
              0.1111111111111111,
              "#46039f"
             ],
             [
              0.2222222222222222,
              "#7201a8"
             ],
             [
              0.3333333333333333,
              "#9c179e"
             ],
             [
              0.4444444444444444,
              "#bd3786"
             ],
             [
              0.5555555555555556,
              "#d8576b"
             ],
             [
              0.6666666666666666,
              "#ed7953"
             ],
             [
              0.7777777777777778,
              "#fb9f3a"
             ],
             [
              0.8888888888888888,
              "#fdca26"
             ],
             [
              1,
              "#f0f921"
             ]
            ],
            "type": "contour"
           }
          ],
          "contourcarpet": [
           {
            "colorbar": {
             "outlinewidth": 0,
             "ticks": ""
            },
            "type": "contourcarpet"
           }
          ],
          "heatmap": [
           {
            "colorbar": {
             "outlinewidth": 0,
             "ticks": ""
            },
            "colorscale": [
             [
              0,
              "#0d0887"
             ],
             [
              0.1111111111111111,
              "#46039f"
             ],
             [
              0.2222222222222222,
              "#7201a8"
             ],
             [
              0.3333333333333333,
              "#9c179e"
             ],
             [
              0.4444444444444444,
              "#bd3786"
             ],
             [
              0.5555555555555556,
              "#d8576b"
             ],
             [
              0.6666666666666666,
              "#ed7953"
             ],
             [
              0.7777777777777778,
              "#fb9f3a"
             ],
             [
              0.8888888888888888,
              "#fdca26"
             ],
             [
              1,
              "#f0f921"
             ]
            ],
            "type": "heatmap"
           }
          ],
          "heatmapgl": [
           {
            "colorbar": {
             "outlinewidth": 0,
             "ticks": ""
            },
            "colorscale": [
             [
              0,
              "#0d0887"
             ],
             [
              0.1111111111111111,
              "#46039f"
             ],
             [
              0.2222222222222222,
              "#7201a8"
             ],
             [
              0.3333333333333333,
              "#9c179e"
             ],
             [
              0.4444444444444444,
              "#bd3786"
             ],
             [
              0.5555555555555556,
              "#d8576b"
             ],
             [
              0.6666666666666666,
              "#ed7953"
             ],
             [
              0.7777777777777778,
              "#fb9f3a"
             ],
             [
              0.8888888888888888,
              "#fdca26"
             ],
             [
              1,
              "#f0f921"
             ]
            ],
            "type": "heatmapgl"
           }
          ],
          "histogram": [
           {
            "marker": {
             "pattern": {
              "fillmode": "overlay",
              "size": 10,
              "solidity": 0.2
             }
            },
            "type": "histogram"
           }
          ],
          "histogram2d": [
           {
            "colorbar": {
             "outlinewidth": 0,
             "ticks": ""
            },
            "colorscale": [
             [
              0,
              "#0d0887"
             ],
             [
              0.1111111111111111,
              "#46039f"
             ],
             [
              0.2222222222222222,
              "#7201a8"
             ],
             [
              0.3333333333333333,
              "#9c179e"
             ],
             [
              0.4444444444444444,
              "#bd3786"
             ],
             [
              0.5555555555555556,
              "#d8576b"
             ],
             [
              0.6666666666666666,
              "#ed7953"
             ],
             [
              0.7777777777777778,
              "#fb9f3a"
             ],
             [
              0.8888888888888888,
              "#fdca26"
             ],
             [
              1,
              "#f0f921"
             ]
            ],
            "type": "histogram2d"
           }
          ],
          "histogram2dcontour": [
           {
            "colorbar": {
             "outlinewidth": 0,
             "ticks": ""
            },
            "colorscale": [
             [
              0,
              "#0d0887"
             ],
             [
              0.1111111111111111,
              "#46039f"
             ],
             [
              0.2222222222222222,
              "#7201a8"
             ],
             [
              0.3333333333333333,
              "#9c179e"
             ],
             [
              0.4444444444444444,
              "#bd3786"
             ],
             [
              0.5555555555555556,
              "#d8576b"
             ],
             [
              0.6666666666666666,
              "#ed7953"
             ],
             [
              0.7777777777777778,
              "#fb9f3a"
             ],
             [
              0.8888888888888888,
              "#fdca26"
             ],
             [
              1,
              "#f0f921"
             ]
            ],
            "type": "histogram2dcontour"
           }
          ],
          "mesh3d": [
           {
            "colorbar": {
             "outlinewidth": 0,
             "ticks": ""
            },
            "type": "mesh3d"
           }
          ],
          "parcoords": [
           {
            "line": {
             "colorbar": {
              "outlinewidth": 0,
              "ticks": ""
             }
            },
            "type": "parcoords"
           }
          ],
          "pie": [
           {
            "automargin": true,
            "type": "pie"
           }
          ],
          "scatter": [
           {
            "fillpattern": {
             "fillmode": "overlay",
             "size": 10,
             "solidity": 0.2
            },
            "type": "scatter"
           }
          ],
          "scatter3d": [
           {
            "line": {
             "colorbar": {
              "outlinewidth": 0,
              "ticks": ""
             }
            },
            "marker": {
             "colorbar": {
              "outlinewidth": 0,
              "ticks": ""
             }
            },
            "type": "scatter3d"
           }
          ],
          "scattercarpet": [
           {
            "marker": {
             "colorbar": {
              "outlinewidth": 0,
              "ticks": ""
             }
            },
            "type": "scattercarpet"
           }
          ],
          "scattergeo": [
           {
            "marker": {
             "colorbar": {
              "outlinewidth": 0,
              "ticks": ""
             }
            },
            "type": "scattergeo"
           }
          ],
          "scattergl": [
           {
            "marker": {
             "colorbar": {
              "outlinewidth": 0,
              "ticks": ""
             }
            },
            "type": "scattergl"
           }
          ],
          "scattermapbox": [
           {
            "marker": {
             "colorbar": {
              "outlinewidth": 0,
              "ticks": ""
             }
            },
            "type": "scattermapbox"
           }
          ],
          "scatterpolar": [
           {
            "marker": {
             "colorbar": {
              "outlinewidth": 0,
              "ticks": ""
             }
            },
            "type": "scatterpolar"
           }
          ],
          "scatterpolargl": [
           {
            "marker": {
             "colorbar": {
              "outlinewidth": 0,
              "ticks": ""
             }
            },
            "type": "scatterpolargl"
           }
          ],
          "scatterternary": [
           {
            "marker": {
             "colorbar": {
              "outlinewidth": 0,
              "ticks": ""
             }
            },
            "type": "scatterternary"
           }
          ],
          "surface": [
           {
            "colorbar": {
             "outlinewidth": 0,
             "ticks": ""
            },
            "colorscale": [
             [
              0,
              "#0d0887"
             ],
             [
              0.1111111111111111,
              "#46039f"
             ],
             [
              0.2222222222222222,
              "#7201a8"
             ],
             [
              0.3333333333333333,
              "#9c179e"
             ],
             [
              0.4444444444444444,
              "#bd3786"
             ],
             [
              0.5555555555555556,
              "#d8576b"
             ],
             [
              0.6666666666666666,
              "#ed7953"
             ],
             [
              0.7777777777777778,
              "#fb9f3a"
             ],
             [
              0.8888888888888888,
              "#fdca26"
             ],
             [
              1,
              "#f0f921"
             ]
            ],
            "type": "surface"
           }
          ],
          "table": [
           {
            "cells": {
             "fill": {
              "color": "#EBF0F8"
             },
             "line": {
              "color": "white"
             }
            },
            "header": {
             "fill": {
              "color": "#C8D4E3"
             },
             "line": {
              "color": "white"
             }
            },
            "type": "table"
           }
          ]
         },
         "layout": {
          "annotationdefaults": {
           "arrowcolor": "#2a3f5f",
           "arrowhead": 0,
           "arrowwidth": 1
          },
          "autotypenumbers": "strict",
          "coloraxis": {
           "colorbar": {
            "outlinewidth": 0,
            "ticks": ""
           }
          },
          "colorscale": {
           "diverging": [
            [
             0,
             "#8e0152"
            ],
            [
             0.1,
             "#c51b7d"
            ],
            [
             0.2,
             "#de77ae"
            ],
            [
             0.3,
             "#f1b6da"
            ],
            [
             0.4,
             "#fde0ef"
            ],
            [
             0.5,
             "#f7f7f7"
            ],
            [
             0.6,
             "#e6f5d0"
            ],
            [
             0.7,
             "#b8e186"
            ],
            [
             0.8,
             "#7fbc41"
            ],
            [
             0.9,
             "#4d9221"
            ],
            [
             1,
             "#276419"
            ]
           ],
           "sequential": [
            [
             0,
             "#0d0887"
            ],
            [
             0.1111111111111111,
             "#46039f"
            ],
            [
             0.2222222222222222,
             "#7201a8"
            ],
            [
             0.3333333333333333,
             "#9c179e"
            ],
            [
             0.4444444444444444,
             "#bd3786"
            ],
            [
             0.5555555555555556,
             "#d8576b"
            ],
            [
             0.6666666666666666,
             "#ed7953"
            ],
            [
             0.7777777777777778,
             "#fb9f3a"
            ],
            [
             0.8888888888888888,
             "#fdca26"
            ],
            [
             1,
             "#f0f921"
            ]
           ],
           "sequentialminus": [
            [
             0,
             "#0d0887"
            ],
            [
             0.1111111111111111,
             "#46039f"
            ],
            [
             0.2222222222222222,
             "#7201a8"
            ],
            [
             0.3333333333333333,
             "#9c179e"
            ],
            [
             0.4444444444444444,
             "#bd3786"
            ],
            [
             0.5555555555555556,
             "#d8576b"
            ],
            [
             0.6666666666666666,
             "#ed7953"
            ],
            [
             0.7777777777777778,
             "#fb9f3a"
            ],
            [
             0.8888888888888888,
             "#fdca26"
            ],
            [
             1,
             "#f0f921"
            ]
           ]
          },
          "colorway": [
           "#636efa",
           "#EF553B",
           "#00cc96",
           "#ab63fa",
           "#FFA15A",
           "#19d3f3",
           "#FF6692",
           "#B6E880",
           "#FF97FF",
           "#FECB52"
          ],
          "font": {
           "color": "#2a3f5f"
          },
          "geo": {
           "bgcolor": "white",
           "lakecolor": "white",
           "landcolor": "#E5ECF6",
           "showlakes": true,
           "showland": true,
           "subunitcolor": "white"
          },
          "hoverlabel": {
           "align": "left"
          },
          "hovermode": "closest",
          "mapbox": {
           "style": "light"
          },
          "paper_bgcolor": "white",
          "plot_bgcolor": "#E5ECF6",
          "polar": {
           "angularaxis": {
            "gridcolor": "white",
            "linecolor": "white",
            "ticks": ""
           },
           "bgcolor": "#E5ECF6",
           "radialaxis": {
            "gridcolor": "white",
            "linecolor": "white",
            "ticks": ""
           }
          },
          "scene": {
           "xaxis": {
            "backgroundcolor": "#E5ECF6",
            "gridcolor": "white",
            "gridwidth": 2,
            "linecolor": "white",
            "showbackground": true,
            "ticks": "",
            "zerolinecolor": "white"
           },
           "yaxis": {
            "backgroundcolor": "#E5ECF6",
            "gridcolor": "white",
            "gridwidth": 2,
            "linecolor": "white",
            "showbackground": true,
            "ticks": "",
            "zerolinecolor": "white"
           },
           "zaxis": {
            "backgroundcolor": "#E5ECF6",
            "gridcolor": "white",
            "gridwidth": 2,
            "linecolor": "white",
            "showbackground": true,
            "ticks": "",
            "zerolinecolor": "white"
           }
          },
          "shapedefaults": {
           "line": {
            "color": "#2a3f5f"
           }
          },
          "ternary": {
           "aaxis": {
            "gridcolor": "white",
            "linecolor": "white",
            "ticks": ""
           },
           "baxis": {
            "gridcolor": "white",
            "linecolor": "white",
            "ticks": ""
           },
           "bgcolor": "#E5ECF6",
           "caxis": {
            "gridcolor": "white",
            "linecolor": "white",
            "ticks": ""
           }
          },
          "title": {
           "x": 0.05
          },
          "xaxis": {
           "automargin": true,
           "gridcolor": "white",
           "linecolor": "white",
           "ticks": "",
           "title": {
            "standoff": 15
           },
           "zerolinecolor": "white",
           "zerolinewidth": 2
          },
          "yaxis": {
           "automargin": true,
           "gridcolor": "white",
           "linecolor": "white",
           "ticks": "",
           "title": {
            "standoff": 15
           },
           "zerolinecolor": "white",
           "zerolinewidth": 2
          }
         }
        },
        "title": {
         "text": "Y Value"
        },
        "width": 600,
        "xaxis": {
         "anchor": "y",
         "domain": [
          0,
          1
         ],
         "title": {
          "text": "x"
         }
        },
        "yaxis": {
         "anchor": "x",
         "domain": [
          0,
          1
         ],
         "title": {
          "text": "y"
         }
        }
       }
      },
      "text/html": [
       "<div>                            <div id=\"d57d5995-35d2-4bc4-b462-265aa6b61e12\" class=\"plotly-graph-div\" style=\"height:400px; width:600px;\"></div>            <script type=\"text/javascript\">                require([\"plotly\"], function(Plotly) {                    window.PLOTLYENV=window.PLOTLYENV || {};                                    if (document.getElementById(\"d57d5995-35d2-4bc4-b462-265aa6b61e12\")) {                    Plotly.newPlot(                        \"d57d5995-35d2-4bc4-b462-265aa6b61e12\",                        [{\"alignmentgroup\":\"True\",\"hovertemplate\":\"x=%{x}\\u003cbr\\u003ey=%{y}\\u003cbr\\u003ecolor=%{marker.color}\\u003cextra\\u003e\\u003c\\u002fextra\\u003e\",\"legendgroup\":\"\",\"marker\":{\"color\":[1,0],\"coloraxis\":\"coloraxis\",\"pattern\":{\"shape\":\"\"}},\"name\":\"\",\"offsetgroup\":\"\",\"orientation\":\"v\",\"showlegend\":false,\"textposition\":\"auto\",\"x\":[1,0],\"xaxis\":\"x\",\"y\":[7210,5474],\"yaxis\":\"y\",\"type\":\"bar\"}],                        {\"template\":{\"data\":{\"histogram2dcontour\":[{\"type\":\"histogram2dcontour\",\"colorbar\":{\"outlinewidth\":0,\"ticks\":\"\"},\"colorscale\":[[0.0,\"#0d0887\"],[0.1111111111111111,\"#46039f\"],[0.2222222222222222,\"#7201a8\"],[0.3333333333333333,\"#9c179e\"],[0.4444444444444444,\"#bd3786\"],[0.5555555555555556,\"#d8576b\"],[0.6666666666666666,\"#ed7953\"],[0.7777777777777778,\"#fb9f3a\"],[0.8888888888888888,\"#fdca26\"],[1.0,\"#f0f921\"]]}],\"choropleth\":[{\"type\":\"choropleth\",\"colorbar\":{\"outlinewidth\":0,\"ticks\":\"\"}}],\"histogram2d\":[{\"type\":\"histogram2d\",\"colorbar\":{\"outlinewidth\":0,\"ticks\":\"\"},\"colorscale\":[[0.0,\"#0d0887\"],[0.1111111111111111,\"#46039f\"],[0.2222222222222222,\"#7201a8\"],[0.3333333333333333,\"#9c179e\"],[0.4444444444444444,\"#bd3786\"],[0.5555555555555556,\"#d8576b\"],[0.6666666666666666,\"#ed7953\"],[0.7777777777777778,\"#fb9f3a\"],[0.8888888888888888,\"#fdca26\"],[1.0,\"#f0f921\"]]}],\"heatmap\":[{\"type\":\"heatmap\",\"colorbar\":{\"outlinewidth\":0,\"ticks\":\"\"},\"colorscale\":[[0.0,\"#0d0887\"],[0.1111111111111111,\"#46039f\"],[0.2222222222222222,\"#7201a8\"],[0.3333333333333333,\"#9c179e\"],[0.4444444444444444,\"#bd3786\"],[0.5555555555555556,\"#d8576b\"],[0.6666666666666666,\"#ed7953\"],[0.7777777777777778,\"#fb9f3a\"],[0.8888888888888888,\"#fdca26\"],[1.0,\"#f0f921\"]]}],\"heatmapgl\":[{\"type\":\"heatmapgl\",\"colorbar\":{\"outlinewidth\":0,\"ticks\":\"\"},\"colorscale\":[[0.0,\"#0d0887\"],[0.1111111111111111,\"#46039f\"],[0.2222222222222222,\"#7201a8\"],[0.3333333333333333,\"#9c179e\"],[0.4444444444444444,\"#bd3786\"],[0.5555555555555556,\"#d8576b\"],[0.6666666666666666,\"#ed7953\"],[0.7777777777777778,\"#fb9f3a\"],[0.8888888888888888,\"#fdca26\"],[1.0,\"#f0f921\"]]}],\"contourcarpet\":[{\"type\":\"contourcarpet\",\"colorbar\":{\"outlinewidth\":0,\"ticks\":\"\"}}],\"contour\":[{\"type\":\"contour\",\"colorbar\":{\"outlinewidth\":0,\"ticks\":\"\"},\"colorscale\":[[0.0,\"#0d0887\"],[0.1111111111111111,\"#46039f\"],[0.2222222222222222,\"#7201a8\"],[0.3333333333333333,\"#9c179e\"],[0.4444444444444444,\"#bd3786\"],[0.5555555555555556,\"#d8576b\"],[0.6666666666666666,\"#ed7953\"],[0.7777777777777778,\"#fb9f3a\"],[0.8888888888888888,\"#fdca26\"],[1.0,\"#f0f921\"]]}],\"surface\":[{\"type\":\"surface\",\"colorbar\":{\"outlinewidth\":0,\"ticks\":\"\"},\"colorscale\":[[0.0,\"#0d0887\"],[0.1111111111111111,\"#46039f\"],[0.2222222222222222,\"#7201a8\"],[0.3333333333333333,\"#9c179e\"],[0.4444444444444444,\"#bd3786\"],[0.5555555555555556,\"#d8576b\"],[0.6666666666666666,\"#ed7953\"],[0.7777777777777778,\"#fb9f3a\"],[0.8888888888888888,\"#fdca26\"],[1.0,\"#f0f921\"]]}],\"mesh3d\":[{\"type\":\"mesh3d\",\"colorbar\":{\"outlinewidth\":0,\"ticks\":\"\"}}],\"scatter\":[{\"fillpattern\":{\"fillmode\":\"overlay\",\"size\":10,\"solidity\":0.2},\"type\":\"scatter\"}],\"parcoords\":[{\"type\":\"parcoords\",\"line\":{\"colorbar\":{\"outlinewidth\":0,\"ticks\":\"\"}}}],\"scatterpolargl\":[{\"type\":\"scatterpolargl\",\"marker\":{\"colorbar\":{\"outlinewidth\":0,\"ticks\":\"\"}}}],\"bar\":[{\"error_x\":{\"color\":\"#2a3f5f\"},\"error_y\":{\"color\":\"#2a3f5f\"},\"marker\":{\"line\":{\"color\":\"#E5ECF6\",\"width\":0.5},\"pattern\":{\"fillmode\":\"overlay\",\"size\":10,\"solidity\":0.2}},\"type\":\"bar\"}],\"scattergeo\":[{\"type\":\"scattergeo\",\"marker\":{\"colorbar\":{\"outlinewidth\":0,\"ticks\":\"\"}}}],\"scatterpolar\":[{\"type\":\"scatterpolar\",\"marker\":{\"colorbar\":{\"outlinewidth\":0,\"ticks\":\"\"}}}],\"histogram\":[{\"marker\":{\"pattern\":{\"fillmode\":\"overlay\",\"size\":10,\"solidity\":0.2}},\"type\":\"histogram\"}],\"scattergl\":[{\"type\":\"scattergl\",\"marker\":{\"colorbar\":{\"outlinewidth\":0,\"ticks\":\"\"}}}],\"scatter3d\":[{\"type\":\"scatter3d\",\"line\":{\"colorbar\":{\"outlinewidth\":0,\"ticks\":\"\"}},\"marker\":{\"colorbar\":{\"outlinewidth\":0,\"ticks\":\"\"}}}],\"scattermapbox\":[{\"type\":\"scattermapbox\",\"marker\":{\"colorbar\":{\"outlinewidth\":0,\"ticks\":\"\"}}}],\"scatterternary\":[{\"type\":\"scatterternary\",\"marker\":{\"colorbar\":{\"outlinewidth\":0,\"ticks\":\"\"}}}],\"scattercarpet\":[{\"type\":\"scattercarpet\",\"marker\":{\"colorbar\":{\"outlinewidth\":0,\"ticks\":\"\"}}}],\"carpet\":[{\"aaxis\":{\"endlinecolor\":\"#2a3f5f\",\"gridcolor\":\"white\",\"linecolor\":\"white\",\"minorgridcolor\":\"white\",\"startlinecolor\":\"#2a3f5f\"},\"baxis\":{\"endlinecolor\":\"#2a3f5f\",\"gridcolor\":\"white\",\"linecolor\":\"white\",\"minorgridcolor\":\"white\",\"startlinecolor\":\"#2a3f5f\"},\"type\":\"carpet\"}],\"table\":[{\"cells\":{\"fill\":{\"color\":\"#EBF0F8\"},\"line\":{\"color\":\"white\"}},\"header\":{\"fill\":{\"color\":\"#C8D4E3\"},\"line\":{\"color\":\"white\"}},\"type\":\"table\"}],\"barpolar\":[{\"marker\":{\"line\":{\"color\":\"#E5ECF6\",\"width\":0.5},\"pattern\":{\"fillmode\":\"overlay\",\"size\":10,\"solidity\":0.2}},\"type\":\"barpolar\"}],\"pie\":[{\"automargin\":true,\"type\":\"pie\"}]},\"layout\":{\"autotypenumbers\":\"strict\",\"colorway\":[\"#636efa\",\"#EF553B\",\"#00cc96\",\"#ab63fa\",\"#FFA15A\",\"#19d3f3\",\"#FF6692\",\"#B6E880\",\"#FF97FF\",\"#FECB52\"],\"font\":{\"color\":\"#2a3f5f\"},\"hovermode\":\"closest\",\"hoverlabel\":{\"align\":\"left\"},\"paper_bgcolor\":\"white\",\"plot_bgcolor\":\"#E5ECF6\",\"polar\":{\"bgcolor\":\"#E5ECF6\",\"angularaxis\":{\"gridcolor\":\"white\",\"linecolor\":\"white\",\"ticks\":\"\"},\"radialaxis\":{\"gridcolor\":\"white\",\"linecolor\":\"white\",\"ticks\":\"\"}},\"ternary\":{\"bgcolor\":\"#E5ECF6\",\"aaxis\":{\"gridcolor\":\"white\",\"linecolor\":\"white\",\"ticks\":\"\"},\"baxis\":{\"gridcolor\":\"white\",\"linecolor\":\"white\",\"ticks\":\"\"},\"caxis\":{\"gridcolor\":\"white\",\"linecolor\":\"white\",\"ticks\":\"\"}},\"coloraxis\":{\"colorbar\":{\"outlinewidth\":0,\"ticks\":\"\"}},\"colorscale\":{\"sequential\":[[0.0,\"#0d0887\"],[0.1111111111111111,\"#46039f\"],[0.2222222222222222,\"#7201a8\"],[0.3333333333333333,\"#9c179e\"],[0.4444444444444444,\"#bd3786\"],[0.5555555555555556,\"#d8576b\"],[0.6666666666666666,\"#ed7953\"],[0.7777777777777778,\"#fb9f3a\"],[0.8888888888888888,\"#fdca26\"],[1.0,\"#f0f921\"]],\"sequentialminus\":[[0.0,\"#0d0887\"],[0.1111111111111111,\"#46039f\"],[0.2222222222222222,\"#7201a8\"],[0.3333333333333333,\"#9c179e\"],[0.4444444444444444,\"#bd3786\"],[0.5555555555555556,\"#d8576b\"],[0.6666666666666666,\"#ed7953\"],[0.7777777777777778,\"#fb9f3a\"],[0.8888888888888888,\"#fdca26\"],[1.0,\"#f0f921\"]],\"diverging\":[[0,\"#8e0152\"],[0.1,\"#c51b7d\"],[0.2,\"#de77ae\"],[0.3,\"#f1b6da\"],[0.4,\"#fde0ef\"],[0.5,\"#f7f7f7\"],[0.6,\"#e6f5d0\"],[0.7,\"#b8e186\"],[0.8,\"#7fbc41\"],[0.9,\"#4d9221\"],[1,\"#276419\"]]},\"xaxis\":{\"gridcolor\":\"white\",\"linecolor\":\"white\",\"ticks\":\"\",\"title\":{\"standoff\":15},\"zerolinecolor\":\"white\",\"automargin\":true,\"zerolinewidth\":2},\"yaxis\":{\"gridcolor\":\"white\",\"linecolor\":\"white\",\"ticks\":\"\",\"title\":{\"standoff\":15},\"zerolinecolor\":\"white\",\"automargin\":true,\"zerolinewidth\":2},\"scene\":{\"xaxis\":{\"backgroundcolor\":\"#E5ECF6\",\"gridcolor\":\"white\",\"linecolor\":\"white\",\"showbackground\":true,\"ticks\":\"\",\"zerolinecolor\":\"white\",\"gridwidth\":2},\"yaxis\":{\"backgroundcolor\":\"#E5ECF6\",\"gridcolor\":\"white\",\"linecolor\":\"white\",\"showbackground\":true,\"ticks\":\"\",\"zerolinecolor\":\"white\",\"gridwidth\":2},\"zaxis\":{\"backgroundcolor\":\"#E5ECF6\",\"gridcolor\":\"white\",\"linecolor\":\"white\",\"showbackground\":true,\"ticks\":\"\",\"zerolinecolor\":\"white\",\"gridwidth\":2}},\"shapedefaults\":{\"line\":{\"color\":\"#2a3f5f\"}},\"annotationdefaults\":{\"arrowcolor\":\"#2a3f5f\",\"arrowhead\":0,\"arrowwidth\":1},\"geo\":{\"bgcolor\":\"white\",\"landcolor\":\"#E5ECF6\",\"subunitcolor\":\"white\",\"showland\":true,\"showlakes\":true,\"lakecolor\":\"white\"},\"title\":{\"x\":0.05},\"mapbox\":{\"style\":\"light\"}}},\"xaxis\":{\"anchor\":\"y\",\"domain\":[0.0,1.0],\"title\":{\"text\":\"x\"}},\"yaxis\":{\"anchor\":\"x\",\"domain\":[0.0,1.0],\"title\":{\"text\":\"y\"}},\"coloraxis\":{\"colorbar\":{\"title\":{\"text\":\"color\"}},\"colorscale\":[[0.0,\"#0d0887\"],[0.1111111111111111,\"#46039f\"],[0.2222222222222222,\"#7201a8\"],[0.3333333333333333,\"#9c179e\"],[0.4444444444444444,\"#bd3786\"],[0.5555555555555556,\"#d8576b\"],[0.6666666666666666,\"#ed7953\"],[0.7777777777777778,\"#fb9f3a\"],[0.8888888888888888,\"#fdca26\"],[1.0,\"#f0f921\"]]},\"legend\":{\"tracegroupgap\":0},\"title\":{\"text\":\"Y Value\"},\"barmode\":\"relative\",\"height\":400,\"width\":600},                        {\"responsive\": true}                    ).then(function(){\n",
       "                            \n",
       "var gd = document.getElementById('d57d5995-35d2-4bc4-b462-265aa6b61e12');\n",
       "var x = new MutationObserver(function (mutations, observer) {{\n",
       "        var display = window.getComputedStyle(gd).display;\n",
       "        if (!display || display === 'none') {{\n",
       "            console.log([gd, 'removed!']);\n",
       "            Plotly.purge(gd);\n",
       "            observer.disconnect();\n",
       "        }}\n",
       "}});\n",
       "\n",
       "// Listen for the removal of the full notebook cells\n",
       "var notebookContainer = gd.closest('#notebook-container');\n",
       "if (notebookContainer) {{\n",
       "    x.observe(notebookContainer, {childList: true});\n",
       "}}\n",
       "\n",
       "// Listen for the clearing of the current output cell\n",
       "var outputEl = gd.closest('.output');\n",
       "if (outputEl) {{\n",
       "    x.observe(outputEl, {childList: true});\n",
       "}}\n",
       "\n",
       "                        })                };                });            </script>        </div>"
      ]
     },
     "metadata": {},
     "output_type": "display_data"
    }
   ],
   "source": [
    "y = data['Y'].value_counts()\n",
    "\n",
    "px.bar(x = y.index , y = y, title = 'Y Value', width = 600, height = 400, color = y.index)"
   ]
  },
  {
   "cell_type": "markdown",
   "metadata": {},
   "source": [
    "1:0=7210:5474\n",
    "结果分布是不平衡的。但是差距不是非常巨大，而且0的数据量也较大，接下来要看各可能影响因素的结构分布情况，能否包含全面的信息"
   ]
  },
  {
   "cell_type": "code",
   "execution_count": 8,
   "metadata": {},
   "outputs": [],
   "source": [
    "# 为了方便理解分析，将华氏度转为摄氏度\n",
    "data['temperature'] = ((data['temperature'] - 32) * (5 / 9)).round(2)\n"
   ]
  },
  {
   "cell_type": "code",
   "execution_count": 9,
   "metadata": {
    "scrolled": false
   },
   "outputs": [
    {
     "data": {
      "application/vnd.plotly.v1+json": {
       "config": {
        "plotlyServerURL": "https://plot.ly"
       },
       "data": [
        {
         "domain": {
          "x": [
           0,
           0.2125
          ],
          "y": [
           0.9183673469387754,
           0.9999999999999999
          ]
         },
         "labels": [
          "No Urgent Place",
          "Home",
          "Work"
         ],
         "name": "destination",
         "type": "pie",
         "values": [
          6283,
          3237,
          3164
         ]
        },
        {
         "domain": {
          "x": [
           0.2625,
           0.475
          ],
          "y": [
           0.9183673469387754,
           0.9999999999999999
          ]
         },
         "labels": [
          "Alone",
          "Friend(s)",
          "Partner",
          "Kid(s)"
         ],
         "name": "passanger",
         "type": "pie",
         "values": [
          7305,
          3298,
          1075,
          1006
         ]
        },
        {
         "domain": {
          "x": [
           0.525,
           0.7375
          ],
          "y": [
           0.9183673469387754,
           0.9999999999999999
          ]
         },
         "labels": [
          "Sunny",
          "Snowy",
          "Rainy"
         ],
         "name": "weather",
         "type": "pie",
         "values": [
          10069,
          1405,
          1210
         ]
        },
        {
         "domain": {
          "x": [
           0.7875,
           1
          ],
          "y": [
           0.9183673469387754,
           0.9999999999999999
          ]
         },
         "labels": [
          26.67,
          12.78,
          -1.11
         ],
         "name": "temperature",
         "type": "pie",
         "values": [
          6528,
          3840,
          2316
         ]
        },
        {
         "domain": {
          "x": [
           0,
           0.2125
          ],
          "y": [
           0.7653061224489794,
           0.8469387755102039
          ]
         },
         "labels": [
          "6PM",
          "7AM",
          "10AM",
          "2PM",
          "10PM"
         ],
         "name": "time",
         "type": "pie",
         "values": [
          3230,
          3164,
          2275,
          2009,
          2006
         ]
        },
        {
         "domain": {
          "x": [
           0.2625,
           0.475
          ],
          "y": [
           0.7653061224489794,
           0.8469387755102039
          ]
         },
         "labels": [
          "Coffee House",
          "Restaurant(<20)",
          "Carry out & Take away",
          "Bar",
          "Restaurant(20-50)"
         ],
         "name": "coupon",
         "type": "pie",
         "values": [
          3996,
          2786,
          2393,
          2017,
          1492
         ]
        },
        {
         "domain": {
          "x": [
           0.525,
           0.7375
          ],
          "y": [
           0.7653061224489794,
           0.8469387755102039
          ]
         },
         "labels": [
          "1d",
          "2h"
         ],
         "name": "expiration",
         "type": "pie",
         "values": [
          7091,
          5593
         ]
        },
        {
         "domain": {
          "x": [
           0.7875,
           1
          ],
          "y": [
           0.7653061224489794,
           0.8469387755102039
          ]
         },
         "labels": [
          "Female",
          "Male"
         ],
         "name": "gender",
         "type": "pie",
         "values": [
          6511,
          6173
         ]
        },
        {
         "domain": {
          "x": [
           0,
           0.2125
          ],
          "y": [
           0.6122448979591837,
           0.6938775510204082
          ]
         },
         "labels": [
          "21",
          "26",
          "31",
          "50plus",
          "36",
          "41",
          "46",
          "below21"
         ],
         "name": "age",
         "type": "pie",
         "values": [
          2653,
          2559,
          2039,
          1788,
          1319,
          1093,
          686,
          547
         ]
        },
        {
         "domain": {
          "x": [
           0.2625,
           0.475
          ],
          "y": [
           0.6122448979591837,
           0.6938775510204082
          ]
         },
         "labels": [
          "Married partner",
          "Single",
          "Unmarried partner",
          "Divorced",
          "Widowed"
         ],
         "name": "maritalStatus",
         "type": "pie",
         "values": [
          5100,
          4752,
          2186,
          516,
          130
         ]
        },
        {
         "domain": {
          "x": [
           0.525,
           0.7375
          ],
          "y": [
           0.6122448979591837,
           0.6938775510204082
          ]
         },
         "labels": [
          0,
          1
         ],
         "name": "has_children",
         "type": "pie",
         "values": [
          7431,
          5253
         ]
        },
        {
         "domain": {
          "x": [
           0.7875,
           1
          ],
          "y": [
           0.6122448979591837,
           0.6938775510204082
          ]
         },
         "labels": [
          "Some college - no degree",
          "Bachelors degree",
          "Graduate degree (Masters or Doctorate)",
          "Associates degree",
          "High School Graduate",
          "Some High School"
         ],
         "name": "education",
         "type": "pie",
         "values": [
          4351,
          4335,
          1852,
          1153,
          905,
          88
         ]
        },
        {
         "domain": {
          "x": [
           0,
           0.2125
          ],
          "y": [
           0.4591836734693877,
           0.5408163265306122
          ]
         },
         "labels": [
          "Unemployed",
          "Student",
          "Computer & Mathematical",
          "Sales & Related",
          "Education&Training&Library",
          "Management",
          "Office & Administrative Support",
          "Arts Design Entertainment Sports & Media",
          "Business & Financial",
          "Retired",
          "Food Preparation & Serving Related",
          "Healthcare Practitioners & Technical",
          "Healthcare Support",
          "Community & Social Services",
          "Legal",
          "Transportation & Material Moving",
          "Personal Care & Service",
          "Protective Service",
          "Architecture & Engineering",
          "Life Physical Social Science",
          "Construction & Extraction",
          "Installation Maintenance & Repair",
          "Production Occupations",
          "Building & Grounds Cleaning & Maintenance",
          "Farming Fishing & Forestry"
         ],
         "name": "occupation",
         "type": "pie",
         "values": [
          1870,
          1584,
          1408,
          1093,
          943,
          838,
          639,
          629,
          544,
          495,
          298,
          244,
          242,
          241,
          219,
          218,
          175,
          175,
          175,
          170,
          154,
          133,
          110,
          44,
          43
         ]
        },
        {
         "domain": {
          "x": [
           0.2625,
           0.475
          ],
          "y": [
           0.4591836734693877,
           0.5408163265306122
          ]
         },
         "labels": [
          "$25000 - $37499",
          "$12500 - $24999",
          "$37500 - $49999",
          "$100000 or More",
          "$50000 - $62499",
          "Less than $12500",
          "$87500 - $99999",
          "$75000 - $87499",
          "$62500 - $74999"
         ],
         "name": "income",
         "type": "pie",
         "values": [
          2013,
          1831,
          1805,
          1736,
          1659,
          1042,
          895,
          857,
          846
         ]
        },
        {
         "domain": {
          "x": [
           0.525,
           0.7375
          ],
          "y": [
           0.4591836734693877,
           0.5408163265306122
          ]
         },
         "labels": [
          "Scooter and motorcycle",
          "Mazda5",
          "do not drive",
          "Car that is too old to install Onstar :D",
          "crossover"
         ],
         "name": "car",
         "type": "pie",
         "values": [
          22,
          22,
          22,
          21,
          21
         ]
        },
        {
         "domain": {
          "x": [
           0.7875,
           1
          ],
          "y": [
           0.4591836734693877,
           0.5408163265306122
          ]
         },
         "labels": [
          "never",
          "less1",
          "1~3",
          "4~8",
          "gt8"
         ],
         "name": "Bar",
         "type": "pie",
         "values": [
          5197,
          3482,
          2473,
          1076,
          349
         ]
        },
        {
         "domain": {
          "x": [
           0,
           0.2125
          ],
          "y": [
           0.30612244897959184,
           0.3877551020408163
          ]
         },
         "labels": [
          "less1",
          "1~3",
          "never",
          "4~8",
          "gt8"
         ],
         "name": "CoffeeHouse",
         "type": "pie",
         "values": [
          3385,
          3225,
          2962,
          1784,
          1111
         ]
        },
        {
         "domain": {
          "x": [
           0.2625,
           0.475
          ],
          "y": [
           0.30612244897959184,
           0.3877551020408163
          ]
         },
         "labels": [
          "1~3",
          "4~8",
          "less1",
          "gt8",
          "never"
         ],
         "name": "CarryAway",
         "type": "pie",
         "values": [
          4672,
          4258,
          1856,
          1594,
          153
         ]
        },
        {
         "domain": {
          "x": [
           0.525,
           0.7375
          ],
          "y": [
           0.30612244897959184,
           0.3877551020408163
          ]
         },
         "labels": [
          "1~3",
          "4~8",
          "less1",
          "gt8",
          "never"
         ],
         "name": "RestaurantLessThan20",
         "type": "pie",
         "values": [
          5376,
          3580,
          2093,
          1285,
          220
         ]
        },
        {
         "domain": {
          "x": [
           0.7875,
           1
          ],
          "y": [
           0.30612244897959184,
           0.3877551020408163
          ]
         },
         "labels": [
          "less1",
          "1~3",
          "never",
          "4~8",
          "gt8"
         ],
         "name": "Restaurant20To50",
         "type": "pie",
         "values": [
          6077,
          3290,
          2136,
          728,
          264
         ]
        },
        {
         "domain": {
          "x": [
           0,
           0.2125
          ],
          "y": [
           0.15306122448979592,
           0.2346938775510204
          ]
         },
         "labels": [
          1
         ],
         "name": "toCoupon_GEQ5min",
         "type": "pie",
         "values": [
          12684
         ]
        },
        {
         "domain": {
          "x": [
           0.2625,
           0.475
          ],
          "y": [
           0.15306122448979592,
           0.2346938775510204
          ]
         },
         "labels": [
          1,
          0
         ],
         "name": "toCoupon_GEQ15min",
         "type": "pie",
         "values": [
          7122,
          5562
         ]
        },
        {
         "domain": {
          "x": [
           0.525,
           0.7375
          ],
          "y": [
           0.15306122448979592,
           0.2346938775510204
          ]
         },
         "labels": [
          0,
          1
         ],
         "name": "toCoupon_GEQ25min",
         "type": "pie",
         "values": [
          11173,
          1511
         ]
        },
        {
         "domain": {
          "x": [
           0.7875,
           1
          ],
          "y": [
           0.15306122448979592,
           0.2346938775510204
          ]
         },
         "labels": [
          0,
          1
         ],
         "name": "direction_same",
         "type": "pie",
         "values": [
          9960,
          2724
         ]
        },
        {
         "domain": {
          "x": [
           0,
           0.2125
          ],
          "y": [
           0,
           0.08163265306122448
          ]
         },
         "labels": [
          1,
          0
         ],
         "name": "direction_opp",
         "type": "pie",
         "values": [
          9960,
          2724
         ]
        },
        {
         "domain": {
          "x": [
           0.2625,
           0.475
          ],
          "y": [
           0,
           0.08163265306122448
          ]
         },
         "labels": [
          1,
          0
         ],
         "name": "Y",
         "type": "pie",
         "values": [
          7210,
          5474
         ]
        }
       ],
       "layout": {
        "annotations": [
         {
          "font": {
           "size": 16
          },
          "showarrow": false,
          "text": "destination",
          "x": 0.10625,
          "xanchor": "center",
          "xref": "paper",
          "y": 0.9999999999999999,
          "yanchor": "bottom",
          "yref": "paper"
         },
         {
          "font": {
           "size": 16
          },
          "showarrow": false,
          "text": "passanger",
          "x": 0.36875,
          "xanchor": "center",
          "xref": "paper",
          "y": 0.9999999999999999,
          "yanchor": "bottom",
          "yref": "paper"
         },
         {
          "font": {
           "size": 16
          },
          "showarrow": false,
          "text": "weather",
          "x": 0.6312500000000001,
          "xanchor": "center",
          "xref": "paper",
          "y": 0.9999999999999999,
          "yanchor": "bottom",
          "yref": "paper"
         },
         {
          "font": {
           "size": 16
          },
          "showarrow": false,
          "text": "temperature",
          "x": 0.89375,
          "xanchor": "center",
          "xref": "paper",
          "y": 0.9999999999999999,
          "yanchor": "bottom",
          "yref": "paper"
         },
         {
          "font": {
           "size": 16
          },
          "showarrow": false,
          "text": "time",
          "x": 0.10625,
          "xanchor": "center",
          "xref": "paper",
          "y": 0.8469387755102039,
          "yanchor": "bottom",
          "yref": "paper"
         },
         {
          "font": {
           "size": 16
          },
          "showarrow": false,
          "text": "coupon",
          "x": 0.36875,
          "xanchor": "center",
          "xref": "paper",
          "y": 0.8469387755102039,
          "yanchor": "bottom",
          "yref": "paper"
         },
         {
          "font": {
           "size": 16
          },
          "showarrow": false,
          "text": "expiration",
          "x": 0.6312500000000001,
          "xanchor": "center",
          "xref": "paper",
          "y": 0.8469387755102039,
          "yanchor": "bottom",
          "yref": "paper"
         },
         {
          "font": {
           "size": 16
          },
          "showarrow": false,
          "text": "gender",
          "x": 0.89375,
          "xanchor": "center",
          "xref": "paper",
          "y": 0.8469387755102039,
          "yanchor": "bottom",
          "yref": "paper"
         },
         {
          "font": {
           "size": 16
          },
          "showarrow": false,
          "text": "age",
          "x": 0.10625,
          "xanchor": "center",
          "xref": "paper",
          "y": 0.6938775510204082,
          "yanchor": "bottom",
          "yref": "paper"
         },
         {
          "font": {
           "size": 16
          },
          "showarrow": false,
          "text": "maritalStatus",
          "x": 0.36875,
          "xanchor": "center",
          "xref": "paper",
          "y": 0.6938775510204082,
          "yanchor": "bottom",
          "yref": "paper"
         },
         {
          "font": {
           "size": 16
          },
          "showarrow": false,
          "text": "has_children",
          "x": 0.6312500000000001,
          "xanchor": "center",
          "xref": "paper",
          "y": 0.6938775510204082,
          "yanchor": "bottom",
          "yref": "paper"
         },
         {
          "font": {
           "size": 16
          },
          "showarrow": false,
          "text": "education",
          "x": 0.89375,
          "xanchor": "center",
          "xref": "paper",
          "y": 0.6938775510204082,
          "yanchor": "bottom",
          "yref": "paper"
         },
         {
          "font": {
           "size": 16
          },
          "showarrow": false,
          "text": "occupation",
          "x": 0.10625,
          "xanchor": "center",
          "xref": "paper",
          "y": 0.5408163265306122,
          "yanchor": "bottom",
          "yref": "paper"
         },
         {
          "font": {
           "size": 16
          },
          "showarrow": false,
          "text": "income",
          "x": 0.36875,
          "xanchor": "center",
          "xref": "paper",
          "y": 0.5408163265306122,
          "yanchor": "bottom",
          "yref": "paper"
         },
         {
          "font": {
           "size": 16
          },
          "showarrow": false,
          "text": "car",
          "x": 0.6312500000000001,
          "xanchor": "center",
          "xref": "paper",
          "y": 0.5408163265306122,
          "yanchor": "bottom",
          "yref": "paper"
         },
         {
          "font": {
           "size": 16
          },
          "showarrow": false,
          "text": "Bar",
          "x": 0.89375,
          "xanchor": "center",
          "xref": "paper",
          "y": 0.5408163265306122,
          "yanchor": "bottom",
          "yref": "paper"
         },
         {
          "font": {
           "size": 16
          },
          "showarrow": false,
          "text": "CoffeeHouse",
          "x": 0.10625,
          "xanchor": "center",
          "xref": "paper",
          "y": 0.3877551020408163,
          "yanchor": "bottom",
          "yref": "paper"
         },
         {
          "font": {
           "size": 16
          },
          "showarrow": false,
          "text": "CarryAway",
          "x": 0.36875,
          "xanchor": "center",
          "xref": "paper",
          "y": 0.3877551020408163,
          "yanchor": "bottom",
          "yref": "paper"
         },
         {
          "font": {
           "size": 16
          },
          "showarrow": false,
          "text": "RestaurantLessThan20",
          "x": 0.6312500000000001,
          "xanchor": "center",
          "xref": "paper",
          "y": 0.3877551020408163,
          "yanchor": "bottom",
          "yref": "paper"
         },
         {
          "font": {
           "size": 16
          },
          "showarrow": false,
          "text": "Restaurant20To50",
          "x": 0.89375,
          "xanchor": "center",
          "xref": "paper",
          "y": 0.3877551020408163,
          "yanchor": "bottom",
          "yref": "paper"
         },
         {
          "font": {
           "size": 16
          },
          "showarrow": false,
          "text": "toCoupon_GEQ5min",
          "x": 0.10625,
          "xanchor": "center",
          "xref": "paper",
          "y": 0.2346938775510204,
          "yanchor": "bottom",
          "yref": "paper"
         },
         {
          "font": {
           "size": 16
          },
          "showarrow": false,
          "text": "toCoupon_GEQ15min",
          "x": 0.36875,
          "xanchor": "center",
          "xref": "paper",
          "y": 0.2346938775510204,
          "yanchor": "bottom",
          "yref": "paper"
         },
         {
          "font": {
           "size": 16
          },
          "showarrow": false,
          "text": "toCoupon_GEQ25min",
          "x": 0.6312500000000001,
          "xanchor": "center",
          "xref": "paper",
          "y": 0.2346938775510204,
          "yanchor": "bottom",
          "yref": "paper"
         },
         {
          "font": {
           "size": 16
          },
          "showarrow": false,
          "text": "direction_same",
          "x": 0.89375,
          "xanchor": "center",
          "xref": "paper",
          "y": 0.2346938775510204,
          "yanchor": "bottom",
          "yref": "paper"
         },
         {
          "font": {
           "size": 16
          },
          "showarrow": false,
          "text": "direction_opp",
          "x": 0.10625,
          "xanchor": "center",
          "xref": "paper",
          "y": 0.08163265306122448,
          "yanchor": "bottom",
          "yref": "paper"
         },
         {
          "font": {
           "size": 16
          },
          "showarrow": false,
          "text": "Y",
          "x": 0.36875,
          "xanchor": "center",
          "xref": "paper",
          "y": 0.08163265306122448,
          "yanchor": "bottom",
          "yref": "paper"
         }
        ],
        "height": 2000,
        "template": {
         "data": {
          "bar": [
           {
            "error_x": {
             "color": "#2a3f5f"
            },
            "error_y": {
             "color": "#2a3f5f"
            },
            "marker": {
             "line": {
              "color": "#E5ECF6",
              "width": 0.5
             },
             "pattern": {
              "fillmode": "overlay",
              "size": 10,
              "solidity": 0.2
             }
            },
            "type": "bar"
           }
          ],
          "barpolar": [
           {
            "marker": {
             "line": {
              "color": "#E5ECF6",
              "width": 0.5
             },
             "pattern": {
              "fillmode": "overlay",
              "size": 10,
              "solidity": 0.2
             }
            },
            "type": "barpolar"
           }
          ],
          "carpet": [
           {
            "aaxis": {
             "endlinecolor": "#2a3f5f",
             "gridcolor": "white",
             "linecolor": "white",
             "minorgridcolor": "white",
             "startlinecolor": "#2a3f5f"
            },
            "baxis": {
             "endlinecolor": "#2a3f5f",
             "gridcolor": "white",
             "linecolor": "white",
             "minorgridcolor": "white",
             "startlinecolor": "#2a3f5f"
            },
            "type": "carpet"
           }
          ],
          "choropleth": [
           {
            "colorbar": {
             "outlinewidth": 0,
             "ticks": ""
            },
            "type": "choropleth"
           }
          ],
          "contour": [
           {
            "colorbar": {
             "outlinewidth": 0,
             "ticks": ""
            },
            "colorscale": [
             [
              0,
              "#0d0887"
             ],
             [
              0.1111111111111111,
              "#46039f"
             ],
             [
              0.2222222222222222,
              "#7201a8"
             ],
             [
              0.3333333333333333,
              "#9c179e"
             ],
             [
              0.4444444444444444,
              "#bd3786"
             ],
             [
              0.5555555555555556,
              "#d8576b"
             ],
             [
              0.6666666666666666,
              "#ed7953"
             ],
             [
              0.7777777777777778,
              "#fb9f3a"
             ],
             [
              0.8888888888888888,
              "#fdca26"
             ],
             [
              1,
              "#f0f921"
             ]
            ],
            "type": "contour"
           }
          ],
          "contourcarpet": [
           {
            "colorbar": {
             "outlinewidth": 0,
             "ticks": ""
            },
            "type": "contourcarpet"
           }
          ],
          "heatmap": [
           {
            "colorbar": {
             "outlinewidth": 0,
             "ticks": ""
            },
            "colorscale": [
             [
              0,
              "#0d0887"
             ],
             [
              0.1111111111111111,
              "#46039f"
             ],
             [
              0.2222222222222222,
              "#7201a8"
             ],
             [
              0.3333333333333333,
              "#9c179e"
             ],
             [
              0.4444444444444444,
              "#bd3786"
             ],
             [
              0.5555555555555556,
              "#d8576b"
             ],
             [
              0.6666666666666666,
              "#ed7953"
             ],
             [
              0.7777777777777778,
              "#fb9f3a"
             ],
             [
              0.8888888888888888,
              "#fdca26"
             ],
             [
              1,
              "#f0f921"
             ]
            ],
            "type": "heatmap"
           }
          ],
          "heatmapgl": [
           {
            "colorbar": {
             "outlinewidth": 0,
             "ticks": ""
            },
            "colorscale": [
             [
              0,
              "#0d0887"
             ],
             [
              0.1111111111111111,
              "#46039f"
             ],
             [
              0.2222222222222222,
              "#7201a8"
             ],
             [
              0.3333333333333333,
              "#9c179e"
             ],
             [
              0.4444444444444444,
              "#bd3786"
             ],
             [
              0.5555555555555556,
              "#d8576b"
             ],
             [
              0.6666666666666666,
              "#ed7953"
             ],
             [
              0.7777777777777778,
              "#fb9f3a"
             ],
             [
              0.8888888888888888,
              "#fdca26"
             ],
             [
              1,
              "#f0f921"
             ]
            ],
            "type": "heatmapgl"
           }
          ],
          "histogram": [
           {
            "marker": {
             "pattern": {
              "fillmode": "overlay",
              "size": 10,
              "solidity": 0.2
             }
            },
            "type": "histogram"
           }
          ],
          "histogram2d": [
           {
            "colorbar": {
             "outlinewidth": 0,
             "ticks": ""
            },
            "colorscale": [
             [
              0,
              "#0d0887"
             ],
             [
              0.1111111111111111,
              "#46039f"
             ],
             [
              0.2222222222222222,
              "#7201a8"
             ],
             [
              0.3333333333333333,
              "#9c179e"
             ],
             [
              0.4444444444444444,
              "#bd3786"
             ],
             [
              0.5555555555555556,
              "#d8576b"
             ],
             [
              0.6666666666666666,
              "#ed7953"
             ],
             [
              0.7777777777777778,
              "#fb9f3a"
             ],
             [
              0.8888888888888888,
              "#fdca26"
             ],
             [
              1,
              "#f0f921"
             ]
            ],
            "type": "histogram2d"
           }
          ],
          "histogram2dcontour": [
           {
            "colorbar": {
             "outlinewidth": 0,
             "ticks": ""
            },
            "colorscale": [
             [
              0,
              "#0d0887"
             ],
             [
              0.1111111111111111,
              "#46039f"
             ],
             [
              0.2222222222222222,
              "#7201a8"
             ],
             [
              0.3333333333333333,
              "#9c179e"
             ],
             [
              0.4444444444444444,
              "#bd3786"
             ],
             [
              0.5555555555555556,
              "#d8576b"
             ],
             [
              0.6666666666666666,
              "#ed7953"
             ],
             [
              0.7777777777777778,
              "#fb9f3a"
             ],
             [
              0.8888888888888888,
              "#fdca26"
             ],
             [
              1,
              "#f0f921"
             ]
            ],
            "type": "histogram2dcontour"
           }
          ],
          "mesh3d": [
           {
            "colorbar": {
             "outlinewidth": 0,
             "ticks": ""
            },
            "type": "mesh3d"
           }
          ],
          "parcoords": [
           {
            "line": {
             "colorbar": {
              "outlinewidth": 0,
              "ticks": ""
             }
            },
            "type": "parcoords"
           }
          ],
          "pie": [
           {
            "automargin": true,
            "type": "pie"
           }
          ],
          "scatter": [
           {
            "fillpattern": {
             "fillmode": "overlay",
             "size": 10,
             "solidity": 0.2
            },
            "type": "scatter"
           }
          ],
          "scatter3d": [
           {
            "line": {
             "colorbar": {
              "outlinewidth": 0,
              "ticks": ""
             }
            },
            "marker": {
             "colorbar": {
              "outlinewidth": 0,
              "ticks": ""
             }
            },
            "type": "scatter3d"
           }
          ],
          "scattercarpet": [
           {
            "marker": {
             "colorbar": {
              "outlinewidth": 0,
              "ticks": ""
             }
            },
            "type": "scattercarpet"
           }
          ],
          "scattergeo": [
           {
            "marker": {
             "colorbar": {
              "outlinewidth": 0,
              "ticks": ""
             }
            },
            "type": "scattergeo"
           }
          ],
          "scattergl": [
           {
            "marker": {
             "colorbar": {
              "outlinewidth": 0,
              "ticks": ""
             }
            },
            "type": "scattergl"
           }
          ],
          "scattermapbox": [
           {
            "marker": {
             "colorbar": {
              "outlinewidth": 0,
              "ticks": ""
             }
            },
            "type": "scattermapbox"
           }
          ],
          "scatterpolar": [
           {
            "marker": {
             "colorbar": {
              "outlinewidth": 0,
              "ticks": ""
             }
            },
            "type": "scatterpolar"
           }
          ],
          "scatterpolargl": [
           {
            "marker": {
             "colorbar": {
              "outlinewidth": 0,
              "ticks": ""
             }
            },
            "type": "scatterpolargl"
           }
          ],
          "scatterternary": [
           {
            "marker": {
             "colorbar": {
              "outlinewidth": 0,
              "ticks": ""
             }
            },
            "type": "scatterternary"
           }
          ],
          "surface": [
           {
            "colorbar": {
             "outlinewidth": 0,
             "ticks": ""
            },
            "colorscale": [
             [
              0,
              "#0d0887"
             ],
             [
              0.1111111111111111,
              "#46039f"
             ],
             [
              0.2222222222222222,
              "#7201a8"
             ],
             [
              0.3333333333333333,
              "#9c179e"
             ],
             [
              0.4444444444444444,
              "#bd3786"
             ],
             [
              0.5555555555555556,
              "#d8576b"
             ],
             [
              0.6666666666666666,
              "#ed7953"
             ],
             [
              0.7777777777777778,
              "#fb9f3a"
             ],
             [
              0.8888888888888888,
              "#fdca26"
             ],
             [
              1,
              "#f0f921"
             ]
            ],
            "type": "surface"
           }
          ],
          "table": [
           {
            "cells": {
             "fill": {
              "color": "#EBF0F8"
             },
             "line": {
              "color": "white"
             }
            },
            "header": {
             "fill": {
              "color": "#C8D4E3"
             },
             "line": {
              "color": "white"
             }
            },
            "type": "table"
           }
          ]
         },
         "layout": {
          "annotationdefaults": {
           "arrowcolor": "#2a3f5f",
           "arrowhead": 0,
           "arrowwidth": 1
          },
          "autotypenumbers": "strict",
          "coloraxis": {
           "colorbar": {
            "outlinewidth": 0,
            "ticks": ""
           }
          },
          "colorscale": {
           "diverging": [
            [
             0,
             "#8e0152"
            ],
            [
             0.1,
             "#c51b7d"
            ],
            [
             0.2,
             "#de77ae"
            ],
            [
             0.3,
             "#f1b6da"
            ],
            [
             0.4,
             "#fde0ef"
            ],
            [
             0.5,
             "#f7f7f7"
            ],
            [
             0.6,
             "#e6f5d0"
            ],
            [
             0.7,
             "#b8e186"
            ],
            [
             0.8,
             "#7fbc41"
            ],
            [
             0.9,
             "#4d9221"
            ],
            [
             1,
             "#276419"
            ]
           ],
           "sequential": [
            [
             0,
             "#0d0887"
            ],
            [
             0.1111111111111111,
             "#46039f"
            ],
            [
             0.2222222222222222,
             "#7201a8"
            ],
            [
             0.3333333333333333,
             "#9c179e"
            ],
            [
             0.4444444444444444,
             "#bd3786"
            ],
            [
             0.5555555555555556,
             "#d8576b"
            ],
            [
             0.6666666666666666,
             "#ed7953"
            ],
            [
             0.7777777777777778,
             "#fb9f3a"
            ],
            [
             0.8888888888888888,
             "#fdca26"
            ],
            [
             1,
             "#f0f921"
            ]
           ],
           "sequentialminus": [
            [
             0,
             "#0d0887"
            ],
            [
             0.1111111111111111,
             "#46039f"
            ],
            [
             0.2222222222222222,
             "#7201a8"
            ],
            [
             0.3333333333333333,
             "#9c179e"
            ],
            [
             0.4444444444444444,
             "#bd3786"
            ],
            [
             0.5555555555555556,
             "#d8576b"
            ],
            [
             0.6666666666666666,
             "#ed7953"
            ],
            [
             0.7777777777777778,
             "#fb9f3a"
            ],
            [
             0.8888888888888888,
             "#fdca26"
            ],
            [
             1,
             "#f0f921"
            ]
           ]
          },
          "colorway": [
           "#636efa",
           "#EF553B",
           "#00cc96",
           "#ab63fa",
           "#FFA15A",
           "#19d3f3",
           "#FF6692",
           "#B6E880",
           "#FF97FF",
           "#FECB52"
          ],
          "font": {
           "color": "#2a3f5f"
          },
          "geo": {
           "bgcolor": "white",
           "lakecolor": "white",
           "landcolor": "#E5ECF6",
           "showlakes": true,
           "showland": true,
           "subunitcolor": "white"
          },
          "hoverlabel": {
           "align": "left"
          },
          "hovermode": "closest",
          "mapbox": {
           "style": "light"
          },
          "paper_bgcolor": "white",
          "plot_bgcolor": "#E5ECF6",
          "polar": {
           "angularaxis": {
            "gridcolor": "white",
            "linecolor": "white",
            "ticks": ""
           },
           "bgcolor": "#E5ECF6",
           "radialaxis": {
            "gridcolor": "white",
            "linecolor": "white",
            "ticks": ""
           }
          },
          "scene": {
           "xaxis": {
            "backgroundcolor": "#E5ECF6",
            "gridcolor": "white",
            "gridwidth": 2,
            "linecolor": "white",
            "showbackground": true,
            "ticks": "",
            "zerolinecolor": "white"
           },
           "yaxis": {
            "backgroundcolor": "#E5ECF6",
            "gridcolor": "white",
            "gridwidth": 2,
            "linecolor": "white",
            "showbackground": true,
            "ticks": "",
            "zerolinecolor": "white"
           },
           "zaxis": {
            "backgroundcolor": "#E5ECF6",
            "gridcolor": "white",
            "gridwidth": 2,
            "linecolor": "white",
            "showbackground": true,
            "ticks": "",
            "zerolinecolor": "white"
           }
          },
          "shapedefaults": {
           "line": {
            "color": "#2a3f5f"
           }
          },
          "ternary": {
           "aaxis": {
            "gridcolor": "white",
            "linecolor": "white",
            "ticks": ""
           },
           "baxis": {
            "gridcolor": "white",
            "linecolor": "white",
            "ticks": ""
           },
           "bgcolor": "#E5ECF6",
           "caxis": {
            "gridcolor": "white",
            "linecolor": "white",
            "ticks": ""
           }
          },
          "title": {
           "x": 0.05
          },
          "xaxis": {
           "automargin": true,
           "gridcolor": "white",
           "linecolor": "white",
           "ticks": "",
           "title": {
            "standoff": 15
           },
           "zerolinecolor": "white",
           "zerolinewidth": 2
          },
          "yaxis": {
           "automargin": true,
           "gridcolor": "white",
           "linecolor": "white",
           "ticks": "",
           "title": {
            "standoff": 15
           },
           "zerolinecolor": "white",
           "zerolinewidth": 2
          }
         }
        },
        "title": {
         "text": "分布饼图"
        },
        "width": 1000
       }
      },
      "text/html": [
       "<div>                            <div id=\"00938cd5-8031-4456-84a1-bae73af3e29e\" class=\"plotly-graph-div\" style=\"height:2000px; width:1000px;\"></div>            <script type=\"text/javascript\">                require([\"plotly\"], function(Plotly) {                    window.PLOTLYENV=window.PLOTLYENV || {};                                    if (document.getElementById(\"00938cd5-8031-4456-84a1-bae73af3e29e\")) {                    Plotly.newPlot(                        \"00938cd5-8031-4456-84a1-bae73af3e29e\",                        [{\"labels\":[\"No Urgent Place\",\"Home\",\"Work\"],\"name\":\"destination\",\"values\":[6283,3237,3164],\"type\":\"pie\",\"domain\":{\"x\":[0.0,0.2125],\"y\":[0.9183673469387754,0.9999999999999999]}},{\"labels\":[\"Alone\",\"Friend(s)\",\"Partner\",\"Kid(s)\"],\"name\":\"passanger\",\"values\":[7305,3298,1075,1006],\"type\":\"pie\",\"domain\":{\"x\":[0.2625,0.475],\"y\":[0.9183673469387754,0.9999999999999999]}},{\"labels\":[\"Sunny\",\"Snowy\",\"Rainy\"],\"name\":\"weather\",\"values\":[10069,1405,1210],\"type\":\"pie\",\"domain\":{\"x\":[0.525,0.7375],\"y\":[0.9183673469387754,0.9999999999999999]}},{\"labels\":[26.67,12.78,-1.11],\"name\":\"temperature\",\"values\":[6528,3840,2316],\"type\":\"pie\",\"domain\":{\"x\":[0.7875,1.0],\"y\":[0.9183673469387754,0.9999999999999999]}},{\"labels\":[\"6PM\",\"7AM\",\"10AM\",\"2PM\",\"10PM\"],\"name\":\"time\",\"values\":[3230,3164,2275,2009,2006],\"type\":\"pie\",\"domain\":{\"x\":[0.0,0.2125],\"y\":[0.7653061224489794,0.8469387755102039]}},{\"labels\":[\"Coffee House\",\"Restaurant(\\u003c20)\",\"Carry out & Take away\",\"Bar\",\"Restaurant(20-50)\"],\"name\":\"coupon\",\"values\":[3996,2786,2393,2017,1492],\"type\":\"pie\",\"domain\":{\"x\":[0.2625,0.475],\"y\":[0.7653061224489794,0.8469387755102039]}},{\"labels\":[\"1d\",\"2h\"],\"name\":\"expiration\",\"values\":[7091,5593],\"type\":\"pie\",\"domain\":{\"x\":[0.525,0.7375],\"y\":[0.7653061224489794,0.8469387755102039]}},{\"labels\":[\"Female\",\"Male\"],\"name\":\"gender\",\"values\":[6511,6173],\"type\":\"pie\",\"domain\":{\"x\":[0.7875,1.0],\"y\":[0.7653061224489794,0.8469387755102039]}},{\"labels\":[\"21\",\"26\",\"31\",\"50plus\",\"36\",\"41\",\"46\",\"below21\"],\"name\":\"age\",\"values\":[2653,2559,2039,1788,1319,1093,686,547],\"type\":\"pie\",\"domain\":{\"x\":[0.0,0.2125],\"y\":[0.6122448979591837,0.6938775510204082]}},{\"labels\":[\"Married partner\",\"Single\",\"Unmarried partner\",\"Divorced\",\"Widowed\"],\"name\":\"maritalStatus\",\"values\":[5100,4752,2186,516,130],\"type\":\"pie\",\"domain\":{\"x\":[0.2625,0.475],\"y\":[0.6122448979591837,0.6938775510204082]}},{\"labels\":[0,1],\"name\":\"has_children\",\"values\":[7431,5253],\"type\":\"pie\",\"domain\":{\"x\":[0.525,0.7375],\"y\":[0.6122448979591837,0.6938775510204082]}},{\"labels\":[\"Some college - no degree\",\"Bachelors degree\",\"Graduate degree (Masters or Doctorate)\",\"Associates degree\",\"High School Graduate\",\"Some High School\"],\"name\":\"education\",\"values\":[4351,4335,1852,1153,905,88],\"type\":\"pie\",\"domain\":{\"x\":[0.7875,1.0],\"y\":[0.6122448979591837,0.6938775510204082]}},{\"labels\":[\"Unemployed\",\"Student\",\"Computer & Mathematical\",\"Sales & Related\",\"Education&Training&Library\",\"Management\",\"Office & Administrative Support\",\"Arts Design Entertainment Sports & Media\",\"Business & Financial\",\"Retired\",\"Food Preparation & Serving Related\",\"Healthcare Practitioners & Technical\",\"Healthcare Support\",\"Community & Social Services\",\"Legal\",\"Transportation & Material Moving\",\"Personal Care & Service\",\"Protective Service\",\"Architecture & Engineering\",\"Life Physical Social Science\",\"Construction & Extraction\",\"Installation Maintenance & Repair\",\"Production Occupations\",\"Building & Grounds Cleaning & Maintenance\",\"Farming Fishing & Forestry\"],\"name\":\"occupation\",\"values\":[1870,1584,1408,1093,943,838,639,629,544,495,298,244,242,241,219,218,175,175,175,170,154,133,110,44,43],\"type\":\"pie\",\"domain\":{\"x\":[0.0,0.2125],\"y\":[0.4591836734693877,0.5408163265306122]}},{\"labels\":[\"$25000 - $37499\",\"$12500 - $24999\",\"$37500 - $49999\",\"$100000 or More\",\"$50000 - $62499\",\"Less than $12500\",\"$87500 - $99999\",\"$75000 - $87499\",\"$62500 - $74999\"],\"name\":\"income\",\"values\":[2013,1831,1805,1736,1659,1042,895,857,846],\"type\":\"pie\",\"domain\":{\"x\":[0.2625,0.475],\"y\":[0.4591836734693877,0.5408163265306122]}},{\"labels\":[\"Scooter and motorcycle\",\"Mazda5\",\"do not drive\",\"Car that is too old to install Onstar :D\",\"crossover\"],\"name\":\"car\",\"values\":[22,22,22,21,21],\"type\":\"pie\",\"domain\":{\"x\":[0.525,0.7375],\"y\":[0.4591836734693877,0.5408163265306122]}},{\"labels\":[\"never\",\"less1\",\"1~3\",\"4~8\",\"gt8\"],\"name\":\"Bar\",\"values\":[5197,3482,2473,1076,349],\"type\":\"pie\",\"domain\":{\"x\":[0.7875,1.0],\"y\":[0.4591836734693877,0.5408163265306122]}},{\"labels\":[\"less1\",\"1~3\",\"never\",\"4~8\",\"gt8\"],\"name\":\"CoffeeHouse\",\"values\":[3385,3225,2962,1784,1111],\"type\":\"pie\",\"domain\":{\"x\":[0.0,0.2125],\"y\":[0.30612244897959184,0.3877551020408163]}},{\"labels\":[\"1~3\",\"4~8\",\"less1\",\"gt8\",\"never\"],\"name\":\"CarryAway\",\"values\":[4672,4258,1856,1594,153],\"type\":\"pie\",\"domain\":{\"x\":[0.2625,0.475],\"y\":[0.30612244897959184,0.3877551020408163]}},{\"labels\":[\"1~3\",\"4~8\",\"less1\",\"gt8\",\"never\"],\"name\":\"RestaurantLessThan20\",\"values\":[5376,3580,2093,1285,220],\"type\":\"pie\",\"domain\":{\"x\":[0.525,0.7375],\"y\":[0.30612244897959184,0.3877551020408163]}},{\"labels\":[\"less1\",\"1~3\",\"never\",\"4~8\",\"gt8\"],\"name\":\"Restaurant20To50\",\"values\":[6077,3290,2136,728,264],\"type\":\"pie\",\"domain\":{\"x\":[0.7875,1.0],\"y\":[0.30612244897959184,0.3877551020408163]}},{\"labels\":[1],\"name\":\"toCoupon_GEQ5min\",\"values\":[12684],\"type\":\"pie\",\"domain\":{\"x\":[0.0,0.2125],\"y\":[0.15306122448979592,0.2346938775510204]}},{\"labels\":[1,0],\"name\":\"toCoupon_GEQ15min\",\"values\":[7122,5562],\"type\":\"pie\",\"domain\":{\"x\":[0.2625,0.475],\"y\":[0.15306122448979592,0.2346938775510204]}},{\"labels\":[0,1],\"name\":\"toCoupon_GEQ25min\",\"values\":[11173,1511],\"type\":\"pie\",\"domain\":{\"x\":[0.525,0.7375],\"y\":[0.15306122448979592,0.2346938775510204]}},{\"labels\":[0,1],\"name\":\"direction_same\",\"values\":[9960,2724],\"type\":\"pie\",\"domain\":{\"x\":[0.7875,1.0],\"y\":[0.15306122448979592,0.2346938775510204]}},{\"labels\":[1,0],\"name\":\"direction_opp\",\"values\":[9960,2724],\"type\":\"pie\",\"domain\":{\"x\":[0.0,0.2125],\"y\":[0.0,0.08163265306122448]}},{\"labels\":[1,0],\"name\":\"Y\",\"values\":[7210,5474],\"type\":\"pie\",\"domain\":{\"x\":[0.2625,0.475],\"y\":[0.0,0.08163265306122448]}}],                        {\"template\":{\"data\":{\"histogram2dcontour\":[{\"type\":\"histogram2dcontour\",\"colorbar\":{\"outlinewidth\":0,\"ticks\":\"\"},\"colorscale\":[[0.0,\"#0d0887\"],[0.1111111111111111,\"#46039f\"],[0.2222222222222222,\"#7201a8\"],[0.3333333333333333,\"#9c179e\"],[0.4444444444444444,\"#bd3786\"],[0.5555555555555556,\"#d8576b\"],[0.6666666666666666,\"#ed7953\"],[0.7777777777777778,\"#fb9f3a\"],[0.8888888888888888,\"#fdca26\"],[1.0,\"#f0f921\"]]}],\"choropleth\":[{\"type\":\"choropleth\",\"colorbar\":{\"outlinewidth\":0,\"ticks\":\"\"}}],\"histogram2d\":[{\"type\":\"histogram2d\",\"colorbar\":{\"outlinewidth\":0,\"ticks\":\"\"},\"colorscale\":[[0.0,\"#0d0887\"],[0.1111111111111111,\"#46039f\"],[0.2222222222222222,\"#7201a8\"],[0.3333333333333333,\"#9c179e\"],[0.4444444444444444,\"#bd3786\"],[0.5555555555555556,\"#d8576b\"],[0.6666666666666666,\"#ed7953\"],[0.7777777777777778,\"#fb9f3a\"],[0.8888888888888888,\"#fdca26\"],[1.0,\"#f0f921\"]]}],\"heatmap\":[{\"type\":\"heatmap\",\"colorbar\":{\"outlinewidth\":0,\"ticks\":\"\"},\"colorscale\":[[0.0,\"#0d0887\"],[0.1111111111111111,\"#46039f\"],[0.2222222222222222,\"#7201a8\"],[0.3333333333333333,\"#9c179e\"],[0.4444444444444444,\"#bd3786\"],[0.5555555555555556,\"#d8576b\"],[0.6666666666666666,\"#ed7953\"],[0.7777777777777778,\"#fb9f3a\"],[0.8888888888888888,\"#fdca26\"],[1.0,\"#f0f921\"]]}],\"heatmapgl\":[{\"type\":\"heatmapgl\",\"colorbar\":{\"outlinewidth\":0,\"ticks\":\"\"},\"colorscale\":[[0.0,\"#0d0887\"],[0.1111111111111111,\"#46039f\"],[0.2222222222222222,\"#7201a8\"],[0.3333333333333333,\"#9c179e\"],[0.4444444444444444,\"#bd3786\"],[0.5555555555555556,\"#d8576b\"],[0.6666666666666666,\"#ed7953\"],[0.7777777777777778,\"#fb9f3a\"],[0.8888888888888888,\"#fdca26\"],[1.0,\"#f0f921\"]]}],\"contourcarpet\":[{\"type\":\"contourcarpet\",\"colorbar\":{\"outlinewidth\":0,\"ticks\":\"\"}}],\"contour\":[{\"type\":\"contour\",\"colorbar\":{\"outlinewidth\":0,\"ticks\":\"\"},\"colorscale\":[[0.0,\"#0d0887\"],[0.1111111111111111,\"#46039f\"],[0.2222222222222222,\"#7201a8\"],[0.3333333333333333,\"#9c179e\"],[0.4444444444444444,\"#bd3786\"],[0.5555555555555556,\"#d8576b\"],[0.6666666666666666,\"#ed7953\"],[0.7777777777777778,\"#fb9f3a\"],[0.8888888888888888,\"#fdca26\"],[1.0,\"#f0f921\"]]}],\"surface\":[{\"type\":\"surface\",\"colorbar\":{\"outlinewidth\":0,\"ticks\":\"\"},\"colorscale\":[[0.0,\"#0d0887\"],[0.1111111111111111,\"#46039f\"],[0.2222222222222222,\"#7201a8\"],[0.3333333333333333,\"#9c179e\"],[0.4444444444444444,\"#bd3786\"],[0.5555555555555556,\"#d8576b\"],[0.6666666666666666,\"#ed7953\"],[0.7777777777777778,\"#fb9f3a\"],[0.8888888888888888,\"#fdca26\"],[1.0,\"#f0f921\"]]}],\"mesh3d\":[{\"type\":\"mesh3d\",\"colorbar\":{\"outlinewidth\":0,\"ticks\":\"\"}}],\"scatter\":[{\"fillpattern\":{\"fillmode\":\"overlay\",\"size\":10,\"solidity\":0.2},\"type\":\"scatter\"}],\"parcoords\":[{\"type\":\"parcoords\",\"line\":{\"colorbar\":{\"outlinewidth\":0,\"ticks\":\"\"}}}],\"scatterpolargl\":[{\"type\":\"scatterpolargl\",\"marker\":{\"colorbar\":{\"outlinewidth\":0,\"ticks\":\"\"}}}],\"bar\":[{\"error_x\":{\"color\":\"#2a3f5f\"},\"error_y\":{\"color\":\"#2a3f5f\"},\"marker\":{\"line\":{\"color\":\"#E5ECF6\",\"width\":0.5},\"pattern\":{\"fillmode\":\"overlay\",\"size\":10,\"solidity\":0.2}},\"type\":\"bar\"}],\"scattergeo\":[{\"type\":\"scattergeo\",\"marker\":{\"colorbar\":{\"outlinewidth\":0,\"ticks\":\"\"}}}],\"scatterpolar\":[{\"type\":\"scatterpolar\",\"marker\":{\"colorbar\":{\"outlinewidth\":0,\"ticks\":\"\"}}}],\"histogram\":[{\"marker\":{\"pattern\":{\"fillmode\":\"overlay\",\"size\":10,\"solidity\":0.2}},\"type\":\"histogram\"}],\"scattergl\":[{\"type\":\"scattergl\",\"marker\":{\"colorbar\":{\"outlinewidth\":0,\"ticks\":\"\"}}}],\"scatter3d\":[{\"type\":\"scatter3d\",\"line\":{\"colorbar\":{\"outlinewidth\":0,\"ticks\":\"\"}},\"marker\":{\"colorbar\":{\"outlinewidth\":0,\"ticks\":\"\"}}}],\"scattermapbox\":[{\"type\":\"scattermapbox\",\"marker\":{\"colorbar\":{\"outlinewidth\":0,\"ticks\":\"\"}}}],\"scatterternary\":[{\"type\":\"scatterternary\",\"marker\":{\"colorbar\":{\"outlinewidth\":0,\"ticks\":\"\"}}}],\"scattercarpet\":[{\"type\":\"scattercarpet\",\"marker\":{\"colorbar\":{\"outlinewidth\":0,\"ticks\":\"\"}}}],\"carpet\":[{\"aaxis\":{\"endlinecolor\":\"#2a3f5f\",\"gridcolor\":\"white\",\"linecolor\":\"white\",\"minorgridcolor\":\"white\",\"startlinecolor\":\"#2a3f5f\"},\"baxis\":{\"endlinecolor\":\"#2a3f5f\",\"gridcolor\":\"white\",\"linecolor\":\"white\",\"minorgridcolor\":\"white\",\"startlinecolor\":\"#2a3f5f\"},\"type\":\"carpet\"}],\"table\":[{\"cells\":{\"fill\":{\"color\":\"#EBF0F8\"},\"line\":{\"color\":\"white\"}},\"header\":{\"fill\":{\"color\":\"#C8D4E3\"},\"line\":{\"color\":\"white\"}},\"type\":\"table\"}],\"barpolar\":[{\"marker\":{\"line\":{\"color\":\"#E5ECF6\",\"width\":0.5},\"pattern\":{\"fillmode\":\"overlay\",\"size\":10,\"solidity\":0.2}},\"type\":\"barpolar\"}],\"pie\":[{\"automargin\":true,\"type\":\"pie\"}]},\"layout\":{\"autotypenumbers\":\"strict\",\"colorway\":[\"#636efa\",\"#EF553B\",\"#00cc96\",\"#ab63fa\",\"#FFA15A\",\"#19d3f3\",\"#FF6692\",\"#B6E880\",\"#FF97FF\",\"#FECB52\"],\"font\":{\"color\":\"#2a3f5f\"},\"hovermode\":\"closest\",\"hoverlabel\":{\"align\":\"left\"},\"paper_bgcolor\":\"white\",\"plot_bgcolor\":\"#E5ECF6\",\"polar\":{\"bgcolor\":\"#E5ECF6\",\"angularaxis\":{\"gridcolor\":\"white\",\"linecolor\":\"white\",\"ticks\":\"\"},\"radialaxis\":{\"gridcolor\":\"white\",\"linecolor\":\"white\",\"ticks\":\"\"}},\"ternary\":{\"bgcolor\":\"#E5ECF6\",\"aaxis\":{\"gridcolor\":\"white\",\"linecolor\":\"white\",\"ticks\":\"\"},\"baxis\":{\"gridcolor\":\"white\",\"linecolor\":\"white\",\"ticks\":\"\"},\"caxis\":{\"gridcolor\":\"white\",\"linecolor\":\"white\",\"ticks\":\"\"}},\"coloraxis\":{\"colorbar\":{\"outlinewidth\":0,\"ticks\":\"\"}},\"colorscale\":{\"sequential\":[[0.0,\"#0d0887\"],[0.1111111111111111,\"#46039f\"],[0.2222222222222222,\"#7201a8\"],[0.3333333333333333,\"#9c179e\"],[0.4444444444444444,\"#bd3786\"],[0.5555555555555556,\"#d8576b\"],[0.6666666666666666,\"#ed7953\"],[0.7777777777777778,\"#fb9f3a\"],[0.8888888888888888,\"#fdca26\"],[1.0,\"#f0f921\"]],\"sequentialminus\":[[0.0,\"#0d0887\"],[0.1111111111111111,\"#46039f\"],[0.2222222222222222,\"#7201a8\"],[0.3333333333333333,\"#9c179e\"],[0.4444444444444444,\"#bd3786\"],[0.5555555555555556,\"#d8576b\"],[0.6666666666666666,\"#ed7953\"],[0.7777777777777778,\"#fb9f3a\"],[0.8888888888888888,\"#fdca26\"],[1.0,\"#f0f921\"]],\"diverging\":[[0,\"#8e0152\"],[0.1,\"#c51b7d\"],[0.2,\"#de77ae\"],[0.3,\"#f1b6da\"],[0.4,\"#fde0ef\"],[0.5,\"#f7f7f7\"],[0.6,\"#e6f5d0\"],[0.7,\"#b8e186\"],[0.8,\"#7fbc41\"],[0.9,\"#4d9221\"],[1,\"#276419\"]]},\"xaxis\":{\"gridcolor\":\"white\",\"linecolor\":\"white\",\"ticks\":\"\",\"title\":{\"standoff\":15},\"zerolinecolor\":\"white\",\"automargin\":true,\"zerolinewidth\":2},\"yaxis\":{\"gridcolor\":\"white\",\"linecolor\":\"white\",\"ticks\":\"\",\"title\":{\"standoff\":15},\"zerolinecolor\":\"white\",\"automargin\":true,\"zerolinewidth\":2},\"scene\":{\"xaxis\":{\"backgroundcolor\":\"#E5ECF6\",\"gridcolor\":\"white\",\"linecolor\":\"white\",\"showbackground\":true,\"ticks\":\"\",\"zerolinecolor\":\"white\",\"gridwidth\":2},\"yaxis\":{\"backgroundcolor\":\"#E5ECF6\",\"gridcolor\":\"white\",\"linecolor\":\"white\",\"showbackground\":true,\"ticks\":\"\",\"zerolinecolor\":\"white\",\"gridwidth\":2},\"zaxis\":{\"backgroundcolor\":\"#E5ECF6\",\"gridcolor\":\"white\",\"linecolor\":\"white\",\"showbackground\":true,\"ticks\":\"\",\"zerolinecolor\":\"white\",\"gridwidth\":2}},\"shapedefaults\":{\"line\":{\"color\":\"#2a3f5f\"}},\"annotationdefaults\":{\"arrowcolor\":\"#2a3f5f\",\"arrowhead\":0,\"arrowwidth\":1},\"geo\":{\"bgcolor\":\"white\",\"landcolor\":\"#E5ECF6\",\"subunitcolor\":\"white\",\"showland\":true,\"showlakes\":true,\"lakecolor\":\"white\"},\"title\":{\"x\":0.05},\"mapbox\":{\"style\":\"light\"}}},\"annotations\":[{\"font\":{\"size\":16},\"showarrow\":false,\"text\":\"destination\",\"x\":0.10625,\"xanchor\":\"center\",\"xref\":\"paper\",\"y\":0.9999999999999999,\"yanchor\":\"bottom\",\"yref\":\"paper\"},{\"font\":{\"size\":16},\"showarrow\":false,\"text\":\"passanger\",\"x\":0.36875,\"xanchor\":\"center\",\"xref\":\"paper\",\"y\":0.9999999999999999,\"yanchor\":\"bottom\",\"yref\":\"paper\"},{\"font\":{\"size\":16},\"showarrow\":false,\"text\":\"weather\",\"x\":0.6312500000000001,\"xanchor\":\"center\",\"xref\":\"paper\",\"y\":0.9999999999999999,\"yanchor\":\"bottom\",\"yref\":\"paper\"},{\"font\":{\"size\":16},\"showarrow\":false,\"text\":\"temperature\",\"x\":0.89375,\"xanchor\":\"center\",\"xref\":\"paper\",\"y\":0.9999999999999999,\"yanchor\":\"bottom\",\"yref\":\"paper\"},{\"font\":{\"size\":16},\"showarrow\":false,\"text\":\"time\",\"x\":0.10625,\"xanchor\":\"center\",\"xref\":\"paper\",\"y\":0.8469387755102039,\"yanchor\":\"bottom\",\"yref\":\"paper\"},{\"font\":{\"size\":16},\"showarrow\":false,\"text\":\"coupon\",\"x\":0.36875,\"xanchor\":\"center\",\"xref\":\"paper\",\"y\":0.8469387755102039,\"yanchor\":\"bottom\",\"yref\":\"paper\"},{\"font\":{\"size\":16},\"showarrow\":false,\"text\":\"expiration\",\"x\":0.6312500000000001,\"xanchor\":\"center\",\"xref\":\"paper\",\"y\":0.8469387755102039,\"yanchor\":\"bottom\",\"yref\":\"paper\"},{\"font\":{\"size\":16},\"showarrow\":false,\"text\":\"gender\",\"x\":0.89375,\"xanchor\":\"center\",\"xref\":\"paper\",\"y\":0.8469387755102039,\"yanchor\":\"bottom\",\"yref\":\"paper\"},{\"font\":{\"size\":16},\"showarrow\":false,\"text\":\"age\",\"x\":0.10625,\"xanchor\":\"center\",\"xref\":\"paper\",\"y\":0.6938775510204082,\"yanchor\":\"bottom\",\"yref\":\"paper\"},{\"font\":{\"size\":16},\"showarrow\":false,\"text\":\"maritalStatus\",\"x\":0.36875,\"xanchor\":\"center\",\"xref\":\"paper\",\"y\":0.6938775510204082,\"yanchor\":\"bottom\",\"yref\":\"paper\"},{\"font\":{\"size\":16},\"showarrow\":false,\"text\":\"has_children\",\"x\":0.6312500000000001,\"xanchor\":\"center\",\"xref\":\"paper\",\"y\":0.6938775510204082,\"yanchor\":\"bottom\",\"yref\":\"paper\"},{\"font\":{\"size\":16},\"showarrow\":false,\"text\":\"education\",\"x\":0.89375,\"xanchor\":\"center\",\"xref\":\"paper\",\"y\":0.6938775510204082,\"yanchor\":\"bottom\",\"yref\":\"paper\"},{\"font\":{\"size\":16},\"showarrow\":false,\"text\":\"occupation\",\"x\":0.10625,\"xanchor\":\"center\",\"xref\":\"paper\",\"y\":0.5408163265306122,\"yanchor\":\"bottom\",\"yref\":\"paper\"},{\"font\":{\"size\":16},\"showarrow\":false,\"text\":\"income\",\"x\":0.36875,\"xanchor\":\"center\",\"xref\":\"paper\",\"y\":0.5408163265306122,\"yanchor\":\"bottom\",\"yref\":\"paper\"},{\"font\":{\"size\":16},\"showarrow\":false,\"text\":\"car\",\"x\":0.6312500000000001,\"xanchor\":\"center\",\"xref\":\"paper\",\"y\":0.5408163265306122,\"yanchor\":\"bottom\",\"yref\":\"paper\"},{\"font\":{\"size\":16},\"showarrow\":false,\"text\":\"Bar\",\"x\":0.89375,\"xanchor\":\"center\",\"xref\":\"paper\",\"y\":0.5408163265306122,\"yanchor\":\"bottom\",\"yref\":\"paper\"},{\"font\":{\"size\":16},\"showarrow\":false,\"text\":\"CoffeeHouse\",\"x\":0.10625,\"xanchor\":\"center\",\"xref\":\"paper\",\"y\":0.3877551020408163,\"yanchor\":\"bottom\",\"yref\":\"paper\"},{\"font\":{\"size\":16},\"showarrow\":false,\"text\":\"CarryAway\",\"x\":0.36875,\"xanchor\":\"center\",\"xref\":\"paper\",\"y\":0.3877551020408163,\"yanchor\":\"bottom\",\"yref\":\"paper\"},{\"font\":{\"size\":16},\"showarrow\":false,\"text\":\"RestaurantLessThan20\",\"x\":0.6312500000000001,\"xanchor\":\"center\",\"xref\":\"paper\",\"y\":0.3877551020408163,\"yanchor\":\"bottom\",\"yref\":\"paper\"},{\"font\":{\"size\":16},\"showarrow\":false,\"text\":\"Restaurant20To50\",\"x\":0.89375,\"xanchor\":\"center\",\"xref\":\"paper\",\"y\":0.3877551020408163,\"yanchor\":\"bottom\",\"yref\":\"paper\"},{\"font\":{\"size\":16},\"showarrow\":false,\"text\":\"toCoupon_GEQ5min\",\"x\":0.10625,\"xanchor\":\"center\",\"xref\":\"paper\",\"y\":0.2346938775510204,\"yanchor\":\"bottom\",\"yref\":\"paper\"},{\"font\":{\"size\":16},\"showarrow\":false,\"text\":\"toCoupon_GEQ15min\",\"x\":0.36875,\"xanchor\":\"center\",\"xref\":\"paper\",\"y\":0.2346938775510204,\"yanchor\":\"bottom\",\"yref\":\"paper\"},{\"font\":{\"size\":16},\"showarrow\":false,\"text\":\"toCoupon_GEQ25min\",\"x\":0.6312500000000001,\"xanchor\":\"center\",\"xref\":\"paper\",\"y\":0.2346938775510204,\"yanchor\":\"bottom\",\"yref\":\"paper\"},{\"font\":{\"size\":16},\"showarrow\":false,\"text\":\"direction_same\",\"x\":0.89375,\"xanchor\":\"center\",\"xref\":\"paper\",\"y\":0.2346938775510204,\"yanchor\":\"bottom\",\"yref\":\"paper\"},{\"font\":{\"size\":16},\"showarrow\":false,\"text\":\"direction_opp\",\"x\":0.10625,\"xanchor\":\"center\",\"xref\":\"paper\",\"y\":0.08163265306122448,\"yanchor\":\"bottom\",\"yref\":\"paper\"},{\"font\":{\"size\":16},\"showarrow\":false,\"text\":\"Y\",\"x\":0.36875,\"xanchor\":\"center\",\"xref\":\"paper\",\"y\":0.08163265306122448,\"yanchor\":\"bottom\",\"yref\":\"paper\"}],\"title\":{\"text\":\"\\u5206\\u5e03\\u997c\\u56fe\"},\"height\":2000,\"width\":1000},                        {\"responsive\": true}                    ).then(function(){\n",
       "                            \n",
       "var gd = document.getElementById('00938cd5-8031-4456-84a1-bae73af3e29e');\n",
       "var x = new MutationObserver(function (mutations, observer) {{\n",
       "        var display = window.getComputedStyle(gd).display;\n",
       "        if (!display || display === 'none') {{\n",
       "            console.log([gd, 'removed!']);\n",
       "            Plotly.purge(gd);\n",
       "            observer.disconnect();\n",
       "        }}\n",
       "}});\n",
       "\n",
       "// Listen for the removal of the full notebook cells\n",
       "var notebookContainer = gd.closest('#notebook-container');\n",
       "if (notebookContainer) {{\n",
       "    x.observe(notebookContainer, {childList: true});\n",
       "}}\n",
       "\n",
       "// Listen for the clearing of the current output cell\n",
       "var outputEl = gd.closest('.output');\n",
       "if (outputEl) {{\n",
       "    x.observe(outputEl, {childList: true});\n",
       "}}\n",
       "\n",
       "                        })                };                });            </script>        </div>"
      ]
     },
     "metadata": {},
     "output_type": "display_data"
    }
   ],
   "source": [
    "object_cols = data.columns.to_list()\n",
    "\n",
    "# 定义子图行列数\n",
    "cols = 4\n",
    "rows = (len(object_cols) - 1) // cols + 1\n",
    "\n",
    "obj = make_subplots(\n",
    "    rows=rows,\n",
    "    cols=cols,\n",
    "    subplot_titles=object_cols,\n",
    "    specs=[[{'type': 'domain'} for _ in range(cols)] for _ in range(rows)]  \n",
    ")\n",
    "\n",
    "\n",
    "for index, col in enumerate(object_cols):\n",
    "    labels = data[col].value_counts().index\n",
    "    values = data[col].value_counts().values\n",
    "    row = index // cols + 1 \n",
    "    col_ = index % cols + 1\n",
    "\n",
    "    obj.add_trace(\n",
    "        go.Pie(labels=labels, values=values, name=col),\n",
    "        row=row, col=col_\n",
    "    )\n",
    "\n",
    "obj.update_layout(height=2000, width=1000, title_text=\"分布饼图\")\n",
    "obj.show()"
   ]
  },
  {
   "cell_type": "markdown",
   "metadata": {},
   "source": [
    "好的，对于各字段进行分析，看接下来应该如何清洗数据：\n",
    "1. 对于destination这个字段，no urgent place 占了一半。凭经验感知，或许和实际情况偏差较大。\n",
    "2. occupayion 细分类过多，需要整合\n",
    "3. car 数据量缺失严重，需要drop\n",
    "4. 其余各类型分布较合理。因为问卷对象是美国人，和中国人口结构、收入水平、社会结构差距较大。"
   ]
  },
  {
   "cell_type": "markdown",
   "metadata": {},
   "source": [
    "### Summary for 数据效度：\n",
    "1. destination 字段效度存疑\n",
    "2. 整体略不平衡，但可能反映了实际情况，而且差别不大，各群体样本量也较为充足。\n",
    "3. 后续对occupayion  和 car  进行进一步处理。\n",
    "4. 对于空值、重复值进行处理\n",
    "5. 为了方便业务分析，对于数值型数据打标签\n",
    "### SO 数据可用"
   ]
  },
  {
   "cell_type": "markdown",
   "metadata": {},
   "source": [
    "## 数据清洗"
   ]
  },
  {
   "cell_type": "code",
   "execution_count": 10,
   "metadata": {
    "scrolled": true
   },
   "outputs": [
    {
     "name": "stdout",
     "output_type": "stream",
     "text": [
      "重复数据 74\n",
      "Bar                     12577\n",
      "RestaurantLessThan20    12554\n",
      "CarryAway               12533\n",
      "Restaurant20To50        12495\n",
      "CoffeeHouse             12467\n",
      "dtype: int64\n",
      "需要删除的行 605\n",
      "占比 4.77 %\n",
      "删除后空值数destination             0\n",
      "passanger               0\n",
      "weather                 0\n",
      "temperature             0\n",
      "time                    0\n",
      "coupon                  0\n",
      "expiration              0\n",
      "gender                  0\n",
      "age                     0\n",
      "maritalStatus           0\n",
      "has_children            0\n",
      "education               0\n",
      "occupation              0\n",
      "income                  0\n",
      "Bar                     0\n",
      "CoffeeHouse             0\n",
      "CarryAway               0\n",
      "RestaurantLessThan20    0\n",
      "Restaurant20To50        0\n",
      "toCoupon_GEQ5min        0\n",
      "toCoupon_GEQ15min       0\n",
      "toCoupon_GEQ25min       0\n",
      "direction_same          0\n",
      "direction_opp           0\n",
      "Y                       0\n",
      "dtype: int64\n",
      "occupation修改后分布：Inactive employment      3784\n",
      "Business Management      2977\n",
      "Technical engineering    1713\n",
      "Public affairs           1690\n",
      "Social service            780\n",
      "Creative industries       717\n",
      "Basic industries          418\n",
      "Name: occupation, dtype: int64\n",
      "has_children修改后分布：no_children     7145\n",
      "has_children    4934\n",
      "Name: has_children, dtype: int64\n",
      "toCoupon_time修改后分布：medium    5337\n",
      "short     5300\n",
      "long      1442\n",
      "Name: toCoupon_time, dtype: int64\n"
     ]
    }
   ],
   "source": [
    "## 重复值\n",
    "data.drop_duplicates()\n",
    "print('重复数据 ' + str(data.duplicated().sum())  )\n",
    "\n",
    "## drop car\n",
    "data = data.drop(columns = 'car')\n",
    "\n",
    "## 空值处理\n",
    "## 根据之前的观察，只有这几个字段有缺失\n",
    "\n",
    "print(\n",
    "(data.shape[0] - data[['CoffeeHouse',\n",
    "                          'Restaurant20To50',\n",
    "                          'CarryAway',\n",
    "                          'RestaurantLessThan20',\n",
    "                          'Bar']].isnull().sum()).sort_values(ascending=False))\n",
    "print('需要删除的行 ' + str(data.shape[0] - data.dropna().shape[0]) )\n",
    "\n",
    "print('占比 ' + str(np.round((1 - (data.dropna().shape[0] / data.shape[0])) * 100, 2)) + ' %' )\n",
    "\n",
    "data = data.dropna()\n",
    "\n",
    "\n",
    "print('删除后空值数' +  str(data.isnull().sum()))\n",
    "\n",
    "## occupayion 整合\n",
    "\n",
    "occupation_mapping = {\n",
    "    'Computer & Mathematical': 'Technical engineering',\n",
    "    'Architecture & Engineering': 'Technical engineering',\n",
    "    'Life Physical Social Science': 'Technical engineering',\n",
    "    'Sales & Related': 'Business Management',\n",
    "    'Management': 'Business Management',\n",
    "    'Office & Administrative Support': 'Business Management',\n",
    "    'Business & Financial': 'Business Management',\n",
    "    'Food Preparation & Serving Related': 'Social service',\n",
    "    'Healthcare Support': 'Social service',\n",
    "    'Transportation & Material Moving': 'Social service',\n",
    "    'Building & Grounds Cleaning & Maintenance': 'Social service',\n",
    "    'Education&Training&Library': 'Public affairs',\n",
    "    'Healthcare Practitioners & Technical': 'Public affairs',\n",
    "    'Community & Social Services': 'Public affairs',\n",
    "    'Legal': 'Public affairs',\n",
    "    'Protective Service': 'Public affairs',\n",
    "    'Arts Design Entertainment Sports & Media': 'Creative industries',\n",
    "    'Personal Care & Service': 'Creative industries',\n",
    "    'Construction & Extraction': 'Basic industries',\n",
    "    'Installation Maintenance & Repair': 'Basic industries',\n",
    "    'Production Occupations': 'Basic industries',\n",
    "    'Farming Fishing & Forestry': 'Basic industries',\n",
    "    'Unemployed': 'Inactive employment',\n",
    "    'Student': 'Inactive employment',\n",
    "    'Retired': 'Inactive employment'\n",
    "}\n",
    "\n",
    "data['occupation'] = data['occupation'].replace(occupation_mapping)\n",
    "\n",
    "print('occupation修改后分布：'+ str(data['occupation'].value_counts()))\n",
    "\n",
    "## has_children\n",
    "has_children_mapping = {\n",
    "    1: 'has_children',\n",
    "    0: 'no_children'\n",
    "    }\n",
    "data['has_children'] = data['has_children'].replace(has_children_mapping)\n",
    "\n",
    "print('has_children修改后分布：'+ str(data['has_children'].value_counts()))\n",
    "\n",
    "conditions = [\n",
    "    data['toCoupon_GEQ15min'] == 0,\n",
    "    (data['toCoupon_GEQ15min'] == 1) & (data['toCoupon_GEQ25min'] == 0),\n",
    "    data['toCoupon_GEQ25min'] == 1\n",
    "]\n",
    "\n",
    "choices = ['short', 'medium', 'long']\n",
    "\n",
    "data['toCoupon_time'] = np.select(conditions, choices, default='unknown')\n",
    "\n",
    "print('toCoupon_time修改后分布：'+ str(data['toCoupon_time'].value_counts()))"
   ]
  },
  {
   "cell_type": "markdown",
   "metadata": {},
   "source": [
    "# 找出影响使用优惠券的关键特征，用于优化优惠券策略"
   ]
  },
  {
   "cell_type": "markdown",
   "metadata": {},
   "source": [
    "### 单因素使用转化率分析"
   ]
  },
  {
   "cell_type": "code",
   "execution_count": 11,
   "metadata": {
    "scrolled": false
   },
   "outputs": [
    {
     "name": "stdout",
     "output_type": "stream",
     "text": [
      "destination - Y: 相关 p值=0.0000\n",
      "passanger - Y: 相关 p值=0.0000\n",
      "weather - Y: 相关 p值=0.0000\n",
      "temperature - Y: 相关 p值=0.0000\n",
      "time - Y: 相关 p值=0.0000\n",
      "coupon - Y: 相关 p值=0.0000\n",
      "expiration - Y: 相关 p值=0.0000\n",
      "gender - Y: 相关 p值=0.0000\n",
      "age - Y: 相关 p值=0.0000\n",
      "maritalStatus - Y: 相关 p值=0.0000\n",
      "has_children - Y: 相关 p值=0.0000\n",
      "education - Y: 相关 p值=0.0000\n",
      "occupation - Y: 相关 p值=0.0011\n",
      "income - Y: 相关 p值=0.0000\n",
      "Bar - Y: 相关 p值=0.0000\n",
      "CoffeeHouse - Y: 相关 p值=0.0000\n",
      "CarryAway - Y: 相关 p值=0.0000\n",
      "RestaurantLessThan20 - Y: 相关 p值=0.0006\n",
      "Restaurant20To50 - Y: 相关 p值=0.0000\n",
      "toCoupon_GEQ5min - Y: 不相关 p值=1.0000\n",
      "toCoupon_GEQ15min - Y: 相关 p值=0.0000\n",
      "toCoupon_GEQ25min - Y: 相关 p值=0.0000\n",
      "direction_same - Y: 不相关 p值=0.1197\n",
      "direction_opp - Y: 不相关 p值=0.1197\n",
      "Y - Y: 相关 p值=0.0000\n",
      "toCoupon_time - Y: 相关 p值=0.0000\n"
     ]
    },
    {
     "data": {
      "application/vnd.plotly.v1+json": {
       "config": {
        "plotlyServerURL": "https://plot.ly"
       },
       "data": [
        {
         "name": "destination",
         "text": [
          "63.40%",
          "50.83%",
          "50.40%"
         ],
         "textposition": "auto",
         "type": "bar",
         "x": [
          "No Urgent Place",
          "Home",
          "Work"
         ],
         "xaxis": "x",
         "y": [
          63.40033500837521,
          50.82658022690437,
          50.39682539682539
         ],
         "yaxis": "y"
        },
        {
         "name": "passanger",
         "text": [
          "67.63%",
          "59.47%",
          "52.70%",
          "49.68%"
         ],
         "textposition": "auto",
         "type": "bar",
         "x": [
          "Friend(s)",
          "Partner",
          "Alone",
          "Kid(s)"
         ],
         "xaxis": "x2",
         "y": [
          67.6302414231258,
          59.47265625,
          52.704835700961404,
          49.68017057569296
         ],
         "yaxis": "y2"
        },
        {
         "name": "weather",
         "text": [
          "59.50%",
          "47.63%",
          "46.21%"
         ],
         "textposition": "auto",
         "type": "bar",
         "x": [
          "Sunny",
          "Snowy",
          "Rainy"
         ],
         "xaxis": "x3",
         "y": [
          59.50421831059265,
          47.63335837716003,
          46.207497820401045
         ],
         "yaxis": "y3"
        },
        {
         "name": "temperature",
         "text": [
          "59.96%",
          "53.71%",
          "53.71%"
         ],
         "textposition": "auto",
         "type": "bar",
         "x": [
          "26.67",
          "12.78",
          "-1.11"
         ],
         "xaxis": "x4",
         "y": [
          59.96464159434266,
          53.713817586018564,
          53.7129840546697
         ],
         "yaxis": "y4"
        },
        {
         "name": "time",
         "text": [
          "66.08%",
          "60.80%",
          "58.28%",
          "51.55%",
          "50.40%"
         ],
         "textposition": "auto",
         "type": "bar",
         "x": [
          "2PM",
          "10AM",
          "6PM",
          "10PM",
          "7AM"
         ],
         "xaxis": "x5",
         "y": [
          66.07515657620043,
          60.7970342910102,
          58.28460038986355,
          51.550183920126116,
          50.39682539682539
         ],
         "yaxis": "y5"
        },
        {
         "name": "coupon",
         "text": [
          "73.77%",
          "70.90%",
          "49.63%",
          "44.60%",
          "41.19%"
         ],
         "textposition": "auto",
         "type": "bar",
         "x": [
          "Carry out & Take away",
          "Restaurant(<20)",
          "Coffee House",
          "Restaurant(20-50)",
          "Bar"
         ],
         "xaxis": "x6",
         "y": [
          73.7719298245614,
          70.9008669430833,
          49.63312368972746,
          44.60127028934369,
          41.19184526921067
         ],
         "yaxis": "y6"
        },
        {
         "name": "expiration",
         "text": [
          "62.78%",
          "49.50%"
         ],
         "textposition": "auto",
         "type": "bar",
         "x": [
          "1d",
          "2h"
         ],
         "xaxis": "x7",
         "y": [
          62.781065088757394,
          49.5017860500094
         ],
         "yaxis": "y7"
        },
        {
         "name": "gender",
         "text": [
          "59.23%",
          "54.75%"
         ],
         "textposition": "auto",
         "type": "bar",
         "x": [
          "Male",
          "Female"
         ],
         "xaxis": "x8",
         "y": [
          59.234693877551024,
          54.75076625262139
         ],
         "yaxis": "y8"
        },
        {
         "name": "age",
         "text": [
          "63.29%",
          "59.98%",
          "59.40%",
          "57.68%",
          "57.46%",
          "55.22%",
          "53.87%",
          "50.75%"
         ],
         "textposition": "auto",
         "type": "bar",
         "x": [
          "below21",
          "26",
          "21",
          "46",
          "41",
          "31",
          "36",
          "50plus"
         ],
         "xaxis": "x9",
         "y": [
          63.29365079365079,
          59.98332638599416,
          59.40086716594403,
          57.68072289156626,
          57.46478873239437,
          55.22077922077923,
          53.8707102952913,
          50.75057736720554
         ],
         "yaxis": "y9"
        },
        {
         "name": "maritalStatus",
         "text": [
          "61.03%",
          "55.57%",
          "54.30%",
          "52.58%",
          "47.22%"
         ],
         "textposition": "auto",
         "type": "bar",
         "x": [
          "Single",
          "Unmarried partner",
          "Married partner",
          "Divorced",
          "Widowed"
         ],
         "xaxis": "x10",
         "y": [
          61.02877070619006,
          55.56640625,
          54.29517698199131,
          52.57936507936508,
          47.22222222222222
         ],
         "yaxis": "y10"
        },
        {
         "name": "has_children",
         "text": [
          "58.92%",
          "54.05%"
         ],
         "textposition": "auto",
         "type": "bar",
         "x": [
          "no_children",
          "has_children"
         ],
         "xaxis": "x11",
         "y": [
          58.922323303009094,
          54.05350628293474
         ],
         "yaxis": "y11"
        },
        {
         "name": "education",
         "text": [
          "71.59%",
          "59.45%",
          "59.41%",
          "55.91%",
          "55.63%",
          "52.65%"
         ],
         "textposition": "auto",
         "type": "bar",
         "x": [
          "Some High School",
          "Some college - no degree",
          "High School Graduate",
          "Associates degree",
          "Bachelors degree",
          "Graduate degree (Masters or Doctorate)"
         ],
         "xaxis": "x12",
         "y": [
          71.5909090909091,
          59.445366200521455,
          59.40706955530216,
          55.909943714821765,
          55.63292713255409,
          52.654867256637175
         ],
         "yaxis": "y12"
        },
        {
         "name": "occupation",
         "text": [
          "62.68%",
          "61.67%",
          "58.05%",
          "57.21%",
          "55.95%",
          "54.62%",
          "53.84%"
         ],
         "textposition": "auto",
         "type": "bar",
         "x": [
          "Basic industries",
          "Social service",
          "Business Management",
          "Technical engineering",
          "Inactive employment",
          "Public affairs",
          "Creative industries"
         ],
         "xaxis": "x13",
         "y": [
          62.67942583732058,
          61.66666666666667,
          58.04501175680215,
          57.209573847051956,
          55.946088794926006,
          54.61538461538461,
          53.835425383542535
         ],
         "yaxis": "y13"
        },
        {
         "name": "income",
         "text": [
          "59.72%",
          "58.98%",
          "58.78%",
          "57.80%",
          "57.75%",
          "57.08%",
          "52.74%",
          "52.32%",
          "49.26%"
         ],
         "textposition": "auto",
         "type": "bar",
         "x": [
          "$25000 - $37499",
          "$50000 - $62499",
          "Less than $12500",
          "$100000 or More",
          "$12500 - $24999",
          "$37500 - $49999",
          "$62500 - $74999",
          "$87500 - $99999",
          "$75000 - $87499"
         ],
         "xaxis": "x14",
         "y": [
          59.71860343929129,
          58.977635782747605,
          58.777120315581854,
          57.801418439716315,
          57.754629629629626,
          57.075192421551215,
          52.73809523809524,
          52.32273838630807,
          49.26289926289926
         ],
         "yaxis": "y14"
        },
        {
         "name": "Bar",
         "text": [
          "63.76%",
          "62.49%",
          "56.88%",
          "56.84%",
          "52.88%"
         ],
         "textposition": "auto",
         "type": "bar",
         "x": [
          "4~8",
          "1~3",
          "gt8",
          "less1",
          "never"
         ],
         "xaxis": "x15",
         "y": [
          63.75711574952562,
          62.48945147679324,
          56.88073394495413,
          56.835592221567474,
          52.87798946088367
         ],
         "yaxis": "y15"
        },
        {
         "name": "CoffeeHouse",
         "text": [
          "65.21%",
          "63.11%",
          "58.33%",
          "55.31%",
          "45.51%"
         ],
         "textposition": "auto",
         "type": "bar",
         "x": [
          "1~3",
          "4~8",
          "gt8",
          "less1",
          "never"
         ],
         "xaxis": "x16",
         "y": [
          65.2105096549541,
          63.11030741410488,
          58.32583258325833,
          55.30624620982414,
          45.51192145862552
         ],
         "yaxis": "y16"
        },
        {
         "name": "CarryAway",
         "text": [
          "58.26%",
          "58.05%",
          "58.04%",
          "54.96%",
          "50.22%"
         ],
         "textposition": "auto",
         "type": "bar",
         "x": [
          "1~3",
          "4~8",
          "gt8",
          "never",
          "less1"
         ],
         "xaxis": "x17",
         "y": [
          58.262994224788976,
          58.045554739162384,
          58.04195804195804,
          54.961832061068705,
          50.22346368715084
         ],
         "yaxis": "y17"
        },
        {
         "name": "RestaurantLessThan20",
         "text": [
          "60.78%",
          "58.52%",
          "58.32%",
          "56.21%",
          "53.82%"
         ],
         "textposition": "auto",
         "type": "bar",
         "x": [
          "gt8",
          "never",
          "4~8",
          "1~3",
          "less1"
         ],
         "xaxis": "x18",
         "y": [
          60.778210116731515,
          58.52272727272727,
          58.31884057971014,
          56.20763122215766,
          53.81546134663342
         ],
         "yaxis": "y18"
        },
        {
         "name": "Restaurant20To50",
         "text": [
          "66.29%",
          "65.35%",
          "59.74%",
          "55.85%",
          "51.69%"
         ],
         "textposition": "auto",
         "type": "bar",
         "x": [
          "gt8",
          "4~8",
          "1~3",
          "less1",
          "never"
         ],
         "xaxis": "x19",
         "y": [
          66.28787878787878,
          65.35087719298247,
          59.743910056214865,
          55.84570745861068,
          51.690821256038646
         ],
         "yaxis": "y19"
        },
        {
         "name": "toCoupon_GEQ5min",
         "text": [
          "56.93%"
         ],
         "textposition": "auto",
         "type": "bar",
         "x": [
          "1"
         ],
         "xaxis": "x20",
         "y": [
          56.93352098683666
         ],
         "yaxis": "y20"
        },
        {
         "name": "toCoupon_GEQ15min",
         "text": [
          "61.51%",
          "53.36%"
         ],
         "textposition": "auto",
         "type": "bar",
         "x": [
          "0",
          "1"
         ],
         "xaxis": "x21",
         "y": [
          61.50943396226415,
          53.35595220534002
         ],
         "yaxis": "y21"
        },
        {
         "name": "toCoupon_GEQ25min",
         "text": [
          "58.77%",
          "43.41%"
         ],
         "textposition": "auto",
         "type": "bar",
         "x": [
          "0",
          "1"
         ],
         "xaxis": "x22",
         "y": [
          58.766569521481614,
          43.41192787794729
         ],
         "yaxis": "y22"
        },
        {
         "name": "direction_same",
         "text": [
          "58.29%",
          "56.56%"
         ],
         "textposition": "auto",
         "type": "bar",
         "x": [
          "1",
          "0"
         ],
         "xaxis": "x23",
         "y": [
          58.29165063485956,
          56.56118143459916
         ],
         "yaxis": "y23"
        },
        {
         "name": "direction_opp",
         "text": [
          "58.29%",
          "56.56%"
         ],
         "textposition": "auto",
         "type": "bar",
         "x": [
          "0",
          "1"
         ],
         "xaxis": "x24",
         "y": [
          58.29165063485956,
          56.56118143459916
         ],
         "yaxis": "y24"
        },
        {
         "name": "Y",
         "text": [
          "100.00%",
          "0.00%"
         ],
         "textposition": "auto",
         "type": "bar",
         "x": [
          "1",
          "0"
         ],
         "xaxis": "x25",
         "y": [
          100,
          0
         ],
         "yaxis": "y25"
        },
        {
         "name": "toCoupon_time",
         "text": [
          "61.51%",
          "56.04%",
          "43.41%"
         ],
         "textposition": "auto",
         "type": "bar",
         "x": [
          "short",
          "medium",
          "long"
         ],
         "xaxis": "x26",
         "y": [
          61.50943396226415,
          56.04272062956718,
          43.41192787794729
         ],
         "yaxis": "y26"
        }
       ],
       "layout": {
        "annotations": [
         {
          "font": {
           "size": 16
          },
          "showarrow": false,
          "text": "destination",
          "x": 0.10625,
          "xanchor": "center",
          "xref": "paper",
          "y": 0.9999999999999999,
          "yanchor": "bottom",
          "yref": "paper"
         },
         {
          "font": {
           "size": 16
          },
          "showarrow": false,
          "text": "passanger",
          "x": 0.36875,
          "xanchor": "center",
          "xref": "paper",
          "y": 0.9999999999999999,
          "yanchor": "bottom",
          "yref": "paper"
         },
         {
          "font": {
           "size": 16
          },
          "showarrow": false,
          "text": "weather",
          "x": 0.6312500000000001,
          "xanchor": "center",
          "xref": "paper",
          "y": 0.9999999999999999,
          "yanchor": "bottom",
          "yref": "paper"
         },
         {
          "font": {
           "size": 16
          },
          "showarrow": false,
          "text": "temperature",
          "x": 0.89375,
          "xanchor": "center",
          "xref": "paper",
          "y": 0.9999999999999999,
          "yanchor": "bottom",
          "yref": "paper"
         },
         {
          "font": {
           "size": 16
          },
          "showarrow": false,
          "text": "time",
          "x": 0.10625,
          "xanchor": "center",
          "xref": "paper",
          "y": 0.8469387755102039,
          "yanchor": "bottom",
          "yref": "paper"
         },
         {
          "font": {
           "size": 16
          },
          "showarrow": false,
          "text": "coupon",
          "x": 0.36875,
          "xanchor": "center",
          "xref": "paper",
          "y": 0.8469387755102039,
          "yanchor": "bottom",
          "yref": "paper"
         },
         {
          "font": {
           "size": 16
          },
          "showarrow": false,
          "text": "expiration",
          "x": 0.6312500000000001,
          "xanchor": "center",
          "xref": "paper",
          "y": 0.8469387755102039,
          "yanchor": "bottom",
          "yref": "paper"
         },
         {
          "font": {
           "size": 16
          },
          "showarrow": false,
          "text": "gender",
          "x": 0.89375,
          "xanchor": "center",
          "xref": "paper",
          "y": 0.8469387755102039,
          "yanchor": "bottom",
          "yref": "paper"
         },
         {
          "font": {
           "size": 16
          },
          "showarrow": false,
          "text": "age",
          "x": 0.10625,
          "xanchor": "center",
          "xref": "paper",
          "y": 0.6938775510204082,
          "yanchor": "bottom",
          "yref": "paper"
         },
         {
          "font": {
           "size": 16
          },
          "showarrow": false,
          "text": "maritalStatus",
          "x": 0.36875,
          "xanchor": "center",
          "xref": "paper",
          "y": 0.6938775510204082,
          "yanchor": "bottom",
          "yref": "paper"
         },
         {
          "font": {
           "size": 16
          },
          "showarrow": false,
          "text": "has_children",
          "x": 0.6312500000000001,
          "xanchor": "center",
          "xref": "paper",
          "y": 0.6938775510204082,
          "yanchor": "bottom",
          "yref": "paper"
         },
         {
          "font": {
           "size": 16
          },
          "showarrow": false,
          "text": "education",
          "x": 0.89375,
          "xanchor": "center",
          "xref": "paper",
          "y": 0.6938775510204082,
          "yanchor": "bottom",
          "yref": "paper"
         },
         {
          "font": {
           "size": 16
          },
          "showarrow": false,
          "text": "occupation",
          "x": 0.10625,
          "xanchor": "center",
          "xref": "paper",
          "y": 0.5408163265306122,
          "yanchor": "bottom",
          "yref": "paper"
         },
         {
          "font": {
           "size": 16
          },
          "showarrow": false,
          "text": "income",
          "x": 0.36875,
          "xanchor": "center",
          "xref": "paper",
          "y": 0.5408163265306122,
          "yanchor": "bottom",
          "yref": "paper"
         },
         {
          "font": {
           "size": 16
          },
          "showarrow": false,
          "text": "Bar",
          "x": 0.6312500000000001,
          "xanchor": "center",
          "xref": "paper",
          "y": 0.5408163265306122,
          "yanchor": "bottom",
          "yref": "paper"
         },
         {
          "font": {
           "size": 16
          },
          "showarrow": false,
          "text": "CoffeeHouse",
          "x": 0.89375,
          "xanchor": "center",
          "xref": "paper",
          "y": 0.5408163265306122,
          "yanchor": "bottom",
          "yref": "paper"
         },
         {
          "font": {
           "size": 16
          },
          "showarrow": false,
          "text": "CarryAway",
          "x": 0.10625,
          "xanchor": "center",
          "xref": "paper",
          "y": 0.3877551020408163,
          "yanchor": "bottom",
          "yref": "paper"
         },
         {
          "font": {
           "size": 16
          },
          "showarrow": false,
          "text": "RestaurantLessThan20",
          "x": 0.36875,
          "xanchor": "center",
          "xref": "paper",
          "y": 0.3877551020408163,
          "yanchor": "bottom",
          "yref": "paper"
         },
         {
          "font": {
           "size": 16
          },
          "showarrow": false,
          "text": "Restaurant20To50",
          "x": 0.6312500000000001,
          "xanchor": "center",
          "xref": "paper",
          "y": 0.3877551020408163,
          "yanchor": "bottom",
          "yref": "paper"
         },
         {
          "font": {
           "size": 16
          },
          "showarrow": false,
          "text": "toCoupon_GEQ5min",
          "x": 0.89375,
          "xanchor": "center",
          "xref": "paper",
          "y": 0.3877551020408163,
          "yanchor": "bottom",
          "yref": "paper"
         },
         {
          "font": {
           "size": 16
          },
          "showarrow": false,
          "text": "toCoupon_GEQ15min",
          "x": 0.10625,
          "xanchor": "center",
          "xref": "paper",
          "y": 0.2346938775510204,
          "yanchor": "bottom",
          "yref": "paper"
         },
         {
          "font": {
           "size": 16
          },
          "showarrow": false,
          "text": "toCoupon_GEQ25min",
          "x": 0.36875,
          "xanchor": "center",
          "xref": "paper",
          "y": 0.2346938775510204,
          "yanchor": "bottom",
          "yref": "paper"
         },
         {
          "font": {
           "size": 16
          },
          "showarrow": false,
          "text": "direction_same",
          "x": 0.6312500000000001,
          "xanchor": "center",
          "xref": "paper",
          "y": 0.2346938775510204,
          "yanchor": "bottom",
          "yref": "paper"
         },
         {
          "font": {
           "size": 16
          },
          "showarrow": false,
          "text": "direction_opp",
          "x": 0.89375,
          "xanchor": "center",
          "xref": "paper",
          "y": 0.2346938775510204,
          "yanchor": "bottom",
          "yref": "paper"
         },
         {
          "font": {
           "size": 16
          },
          "showarrow": false,
          "text": "Y",
          "x": 0.10625,
          "xanchor": "center",
          "xref": "paper",
          "y": 0.08163265306122448,
          "yanchor": "bottom",
          "yref": "paper"
         },
         {
          "font": {
           "size": 16
          },
          "showarrow": false,
          "text": "toCoupon_time",
          "x": 0.36875,
          "xanchor": "center",
          "xref": "paper",
          "y": 0.08163265306122448,
          "yanchor": "bottom",
          "yref": "paper"
         }
        ],
        "height": 3500,
        "template": {
         "data": {
          "bar": [
           {
            "error_x": {
             "color": "#2a3f5f"
            },
            "error_y": {
             "color": "#2a3f5f"
            },
            "marker": {
             "line": {
              "color": "#E5ECF6",
              "width": 0.5
             },
             "pattern": {
              "fillmode": "overlay",
              "size": 10,
              "solidity": 0.2
             }
            },
            "type": "bar"
           }
          ],
          "barpolar": [
           {
            "marker": {
             "line": {
              "color": "#E5ECF6",
              "width": 0.5
             },
             "pattern": {
              "fillmode": "overlay",
              "size": 10,
              "solidity": 0.2
             }
            },
            "type": "barpolar"
           }
          ],
          "carpet": [
           {
            "aaxis": {
             "endlinecolor": "#2a3f5f",
             "gridcolor": "white",
             "linecolor": "white",
             "minorgridcolor": "white",
             "startlinecolor": "#2a3f5f"
            },
            "baxis": {
             "endlinecolor": "#2a3f5f",
             "gridcolor": "white",
             "linecolor": "white",
             "minorgridcolor": "white",
             "startlinecolor": "#2a3f5f"
            },
            "type": "carpet"
           }
          ],
          "choropleth": [
           {
            "colorbar": {
             "outlinewidth": 0,
             "ticks": ""
            },
            "type": "choropleth"
           }
          ],
          "contour": [
           {
            "colorbar": {
             "outlinewidth": 0,
             "ticks": ""
            },
            "colorscale": [
             [
              0,
              "#0d0887"
             ],
             [
              0.1111111111111111,
              "#46039f"
             ],
             [
              0.2222222222222222,
              "#7201a8"
             ],
             [
              0.3333333333333333,
              "#9c179e"
             ],
             [
              0.4444444444444444,
              "#bd3786"
             ],
             [
              0.5555555555555556,
              "#d8576b"
             ],
             [
              0.6666666666666666,
              "#ed7953"
             ],
             [
              0.7777777777777778,
              "#fb9f3a"
             ],
             [
              0.8888888888888888,
              "#fdca26"
             ],
             [
              1,
              "#f0f921"
             ]
            ],
            "type": "contour"
           }
          ],
          "contourcarpet": [
           {
            "colorbar": {
             "outlinewidth": 0,
             "ticks": ""
            },
            "type": "contourcarpet"
           }
          ],
          "heatmap": [
           {
            "colorbar": {
             "outlinewidth": 0,
             "ticks": ""
            },
            "colorscale": [
             [
              0,
              "#0d0887"
             ],
             [
              0.1111111111111111,
              "#46039f"
             ],
             [
              0.2222222222222222,
              "#7201a8"
             ],
             [
              0.3333333333333333,
              "#9c179e"
             ],
             [
              0.4444444444444444,
              "#bd3786"
             ],
             [
              0.5555555555555556,
              "#d8576b"
             ],
             [
              0.6666666666666666,
              "#ed7953"
             ],
             [
              0.7777777777777778,
              "#fb9f3a"
             ],
             [
              0.8888888888888888,
              "#fdca26"
             ],
             [
              1,
              "#f0f921"
             ]
            ],
            "type": "heatmap"
           }
          ],
          "heatmapgl": [
           {
            "colorbar": {
             "outlinewidth": 0,
             "ticks": ""
            },
            "colorscale": [
             [
              0,
              "#0d0887"
             ],
             [
              0.1111111111111111,
              "#46039f"
             ],
             [
              0.2222222222222222,
              "#7201a8"
             ],
             [
              0.3333333333333333,
              "#9c179e"
             ],
             [
              0.4444444444444444,
              "#bd3786"
             ],
             [
              0.5555555555555556,
              "#d8576b"
             ],
             [
              0.6666666666666666,
              "#ed7953"
             ],
             [
              0.7777777777777778,
              "#fb9f3a"
             ],
             [
              0.8888888888888888,
              "#fdca26"
             ],
             [
              1,
              "#f0f921"
             ]
            ],
            "type": "heatmapgl"
           }
          ],
          "histogram": [
           {
            "marker": {
             "pattern": {
              "fillmode": "overlay",
              "size": 10,
              "solidity": 0.2
             }
            },
            "type": "histogram"
           }
          ],
          "histogram2d": [
           {
            "colorbar": {
             "outlinewidth": 0,
             "ticks": ""
            },
            "colorscale": [
             [
              0,
              "#0d0887"
             ],
             [
              0.1111111111111111,
              "#46039f"
             ],
             [
              0.2222222222222222,
              "#7201a8"
             ],
             [
              0.3333333333333333,
              "#9c179e"
             ],
             [
              0.4444444444444444,
              "#bd3786"
             ],
             [
              0.5555555555555556,
              "#d8576b"
             ],
             [
              0.6666666666666666,
              "#ed7953"
             ],
             [
              0.7777777777777778,
              "#fb9f3a"
             ],
             [
              0.8888888888888888,
              "#fdca26"
             ],
             [
              1,
              "#f0f921"
             ]
            ],
            "type": "histogram2d"
           }
          ],
          "histogram2dcontour": [
           {
            "colorbar": {
             "outlinewidth": 0,
             "ticks": ""
            },
            "colorscale": [
             [
              0,
              "#0d0887"
             ],
             [
              0.1111111111111111,
              "#46039f"
             ],
             [
              0.2222222222222222,
              "#7201a8"
             ],
             [
              0.3333333333333333,
              "#9c179e"
             ],
             [
              0.4444444444444444,
              "#bd3786"
             ],
             [
              0.5555555555555556,
              "#d8576b"
             ],
             [
              0.6666666666666666,
              "#ed7953"
             ],
             [
              0.7777777777777778,
              "#fb9f3a"
             ],
             [
              0.8888888888888888,
              "#fdca26"
             ],
             [
              1,
              "#f0f921"
             ]
            ],
            "type": "histogram2dcontour"
           }
          ],
          "mesh3d": [
           {
            "colorbar": {
             "outlinewidth": 0,
             "ticks": ""
            },
            "type": "mesh3d"
           }
          ],
          "parcoords": [
           {
            "line": {
             "colorbar": {
              "outlinewidth": 0,
              "ticks": ""
             }
            },
            "type": "parcoords"
           }
          ],
          "pie": [
           {
            "automargin": true,
            "type": "pie"
           }
          ],
          "scatter": [
           {
            "fillpattern": {
             "fillmode": "overlay",
             "size": 10,
             "solidity": 0.2
            },
            "type": "scatter"
           }
          ],
          "scatter3d": [
           {
            "line": {
             "colorbar": {
              "outlinewidth": 0,
              "ticks": ""
             }
            },
            "marker": {
             "colorbar": {
              "outlinewidth": 0,
              "ticks": ""
             }
            },
            "type": "scatter3d"
           }
          ],
          "scattercarpet": [
           {
            "marker": {
             "colorbar": {
              "outlinewidth": 0,
              "ticks": ""
             }
            },
            "type": "scattercarpet"
           }
          ],
          "scattergeo": [
           {
            "marker": {
             "colorbar": {
              "outlinewidth": 0,
              "ticks": ""
             }
            },
            "type": "scattergeo"
           }
          ],
          "scattergl": [
           {
            "marker": {
             "colorbar": {
              "outlinewidth": 0,
              "ticks": ""
             }
            },
            "type": "scattergl"
           }
          ],
          "scattermapbox": [
           {
            "marker": {
             "colorbar": {
              "outlinewidth": 0,
              "ticks": ""
             }
            },
            "type": "scattermapbox"
           }
          ],
          "scatterpolar": [
           {
            "marker": {
             "colorbar": {
              "outlinewidth": 0,
              "ticks": ""
             }
            },
            "type": "scatterpolar"
           }
          ],
          "scatterpolargl": [
           {
            "marker": {
             "colorbar": {
              "outlinewidth": 0,
              "ticks": ""
             }
            },
            "type": "scatterpolargl"
           }
          ],
          "scatterternary": [
           {
            "marker": {
             "colorbar": {
              "outlinewidth": 0,
              "ticks": ""
             }
            },
            "type": "scatterternary"
           }
          ],
          "surface": [
           {
            "colorbar": {
             "outlinewidth": 0,
             "ticks": ""
            },
            "colorscale": [
             [
              0,
              "#0d0887"
             ],
             [
              0.1111111111111111,
              "#46039f"
             ],
             [
              0.2222222222222222,
              "#7201a8"
             ],
             [
              0.3333333333333333,
              "#9c179e"
             ],
             [
              0.4444444444444444,
              "#bd3786"
             ],
             [
              0.5555555555555556,
              "#d8576b"
             ],
             [
              0.6666666666666666,
              "#ed7953"
             ],
             [
              0.7777777777777778,
              "#fb9f3a"
             ],
             [
              0.8888888888888888,
              "#fdca26"
             ],
             [
              1,
              "#f0f921"
             ]
            ],
            "type": "surface"
           }
          ],
          "table": [
           {
            "cells": {
             "fill": {
              "color": "#EBF0F8"
             },
             "line": {
              "color": "white"
             }
            },
            "header": {
             "fill": {
              "color": "#C8D4E3"
             },
             "line": {
              "color": "white"
             }
            },
            "type": "table"
           }
          ]
         },
         "layout": {
          "annotationdefaults": {
           "arrowcolor": "#2a3f5f",
           "arrowhead": 0,
           "arrowwidth": 1
          },
          "autotypenumbers": "strict",
          "coloraxis": {
           "colorbar": {
            "outlinewidth": 0,
            "ticks": ""
           }
          },
          "colorscale": {
           "diverging": [
            [
             0,
             "#8e0152"
            ],
            [
             0.1,
             "#c51b7d"
            ],
            [
             0.2,
             "#de77ae"
            ],
            [
             0.3,
             "#f1b6da"
            ],
            [
             0.4,
             "#fde0ef"
            ],
            [
             0.5,
             "#f7f7f7"
            ],
            [
             0.6,
             "#e6f5d0"
            ],
            [
             0.7,
             "#b8e186"
            ],
            [
             0.8,
             "#7fbc41"
            ],
            [
             0.9,
             "#4d9221"
            ],
            [
             1,
             "#276419"
            ]
           ],
           "sequential": [
            [
             0,
             "#0d0887"
            ],
            [
             0.1111111111111111,
             "#46039f"
            ],
            [
             0.2222222222222222,
             "#7201a8"
            ],
            [
             0.3333333333333333,
             "#9c179e"
            ],
            [
             0.4444444444444444,
             "#bd3786"
            ],
            [
             0.5555555555555556,
             "#d8576b"
            ],
            [
             0.6666666666666666,
             "#ed7953"
            ],
            [
             0.7777777777777778,
             "#fb9f3a"
            ],
            [
             0.8888888888888888,
             "#fdca26"
            ],
            [
             1,
             "#f0f921"
            ]
           ],
           "sequentialminus": [
            [
             0,
             "#0d0887"
            ],
            [
             0.1111111111111111,
             "#46039f"
            ],
            [
             0.2222222222222222,
             "#7201a8"
            ],
            [
             0.3333333333333333,
             "#9c179e"
            ],
            [
             0.4444444444444444,
             "#bd3786"
            ],
            [
             0.5555555555555556,
             "#d8576b"
            ],
            [
             0.6666666666666666,
             "#ed7953"
            ],
            [
             0.7777777777777778,
             "#fb9f3a"
            ],
            [
             0.8888888888888888,
             "#fdca26"
            ],
            [
             1,
             "#f0f921"
            ]
           ]
          },
          "colorway": [
           "#636efa",
           "#EF553B",
           "#00cc96",
           "#ab63fa",
           "#FFA15A",
           "#19d3f3",
           "#FF6692",
           "#B6E880",
           "#FF97FF",
           "#FECB52"
          ],
          "font": {
           "color": "#2a3f5f"
          },
          "geo": {
           "bgcolor": "white",
           "lakecolor": "white",
           "landcolor": "#E5ECF6",
           "showlakes": true,
           "showland": true,
           "subunitcolor": "white"
          },
          "hoverlabel": {
           "align": "left"
          },
          "hovermode": "closest",
          "mapbox": {
           "style": "light"
          },
          "paper_bgcolor": "white",
          "plot_bgcolor": "#E5ECF6",
          "polar": {
           "angularaxis": {
            "gridcolor": "white",
            "linecolor": "white",
            "ticks": ""
           },
           "bgcolor": "#E5ECF6",
           "radialaxis": {
            "gridcolor": "white",
            "linecolor": "white",
            "ticks": ""
           }
          },
          "scene": {
           "xaxis": {
            "backgroundcolor": "#E5ECF6",
            "gridcolor": "white",
            "gridwidth": 2,
            "linecolor": "white",
            "showbackground": true,
            "ticks": "",
            "zerolinecolor": "white"
           },
           "yaxis": {
            "backgroundcolor": "#E5ECF6",
            "gridcolor": "white",
            "gridwidth": 2,
            "linecolor": "white",
            "showbackground": true,
            "ticks": "",
            "zerolinecolor": "white"
           },
           "zaxis": {
            "backgroundcolor": "#E5ECF6",
            "gridcolor": "white",
            "gridwidth": 2,
            "linecolor": "white",
            "showbackground": true,
            "ticks": "",
            "zerolinecolor": "white"
           }
          },
          "shapedefaults": {
           "line": {
            "color": "#2a3f5f"
           }
          },
          "ternary": {
           "aaxis": {
            "gridcolor": "white",
            "linecolor": "white",
            "ticks": ""
           },
           "baxis": {
            "gridcolor": "white",
            "linecolor": "white",
            "ticks": ""
           },
           "bgcolor": "#E5ECF6",
           "caxis": {
            "gridcolor": "white",
            "linecolor": "white",
            "ticks": ""
           }
          },
          "title": {
           "x": 0.05
          },
          "xaxis": {
           "automargin": true,
           "gridcolor": "white",
           "linecolor": "white",
           "ticks": "",
           "title": {
            "standoff": 15
           },
           "zerolinecolor": "white",
           "zerolinewidth": 2
          },
          "yaxis": {
           "automargin": true,
           "gridcolor": "white",
           "linecolor": "white",
           "ticks": "",
           "title": {
            "standoff": 15
           },
           "zerolinecolor": "white",
           "zerolinewidth": 2
          }
         }
        },
        "title": {
         "text": "分类变量的转化率 & 相关性分析"
        },
        "width": 1000,
        "xaxis": {
         "anchor": "y",
         "domain": [
          0,
          0.2125
         ]
        },
        "xaxis10": {
         "anchor": "y10",
         "domain": [
          0.2625,
          0.475
         ]
        },
        "xaxis11": {
         "anchor": "y11",
         "domain": [
          0.525,
          0.7375
         ]
        },
        "xaxis12": {
         "anchor": "y12",
         "domain": [
          0.7875,
          1
         ]
        },
        "xaxis13": {
         "anchor": "y13",
         "domain": [
          0,
          0.2125
         ]
        },
        "xaxis14": {
         "anchor": "y14",
         "domain": [
          0.2625,
          0.475
         ]
        },
        "xaxis15": {
         "anchor": "y15",
         "domain": [
          0.525,
          0.7375
         ]
        },
        "xaxis16": {
         "anchor": "y16",
         "domain": [
          0.7875,
          1
         ]
        },
        "xaxis17": {
         "anchor": "y17",
         "domain": [
          0,
          0.2125
         ]
        },
        "xaxis18": {
         "anchor": "y18",
         "domain": [
          0.2625,
          0.475
         ]
        },
        "xaxis19": {
         "anchor": "y19",
         "domain": [
          0.525,
          0.7375
         ]
        },
        "xaxis2": {
         "anchor": "y2",
         "domain": [
          0.2625,
          0.475
         ]
        },
        "xaxis20": {
         "anchor": "y20",
         "domain": [
          0.7875,
          1
         ]
        },
        "xaxis21": {
         "anchor": "y21",
         "domain": [
          0,
          0.2125
         ]
        },
        "xaxis22": {
         "anchor": "y22",
         "domain": [
          0.2625,
          0.475
         ]
        },
        "xaxis23": {
         "anchor": "y23",
         "domain": [
          0.525,
          0.7375
         ]
        },
        "xaxis24": {
         "anchor": "y24",
         "domain": [
          0.7875,
          1
         ]
        },
        "xaxis25": {
         "anchor": "y25",
         "domain": [
          0,
          0.2125
         ]
        },
        "xaxis26": {
         "anchor": "y26",
         "domain": [
          0.2625,
          0.475
         ]
        },
        "xaxis27": {
         "anchor": "y27",
         "domain": [
          0.525,
          0.7375
         ]
        },
        "xaxis28": {
         "anchor": "y28",
         "domain": [
          0.7875,
          1
         ]
        },
        "xaxis3": {
         "anchor": "y3",
         "domain": [
          0.525,
          0.7375
         ]
        },
        "xaxis4": {
         "anchor": "y4",
         "domain": [
          0.7875,
          1
         ]
        },
        "xaxis5": {
         "anchor": "y5",
         "domain": [
          0,
          0.2125
         ]
        },
        "xaxis6": {
         "anchor": "y6",
         "domain": [
          0.2625,
          0.475
         ]
        },
        "xaxis7": {
         "anchor": "y7",
         "domain": [
          0.525,
          0.7375
         ]
        },
        "xaxis8": {
         "anchor": "y8",
         "domain": [
          0.7875,
          1
         ]
        },
        "xaxis9": {
         "anchor": "y9",
         "domain": [
          0,
          0.2125
         ]
        },
        "yaxis": {
         "anchor": "x",
         "domain": [
          0.9183673469387754,
          0.9999999999999999
         ]
        },
        "yaxis10": {
         "anchor": "x10",
         "domain": [
          0.6122448979591837,
          0.6938775510204082
         ]
        },
        "yaxis11": {
         "anchor": "x11",
         "domain": [
          0.6122448979591837,
          0.6938775510204082
         ]
        },
        "yaxis12": {
         "anchor": "x12",
         "domain": [
          0.6122448979591837,
          0.6938775510204082
         ]
        },
        "yaxis13": {
         "anchor": "x13",
         "domain": [
          0.4591836734693877,
          0.5408163265306122
         ]
        },
        "yaxis14": {
         "anchor": "x14",
         "domain": [
          0.4591836734693877,
          0.5408163265306122
         ]
        },
        "yaxis15": {
         "anchor": "x15",
         "domain": [
          0.4591836734693877,
          0.5408163265306122
         ]
        },
        "yaxis16": {
         "anchor": "x16",
         "domain": [
          0.4591836734693877,
          0.5408163265306122
         ]
        },
        "yaxis17": {
         "anchor": "x17",
         "domain": [
          0.30612244897959184,
          0.3877551020408163
         ]
        },
        "yaxis18": {
         "anchor": "x18",
         "domain": [
          0.30612244897959184,
          0.3877551020408163
         ]
        },
        "yaxis19": {
         "anchor": "x19",
         "domain": [
          0.30612244897959184,
          0.3877551020408163
         ]
        },
        "yaxis2": {
         "anchor": "x2",
         "domain": [
          0.9183673469387754,
          0.9999999999999999
         ]
        },
        "yaxis20": {
         "anchor": "x20",
         "domain": [
          0.30612244897959184,
          0.3877551020408163
         ]
        },
        "yaxis21": {
         "anchor": "x21",
         "domain": [
          0.15306122448979592,
          0.2346938775510204
         ]
        },
        "yaxis22": {
         "anchor": "x22",
         "domain": [
          0.15306122448979592,
          0.2346938775510204
         ]
        },
        "yaxis23": {
         "anchor": "x23",
         "domain": [
          0.15306122448979592,
          0.2346938775510204
         ]
        },
        "yaxis24": {
         "anchor": "x24",
         "domain": [
          0.15306122448979592,
          0.2346938775510204
         ]
        },
        "yaxis25": {
         "anchor": "x25",
         "domain": [
          0,
          0.08163265306122448
         ]
        },
        "yaxis26": {
         "anchor": "x26",
         "domain": [
          0,
          0.08163265306122448
         ]
        },
        "yaxis27": {
         "anchor": "x27",
         "domain": [
          0,
          0.08163265306122448
         ]
        },
        "yaxis28": {
         "anchor": "x28",
         "domain": [
          0,
          0.08163265306122448
         ]
        },
        "yaxis3": {
         "anchor": "x3",
         "domain": [
          0.9183673469387754,
          0.9999999999999999
         ]
        },
        "yaxis4": {
         "anchor": "x4",
         "domain": [
          0.9183673469387754,
          0.9999999999999999
         ]
        },
        "yaxis5": {
         "anchor": "x5",
         "domain": [
          0.7653061224489794,
          0.8469387755102039
         ]
        },
        "yaxis6": {
         "anchor": "x6",
         "domain": [
          0.7653061224489794,
          0.8469387755102039
         ]
        },
        "yaxis7": {
         "anchor": "x7",
         "domain": [
          0.7653061224489794,
          0.8469387755102039
         ]
        },
        "yaxis8": {
         "anchor": "x8",
         "domain": [
          0.7653061224489794,
          0.8469387755102039
         ]
        },
        "yaxis9": {
         "anchor": "x9",
         "domain": [
          0.6122448979591837,
          0.6938775510204082
         ]
        }
       }
      },
      "text/html": [
       "<div>                            <div id=\"1da4f618-cd2e-4845-90b5-3467ef42a20a\" class=\"plotly-graph-div\" style=\"height:3500px; width:1000px;\"></div>            <script type=\"text/javascript\">                require([\"plotly\"], function(Plotly) {                    window.PLOTLYENV=window.PLOTLYENV || {};                                    if (document.getElementById(\"1da4f618-cd2e-4845-90b5-3467ef42a20a\")) {                    Plotly.newPlot(                        \"1da4f618-cd2e-4845-90b5-3467ef42a20a\",                        [{\"name\":\"destination\",\"text\":[\"63.40%\",\"50.83%\",\"50.40%\"],\"textposition\":\"auto\",\"x\":[\"No Urgent Place\",\"Home\",\"Work\"],\"y\":[63.40033500837521,50.82658022690437,50.39682539682539],\"type\":\"bar\",\"xaxis\":\"x\",\"yaxis\":\"y\"},{\"name\":\"passanger\",\"text\":[\"67.63%\",\"59.47%\",\"52.70%\",\"49.68%\"],\"textposition\":\"auto\",\"x\":[\"Friend(s)\",\"Partner\",\"Alone\",\"Kid(s)\"],\"y\":[67.6302414231258,59.47265625,52.704835700961404,49.68017057569296],\"type\":\"bar\",\"xaxis\":\"x2\",\"yaxis\":\"y2\"},{\"name\":\"weather\",\"text\":[\"59.50%\",\"47.63%\",\"46.21%\"],\"textposition\":\"auto\",\"x\":[\"Sunny\",\"Snowy\",\"Rainy\"],\"y\":[59.50421831059265,47.63335837716003,46.207497820401045],\"type\":\"bar\",\"xaxis\":\"x3\",\"yaxis\":\"y3\"},{\"name\":\"temperature\",\"text\":[\"59.96%\",\"53.71%\",\"53.71%\"],\"textposition\":\"auto\",\"x\":[\"26.67\",\"12.78\",\"-1.11\"],\"y\":[59.96464159434266,53.713817586018564,53.7129840546697],\"type\":\"bar\",\"xaxis\":\"x4\",\"yaxis\":\"y4\"},{\"name\":\"time\",\"text\":[\"66.08%\",\"60.80%\",\"58.28%\",\"51.55%\",\"50.40%\"],\"textposition\":\"auto\",\"x\":[\"2PM\",\"10AM\",\"6PM\",\"10PM\",\"7AM\"],\"y\":[66.07515657620043,60.7970342910102,58.28460038986355,51.550183920126116,50.39682539682539],\"type\":\"bar\",\"xaxis\":\"x5\",\"yaxis\":\"y5\"},{\"name\":\"coupon\",\"text\":[\"73.77%\",\"70.90%\",\"49.63%\",\"44.60%\",\"41.19%\"],\"textposition\":\"auto\",\"x\":[\"Carry out & Take away\",\"Restaurant(\\u003c20)\",\"Coffee House\",\"Restaurant(20-50)\",\"Bar\"],\"y\":[73.7719298245614,70.9008669430833,49.63312368972746,44.60127028934369,41.19184526921067],\"type\":\"bar\",\"xaxis\":\"x6\",\"yaxis\":\"y6\"},{\"name\":\"expiration\",\"text\":[\"62.78%\",\"49.50%\"],\"textposition\":\"auto\",\"x\":[\"1d\",\"2h\"],\"y\":[62.781065088757394,49.5017860500094],\"type\":\"bar\",\"xaxis\":\"x7\",\"yaxis\":\"y7\"},{\"name\":\"gender\",\"text\":[\"59.23%\",\"54.75%\"],\"textposition\":\"auto\",\"x\":[\"Male\",\"Female\"],\"y\":[59.234693877551024,54.75076625262139],\"type\":\"bar\",\"xaxis\":\"x8\",\"yaxis\":\"y8\"},{\"name\":\"age\",\"text\":[\"63.29%\",\"59.98%\",\"59.40%\",\"57.68%\",\"57.46%\",\"55.22%\",\"53.87%\",\"50.75%\"],\"textposition\":\"auto\",\"x\":[\"below21\",\"26\",\"21\",\"46\",\"41\",\"31\",\"36\",\"50plus\"],\"y\":[63.29365079365079,59.98332638599416,59.40086716594403,57.68072289156626,57.46478873239437,55.22077922077923,53.8707102952913,50.75057736720554],\"type\":\"bar\",\"xaxis\":\"x9\",\"yaxis\":\"y9\"},{\"name\":\"maritalStatus\",\"text\":[\"61.03%\",\"55.57%\",\"54.30%\",\"52.58%\",\"47.22%\"],\"textposition\":\"auto\",\"x\":[\"Single\",\"Unmarried partner\",\"Married partner\",\"Divorced\",\"Widowed\"],\"y\":[61.02877070619006,55.56640625,54.29517698199131,52.57936507936508,47.22222222222222],\"type\":\"bar\",\"xaxis\":\"x10\",\"yaxis\":\"y10\"},{\"name\":\"has_children\",\"text\":[\"58.92%\",\"54.05%\"],\"textposition\":\"auto\",\"x\":[\"no_children\",\"has_children\"],\"y\":[58.922323303009094,54.05350628293474],\"type\":\"bar\",\"xaxis\":\"x11\",\"yaxis\":\"y11\"},{\"name\":\"education\",\"text\":[\"71.59%\",\"59.45%\",\"59.41%\",\"55.91%\",\"55.63%\",\"52.65%\"],\"textposition\":\"auto\",\"x\":[\"Some High School\",\"Some college - no degree\",\"High School Graduate\",\"Associates degree\",\"Bachelors degree\",\"Graduate degree (Masters or Doctorate)\"],\"y\":[71.5909090909091,59.445366200521455,59.40706955530216,55.909943714821765,55.63292713255409,52.654867256637175],\"type\":\"bar\",\"xaxis\":\"x12\",\"yaxis\":\"y12\"},{\"name\":\"occupation\",\"text\":[\"62.68%\",\"61.67%\",\"58.05%\",\"57.21%\",\"55.95%\",\"54.62%\",\"53.84%\"],\"textposition\":\"auto\",\"x\":[\"Basic industries\",\"Social service\",\"Business Management\",\"Technical engineering\",\"Inactive employment\",\"Public affairs\",\"Creative industries\"],\"y\":[62.67942583732058,61.66666666666667,58.04501175680215,57.209573847051956,55.946088794926006,54.61538461538461,53.835425383542535],\"type\":\"bar\",\"xaxis\":\"x13\",\"yaxis\":\"y13\"},{\"name\":\"income\",\"text\":[\"59.72%\",\"58.98%\",\"58.78%\",\"57.80%\",\"57.75%\",\"57.08%\",\"52.74%\",\"52.32%\",\"49.26%\"],\"textposition\":\"auto\",\"x\":[\"$25000 - $37499\",\"$50000 - $62499\",\"Less than $12500\",\"$100000 or More\",\"$12500 - $24999\",\"$37500 - $49999\",\"$62500 - $74999\",\"$87500 - $99999\",\"$75000 - $87499\"],\"y\":[59.71860343929129,58.977635782747605,58.777120315581854,57.801418439716315,57.754629629629626,57.075192421551215,52.73809523809524,52.32273838630807,49.26289926289926],\"type\":\"bar\",\"xaxis\":\"x14\",\"yaxis\":\"y14\"},{\"name\":\"Bar\",\"text\":[\"63.76%\",\"62.49%\",\"56.88%\",\"56.84%\",\"52.88%\"],\"textposition\":\"auto\",\"x\":[\"4~8\",\"1~3\",\"gt8\",\"less1\",\"never\"],\"y\":[63.75711574952562,62.48945147679324,56.88073394495413,56.835592221567474,52.87798946088367],\"type\":\"bar\",\"xaxis\":\"x15\",\"yaxis\":\"y15\"},{\"name\":\"CoffeeHouse\",\"text\":[\"65.21%\",\"63.11%\",\"58.33%\",\"55.31%\",\"45.51%\"],\"textposition\":\"auto\",\"x\":[\"1~3\",\"4~8\",\"gt8\",\"less1\",\"never\"],\"y\":[65.2105096549541,63.11030741410488,58.32583258325833,55.30624620982414,45.51192145862552],\"type\":\"bar\",\"xaxis\":\"x16\",\"yaxis\":\"y16\"},{\"name\":\"CarryAway\",\"text\":[\"58.26%\",\"58.05%\",\"58.04%\",\"54.96%\",\"50.22%\"],\"textposition\":\"auto\",\"x\":[\"1~3\",\"4~8\",\"gt8\",\"never\",\"less1\"],\"y\":[58.262994224788976,58.045554739162384,58.04195804195804,54.961832061068705,50.22346368715084],\"type\":\"bar\",\"xaxis\":\"x17\",\"yaxis\":\"y17\"},{\"name\":\"RestaurantLessThan20\",\"text\":[\"60.78%\",\"58.52%\",\"58.32%\",\"56.21%\",\"53.82%\"],\"textposition\":\"auto\",\"x\":[\"gt8\",\"never\",\"4~8\",\"1~3\",\"less1\"],\"y\":[60.778210116731515,58.52272727272727,58.31884057971014,56.20763122215766,53.81546134663342],\"type\":\"bar\",\"xaxis\":\"x18\",\"yaxis\":\"y18\"},{\"name\":\"Restaurant20To50\",\"text\":[\"66.29%\",\"65.35%\",\"59.74%\",\"55.85%\",\"51.69%\"],\"textposition\":\"auto\",\"x\":[\"gt8\",\"4~8\",\"1~3\",\"less1\",\"never\"],\"y\":[66.28787878787878,65.35087719298247,59.743910056214865,55.84570745861068,51.690821256038646],\"type\":\"bar\",\"xaxis\":\"x19\",\"yaxis\":\"y19\"},{\"name\":\"toCoupon_GEQ5min\",\"text\":[\"56.93%\"],\"textposition\":\"auto\",\"x\":[\"1\"],\"y\":[56.93352098683666],\"type\":\"bar\",\"xaxis\":\"x20\",\"yaxis\":\"y20\"},{\"name\":\"toCoupon_GEQ15min\",\"text\":[\"61.51%\",\"53.36%\"],\"textposition\":\"auto\",\"x\":[\"0\",\"1\"],\"y\":[61.50943396226415,53.35595220534002],\"type\":\"bar\",\"xaxis\":\"x21\",\"yaxis\":\"y21\"},{\"name\":\"toCoupon_GEQ25min\",\"text\":[\"58.77%\",\"43.41%\"],\"textposition\":\"auto\",\"x\":[\"0\",\"1\"],\"y\":[58.766569521481614,43.41192787794729],\"type\":\"bar\",\"xaxis\":\"x22\",\"yaxis\":\"y22\"},{\"name\":\"direction_same\",\"text\":[\"58.29%\",\"56.56%\"],\"textposition\":\"auto\",\"x\":[\"1\",\"0\"],\"y\":[58.29165063485956,56.56118143459916],\"type\":\"bar\",\"xaxis\":\"x23\",\"yaxis\":\"y23\"},{\"name\":\"direction_opp\",\"text\":[\"58.29%\",\"56.56%\"],\"textposition\":\"auto\",\"x\":[\"0\",\"1\"],\"y\":[58.29165063485956,56.56118143459916],\"type\":\"bar\",\"xaxis\":\"x24\",\"yaxis\":\"y24\"},{\"name\":\"Y\",\"text\":[\"100.00%\",\"0.00%\"],\"textposition\":\"auto\",\"x\":[\"1\",\"0\"],\"y\":[100.0,0.0],\"type\":\"bar\",\"xaxis\":\"x25\",\"yaxis\":\"y25\"},{\"name\":\"toCoupon_time\",\"text\":[\"61.51%\",\"56.04%\",\"43.41%\"],\"textposition\":\"auto\",\"x\":[\"short\",\"medium\",\"long\"],\"y\":[61.50943396226415,56.04272062956718,43.41192787794729],\"type\":\"bar\",\"xaxis\":\"x26\",\"yaxis\":\"y26\"}],                        {\"template\":{\"data\":{\"histogram2dcontour\":[{\"type\":\"histogram2dcontour\",\"colorbar\":{\"outlinewidth\":0,\"ticks\":\"\"},\"colorscale\":[[0.0,\"#0d0887\"],[0.1111111111111111,\"#46039f\"],[0.2222222222222222,\"#7201a8\"],[0.3333333333333333,\"#9c179e\"],[0.4444444444444444,\"#bd3786\"],[0.5555555555555556,\"#d8576b\"],[0.6666666666666666,\"#ed7953\"],[0.7777777777777778,\"#fb9f3a\"],[0.8888888888888888,\"#fdca26\"],[1.0,\"#f0f921\"]]}],\"choropleth\":[{\"type\":\"choropleth\",\"colorbar\":{\"outlinewidth\":0,\"ticks\":\"\"}}],\"histogram2d\":[{\"type\":\"histogram2d\",\"colorbar\":{\"outlinewidth\":0,\"ticks\":\"\"},\"colorscale\":[[0.0,\"#0d0887\"],[0.1111111111111111,\"#46039f\"],[0.2222222222222222,\"#7201a8\"],[0.3333333333333333,\"#9c179e\"],[0.4444444444444444,\"#bd3786\"],[0.5555555555555556,\"#d8576b\"],[0.6666666666666666,\"#ed7953\"],[0.7777777777777778,\"#fb9f3a\"],[0.8888888888888888,\"#fdca26\"],[1.0,\"#f0f921\"]]}],\"heatmap\":[{\"type\":\"heatmap\",\"colorbar\":{\"outlinewidth\":0,\"ticks\":\"\"},\"colorscale\":[[0.0,\"#0d0887\"],[0.1111111111111111,\"#46039f\"],[0.2222222222222222,\"#7201a8\"],[0.3333333333333333,\"#9c179e\"],[0.4444444444444444,\"#bd3786\"],[0.5555555555555556,\"#d8576b\"],[0.6666666666666666,\"#ed7953\"],[0.7777777777777778,\"#fb9f3a\"],[0.8888888888888888,\"#fdca26\"],[1.0,\"#f0f921\"]]}],\"heatmapgl\":[{\"type\":\"heatmapgl\",\"colorbar\":{\"outlinewidth\":0,\"ticks\":\"\"},\"colorscale\":[[0.0,\"#0d0887\"],[0.1111111111111111,\"#46039f\"],[0.2222222222222222,\"#7201a8\"],[0.3333333333333333,\"#9c179e\"],[0.4444444444444444,\"#bd3786\"],[0.5555555555555556,\"#d8576b\"],[0.6666666666666666,\"#ed7953\"],[0.7777777777777778,\"#fb9f3a\"],[0.8888888888888888,\"#fdca26\"],[1.0,\"#f0f921\"]]}],\"contourcarpet\":[{\"type\":\"contourcarpet\",\"colorbar\":{\"outlinewidth\":0,\"ticks\":\"\"}}],\"contour\":[{\"type\":\"contour\",\"colorbar\":{\"outlinewidth\":0,\"ticks\":\"\"},\"colorscale\":[[0.0,\"#0d0887\"],[0.1111111111111111,\"#46039f\"],[0.2222222222222222,\"#7201a8\"],[0.3333333333333333,\"#9c179e\"],[0.4444444444444444,\"#bd3786\"],[0.5555555555555556,\"#d8576b\"],[0.6666666666666666,\"#ed7953\"],[0.7777777777777778,\"#fb9f3a\"],[0.8888888888888888,\"#fdca26\"],[1.0,\"#f0f921\"]]}],\"surface\":[{\"type\":\"surface\",\"colorbar\":{\"outlinewidth\":0,\"ticks\":\"\"},\"colorscale\":[[0.0,\"#0d0887\"],[0.1111111111111111,\"#46039f\"],[0.2222222222222222,\"#7201a8\"],[0.3333333333333333,\"#9c179e\"],[0.4444444444444444,\"#bd3786\"],[0.5555555555555556,\"#d8576b\"],[0.6666666666666666,\"#ed7953\"],[0.7777777777777778,\"#fb9f3a\"],[0.8888888888888888,\"#fdca26\"],[1.0,\"#f0f921\"]]}],\"mesh3d\":[{\"type\":\"mesh3d\",\"colorbar\":{\"outlinewidth\":0,\"ticks\":\"\"}}],\"scatter\":[{\"fillpattern\":{\"fillmode\":\"overlay\",\"size\":10,\"solidity\":0.2},\"type\":\"scatter\"}],\"parcoords\":[{\"type\":\"parcoords\",\"line\":{\"colorbar\":{\"outlinewidth\":0,\"ticks\":\"\"}}}],\"scatterpolargl\":[{\"type\":\"scatterpolargl\",\"marker\":{\"colorbar\":{\"outlinewidth\":0,\"ticks\":\"\"}}}],\"bar\":[{\"error_x\":{\"color\":\"#2a3f5f\"},\"error_y\":{\"color\":\"#2a3f5f\"},\"marker\":{\"line\":{\"color\":\"#E5ECF6\",\"width\":0.5},\"pattern\":{\"fillmode\":\"overlay\",\"size\":10,\"solidity\":0.2}},\"type\":\"bar\"}],\"scattergeo\":[{\"type\":\"scattergeo\",\"marker\":{\"colorbar\":{\"outlinewidth\":0,\"ticks\":\"\"}}}],\"scatterpolar\":[{\"type\":\"scatterpolar\",\"marker\":{\"colorbar\":{\"outlinewidth\":0,\"ticks\":\"\"}}}],\"histogram\":[{\"marker\":{\"pattern\":{\"fillmode\":\"overlay\",\"size\":10,\"solidity\":0.2}},\"type\":\"histogram\"}],\"scattergl\":[{\"type\":\"scattergl\",\"marker\":{\"colorbar\":{\"outlinewidth\":0,\"ticks\":\"\"}}}],\"scatter3d\":[{\"type\":\"scatter3d\",\"line\":{\"colorbar\":{\"outlinewidth\":0,\"ticks\":\"\"}},\"marker\":{\"colorbar\":{\"outlinewidth\":0,\"ticks\":\"\"}}}],\"scattermapbox\":[{\"type\":\"scattermapbox\",\"marker\":{\"colorbar\":{\"outlinewidth\":0,\"ticks\":\"\"}}}],\"scatterternary\":[{\"type\":\"scatterternary\",\"marker\":{\"colorbar\":{\"outlinewidth\":0,\"ticks\":\"\"}}}],\"scattercarpet\":[{\"type\":\"scattercarpet\",\"marker\":{\"colorbar\":{\"outlinewidth\":0,\"ticks\":\"\"}}}],\"carpet\":[{\"aaxis\":{\"endlinecolor\":\"#2a3f5f\",\"gridcolor\":\"white\",\"linecolor\":\"white\",\"minorgridcolor\":\"white\",\"startlinecolor\":\"#2a3f5f\"},\"baxis\":{\"endlinecolor\":\"#2a3f5f\",\"gridcolor\":\"white\",\"linecolor\":\"white\",\"minorgridcolor\":\"white\",\"startlinecolor\":\"#2a3f5f\"},\"type\":\"carpet\"}],\"table\":[{\"cells\":{\"fill\":{\"color\":\"#EBF0F8\"},\"line\":{\"color\":\"white\"}},\"header\":{\"fill\":{\"color\":\"#C8D4E3\"},\"line\":{\"color\":\"white\"}},\"type\":\"table\"}],\"barpolar\":[{\"marker\":{\"line\":{\"color\":\"#E5ECF6\",\"width\":0.5},\"pattern\":{\"fillmode\":\"overlay\",\"size\":10,\"solidity\":0.2}},\"type\":\"barpolar\"}],\"pie\":[{\"automargin\":true,\"type\":\"pie\"}]},\"layout\":{\"autotypenumbers\":\"strict\",\"colorway\":[\"#636efa\",\"#EF553B\",\"#00cc96\",\"#ab63fa\",\"#FFA15A\",\"#19d3f3\",\"#FF6692\",\"#B6E880\",\"#FF97FF\",\"#FECB52\"],\"font\":{\"color\":\"#2a3f5f\"},\"hovermode\":\"closest\",\"hoverlabel\":{\"align\":\"left\"},\"paper_bgcolor\":\"white\",\"plot_bgcolor\":\"#E5ECF6\",\"polar\":{\"bgcolor\":\"#E5ECF6\",\"angularaxis\":{\"gridcolor\":\"white\",\"linecolor\":\"white\",\"ticks\":\"\"},\"radialaxis\":{\"gridcolor\":\"white\",\"linecolor\":\"white\",\"ticks\":\"\"}},\"ternary\":{\"bgcolor\":\"#E5ECF6\",\"aaxis\":{\"gridcolor\":\"white\",\"linecolor\":\"white\",\"ticks\":\"\"},\"baxis\":{\"gridcolor\":\"white\",\"linecolor\":\"white\",\"ticks\":\"\"},\"caxis\":{\"gridcolor\":\"white\",\"linecolor\":\"white\",\"ticks\":\"\"}},\"coloraxis\":{\"colorbar\":{\"outlinewidth\":0,\"ticks\":\"\"}},\"colorscale\":{\"sequential\":[[0.0,\"#0d0887\"],[0.1111111111111111,\"#46039f\"],[0.2222222222222222,\"#7201a8\"],[0.3333333333333333,\"#9c179e\"],[0.4444444444444444,\"#bd3786\"],[0.5555555555555556,\"#d8576b\"],[0.6666666666666666,\"#ed7953\"],[0.7777777777777778,\"#fb9f3a\"],[0.8888888888888888,\"#fdca26\"],[1.0,\"#f0f921\"]],\"sequentialminus\":[[0.0,\"#0d0887\"],[0.1111111111111111,\"#46039f\"],[0.2222222222222222,\"#7201a8\"],[0.3333333333333333,\"#9c179e\"],[0.4444444444444444,\"#bd3786\"],[0.5555555555555556,\"#d8576b\"],[0.6666666666666666,\"#ed7953\"],[0.7777777777777778,\"#fb9f3a\"],[0.8888888888888888,\"#fdca26\"],[1.0,\"#f0f921\"]],\"diverging\":[[0,\"#8e0152\"],[0.1,\"#c51b7d\"],[0.2,\"#de77ae\"],[0.3,\"#f1b6da\"],[0.4,\"#fde0ef\"],[0.5,\"#f7f7f7\"],[0.6,\"#e6f5d0\"],[0.7,\"#b8e186\"],[0.8,\"#7fbc41\"],[0.9,\"#4d9221\"],[1,\"#276419\"]]},\"xaxis\":{\"gridcolor\":\"white\",\"linecolor\":\"white\",\"ticks\":\"\",\"title\":{\"standoff\":15},\"zerolinecolor\":\"white\",\"automargin\":true,\"zerolinewidth\":2},\"yaxis\":{\"gridcolor\":\"white\",\"linecolor\":\"white\",\"ticks\":\"\",\"title\":{\"standoff\":15},\"zerolinecolor\":\"white\",\"automargin\":true,\"zerolinewidth\":2},\"scene\":{\"xaxis\":{\"backgroundcolor\":\"#E5ECF6\",\"gridcolor\":\"white\",\"linecolor\":\"white\",\"showbackground\":true,\"ticks\":\"\",\"zerolinecolor\":\"white\",\"gridwidth\":2},\"yaxis\":{\"backgroundcolor\":\"#E5ECF6\",\"gridcolor\":\"white\",\"linecolor\":\"white\",\"showbackground\":true,\"ticks\":\"\",\"zerolinecolor\":\"white\",\"gridwidth\":2},\"zaxis\":{\"backgroundcolor\":\"#E5ECF6\",\"gridcolor\":\"white\",\"linecolor\":\"white\",\"showbackground\":true,\"ticks\":\"\",\"zerolinecolor\":\"white\",\"gridwidth\":2}},\"shapedefaults\":{\"line\":{\"color\":\"#2a3f5f\"}},\"annotationdefaults\":{\"arrowcolor\":\"#2a3f5f\",\"arrowhead\":0,\"arrowwidth\":1},\"geo\":{\"bgcolor\":\"white\",\"landcolor\":\"#E5ECF6\",\"subunitcolor\":\"white\",\"showland\":true,\"showlakes\":true,\"lakecolor\":\"white\"},\"title\":{\"x\":0.05},\"mapbox\":{\"style\":\"light\"}}},\"xaxis\":{\"anchor\":\"y\",\"domain\":[0.0,0.2125]},\"yaxis\":{\"anchor\":\"x\",\"domain\":[0.9183673469387754,0.9999999999999999]},\"xaxis2\":{\"anchor\":\"y2\",\"domain\":[0.2625,0.475]},\"yaxis2\":{\"anchor\":\"x2\",\"domain\":[0.9183673469387754,0.9999999999999999]},\"xaxis3\":{\"anchor\":\"y3\",\"domain\":[0.525,0.7375]},\"yaxis3\":{\"anchor\":\"x3\",\"domain\":[0.9183673469387754,0.9999999999999999]},\"xaxis4\":{\"anchor\":\"y4\",\"domain\":[0.7875,1.0]},\"yaxis4\":{\"anchor\":\"x4\",\"domain\":[0.9183673469387754,0.9999999999999999]},\"xaxis5\":{\"anchor\":\"y5\",\"domain\":[0.0,0.2125]},\"yaxis5\":{\"anchor\":\"x5\",\"domain\":[0.7653061224489794,0.8469387755102039]},\"xaxis6\":{\"anchor\":\"y6\",\"domain\":[0.2625,0.475]},\"yaxis6\":{\"anchor\":\"x6\",\"domain\":[0.7653061224489794,0.8469387755102039]},\"xaxis7\":{\"anchor\":\"y7\",\"domain\":[0.525,0.7375]},\"yaxis7\":{\"anchor\":\"x7\",\"domain\":[0.7653061224489794,0.8469387755102039]},\"xaxis8\":{\"anchor\":\"y8\",\"domain\":[0.7875,1.0]},\"yaxis8\":{\"anchor\":\"x8\",\"domain\":[0.7653061224489794,0.8469387755102039]},\"xaxis9\":{\"anchor\":\"y9\",\"domain\":[0.0,0.2125]},\"yaxis9\":{\"anchor\":\"x9\",\"domain\":[0.6122448979591837,0.6938775510204082]},\"xaxis10\":{\"anchor\":\"y10\",\"domain\":[0.2625,0.475]},\"yaxis10\":{\"anchor\":\"x10\",\"domain\":[0.6122448979591837,0.6938775510204082]},\"xaxis11\":{\"anchor\":\"y11\",\"domain\":[0.525,0.7375]},\"yaxis11\":{\"anchor\":\"x11\",\"domain\":[0.6122448979591837,0.6938775510204082]},\"xaxis12\":{\"anchor\":\"y12\",\"domain\":[0.7875,1.0]},\"yaxis12\":{\"anchor\":\"x12\",\"domain\":[0.6122448979591837,0.6938775510204082]},\"xaxis13\":{\"anchor\":\"y13\",\"domain\":[0.0,0.2125]},\"yaxis13\":{\"anchor\":\"x13\",\"domain\":[0.4591836734693877,0.5408163265306122]},\"xaxis14\":{\"anchor\":\"y14\",\"domain\":[0.2625,0.475]},\"yaxis14\":{\"anchor\":\"x14\",\"domain\":[0.4591836734693877,0.5408163265306122]},\"xaxis15\":{\"anchor\":\"y15\",\"domain\":[0.525,0.7375]},\"yaxis15\":{\"anchor\":\"x15\",\"domain\":[0.4591836734693877,0.5408163265306122]},\"xaxis16\":{\"anchor\":\"y16\",\"domain\":[0.7875,1.0]},\"yaxis16\":{\"anchor\":\"x16\",\"domain\":[0.4591836734693877,0.5408163265306122]},\"xaxis17\":{\"anchor\":\"y17\",\"domain\":[0.0,0.2125]},\"yaxis17\":{\"anchor\":\"x17\",\"domain\":[0.30612244897959184,0.3877551020408163]},\"xaxis18\":{\"anchor\":\"y18\",\"domain\":[0.2625,0.475]},\"yaxis18\":{\"anchor\":\"x18\",\"domain\":[0.30612244897959184,0.3877551020408163]},\"xaxis19\":{\"anchor\":\"y19\",\"domain\":[0.525,0.7375]},\"yaxis19\":{\"anchor\":\"x19\",\"domain\":[0.30612244897959184,0.3877551020408163]},\"xaxis20\":{\"anchor\":\"y20\",\"domain\":[0.7875,1.0]},\"yaxis20\":{\"anchor\":\"x20\",\"domain\":[0.30612244897959184,0.3877551020408163]},\"xaxis21\":{\"anchor\":\"y21\",\"domain\":[0.0,0.2125]},\"yaxis21\":{\"anchor\":\"x21\",\"domain\":[0.15306122448979592,0.2346938775510204]},\"xaxis22\":{\"anchor\":\"y22\",\"domain\":[0.2625,0.475]},\"yaxis22\":{\"anchor\":\"x22\",\"domain\":[0.15306122448979592,0.2346938775510204]},\"xaxis23\":{\"anchor\":\"y23\",\"domain\":[0.525,0.7375]},\"yaxis23\":{\"anchor\":\"x23\",\"domain\":[0.15306122448979592,0.2346938775510204]},\"xaxis24\":{\"anchor\":\"y24\",\"domain\":[0.7875,1.0]},\"yaxis24\":{\"anchor\":\"x24\",\"domain\":[0.15306122448979592,0.2346938775510204]},\"xaxis25\":{\"anchor\":\"y25\",\"domain\":[0.0,0.2125]},\"yaxis25\":{\"anchor\":\"x25\",\"domain\":[0.0,0.08163265306122448]},\"xaxis26\":{\"anchor\":\"y26\",\"domain\":[0.2625,0.475]},\"yaxis26\":{\"anchor\":\"x26\",\"domain\":[0.0,0.08163265306122448]},\"xaxis27\":{\"anchor\":\"y27\",\"domain\":[0.525,0.7375]},\"yaxis27\":{\"anchor\":\"x27\",\"domain\":[0.0,0.08163265306122448]},\"xaxis28\":{\"anchor\":\"y28\",\"domain\":[0.7875,1.0]},\"yaxis28\":{\"anchor\":\"x28\",\"domain\":[0.0,0.08163265306122448]},\"annotations\":[{\"font\":{\"size\":16},\"showarrow\":false,\"text\":\"destination\",\"x\":0.10625,\"xanchor\":\"center\",\"xref\":\"paper\",\"y\":0.9999999999999999,\"yanchor\":\"bottom\",\"yref\":\"paper\"},{\"font\":{\"size\":16},\"showarrow\":false,\"text\":\"passanger\",\"x\":0.36875,\"xanchor\":\"center\",\"xref\":\"paper\",\"y\":0.9999999999999999,\"yanchor\":\"bottom\",\"yref\":\"paper\"},{\"font\":{\"size\":16},\"showarrow\":false,\"text\":\"weather\",\"x\":0.6312500000000001,\"xanchor\":\"center\",\"xref\":\"paper\",\"y\":0.9999999999999999,\"yanchor\":\"bottom\",\"yref\":\"paper\"},{\"font\":{\"size\":16},\"showarrow\":false,\"text\":\"temperature\",\"x\":0.89375,\"xanchor\":\"center\",\"xref\":\"paper\",\"y\":0.9999999999999999,\"yanchor\":\"bottom\",\"yref\":\"paper\"},{\"font\":{\"size\":16},\"showarrow\":false,\"text\":\"time\",\"x\":0.10625,\"xanchor\":\"center\",\"xref\":\"paper\",\"y\":0.8469387755102039,\"yanchor\":\"bottom\",\"yref\":\"paper\"},{\"font\":{\"size\":16},\"showarrow\":false,\"text\":\"coupon\",\"x\":0.36875,\"xanchor\":\"center\",\"xref\":\"paper\",\"y\":0.8469387755102039,\"yanchor\":\"bottom\",\"yref\":\"paper\"},{\"font\":{\"size\":16},\"showarrow\":false,\"text\":\"expiration\",\"x\":0.6312500000000001,\"xanchor\":\"center\",\"xref\":\"paper\",\"y\":0.8469387755102039,\"yanchor\":\"bottom\",\"yref\":\"paper\"},{\"font\":{\"size\":16},\"showarrow\":false,\"text\":\"gender\",\"x\":0.89375,\"xanchor\":\"center\",\"xref\":\"paper\",\"y\":0.8469387755102039,\"yanchor\":\"bottom\",\"yref\":\"paper\"},{\"font\":{\"size\":16},\"showarrow\":false,\"text\":\"age\",\"x\":0.10625,\"xanchor\":\"center\",\"xref\":\"paper\",\"y\":0.6938775510204082,\"yanchor\":\"bottom\",\"yref\":\"paper\"},{\"font\":{\"size\":16},\"showarrow\":false,\"text\":\"maritalStatus\",\"x\":0.36875,\"xanchor\":\"center\",\"xref\":\"paper\",\"y\":0.6938775510204082,\"yanchor\":\"bottom\",\"yref\":\"paper\"},{\"font\":{\"size\":16},\"showarrow\":false,\"text\":\"has_children\",\"x\":0.6312500000000001,\"xanchor\":\"center\",\"xref\":\"paper\",\"y\":0.6938775510204082,\"yanchor\":\"bottom\",\"yref\":\"paper\"},{\"font\":{\"size\":16},\"showarrow\":false,\"text\":\"education\",\"x\":0.89375,\"xanchor\":\"center\",\"xref\":\"paper\",\"y\":0.6938775510204082,\"yanchor\":\"bottom\",\"yref\":\"paper\"},{\"font\":{\"size\":16},\"showarrow\":false,\"text\":\"occupation\",\"x\":0.10625,\"xanchor\":\"center\",\"xref\":\"paper\",\"y\":0.5408163265306122,\"yanchor\":\"bottom\",\"yref\":\"paper\"},{\"font\":{\"size\":16},\"showarrow\":false,\"text\":\"income\",\"x\":0.36875,\"xanchor\":\"center\",\"xref\":\"paper\",\"y\":0.5408163265306122,\"yanchor\":\"bottom\",\"yref\":\"paper\"},{\"font\":{\"size\":16},\"showarrow\":false,\"text\":\"Bar\",\"x\":0.6312500000000001,\"xanchor\":\"center\",\"xref\":\"paper\",\"y\":0.5408163265306122,\"yanchor\":\"bottom\",\"yref\":\"paper\"},{\"font\":{\"size\":16},\"showarrow\":false,\"text\":\"CoffeeHouse\",\"x\":0.89375,\"xanchor\":\"center\",\"xref\":\"paper\",\"y\":0.5408163265306122,\"yanchor\":\"bottom\",\"yref\":\"paper\"},{\"font\":{\"size\":16},\"showarrow\":false,\"text\":\"CarryAway\",\"x\":0.10625,\"xanchor\":\"center\",\"xref\":\"paper\",\"y\":0.3877551020408163,\"yanchor\":\"bottom\",\"yref\":\"paper\"},{\"font\":{\"size\":16},\"showarrow\":false,\"text\":\"RestaurantLessThan20\",\"x\":0.36875,\"xanchor\":\"center\",\"xref\":\"paper\",\"y\":0.3877551020408163,\"yanchor\":\"bottom\",\"yref\":\"paper\"},{\"font\":{\"size\":16},\"showarrow\":false,\"text\":\"Restaurant20To50\",\"x\":0.6312500000000001,\"xanchor\":\"center\",\"xref\":\"paper\",\"y\":0.3877551020408163,\"yanchor\":\"bottom\",\"yref\":\"paper\"},{\"font\":{\"size\":16},\"showarrow\":false,\"text\":\"toCoupon_GEQ5min\",\"x\":0.89375,\"xanchor\":\"center\",\"xref\":\"paper\",\"y\":0.3877551020408163,\"yanchor\":\"bottom\",\"yref\":\"paper\"},{\"font\":{\"size\":16},\"showarrow\":false,\"text\":\"toCoupon_GEQ15min\",\"x\":0.10625,\"xanchor\":\"center\",\"xref\":\"paper\",\"y\":0.2346938775510204,\"yanchor\":\"bottom\",\"yref\":\"paper\"},{\"font\":{\"size\":16},\"showarrow\":false,\"text\":\"toCoupon_GEQ25min\",\"x\":0.36875,\"xanchor\":\"center\",\"xref\":\"paper\",\"y\":0.2346938775510204,\"yanchor\":\"bottom\",\"yref\":\"paper\"},{\"font\":{\"size\":16},\"showarrow\":false,\"text\":\"direction_same\",\"x\":0.6312500000000001,\"xanchor\":\"center\",\"xref\":\"paper\",\"y\":0.2346938775510204,\"yanchor\":\"bottom\",\"yref\":\"paper\"},{\"font\":{\"size\":16},\"showarrow\":false,\"text\":\"direction_opp\",\"x\":0.89375,\"xanchor\":\"center\",\"xref\":\"paper\",\"y\":0.2346938775510204,\"yanchor\":\"bottom\",\"yref\":\"paper\"},{\"font\":{\"size\":16},\"showarrow\":false,\"text\":\"Y\",\"x\":0.10625,\"xanchor\":\"center\",\"xref\":\"paper\",\"y\":0.08163265306122448,\"yanchor\":\"bottom\",\"yref\":\"paper\"},{\"font\":{\"size\":16},\"showarrow\":false,\"text\":\"toCoupon_time\",\"x\":0.36875,\"xanchor\":\"center\",\"xref\":\"paper\",\"y\":0.08163265306122448,\"yanchor\":\"bottom\",\"yref\":\"paper\"}],\"title\":{\"text\":\"\\u5206\\u7c7b\\u53d8\\u91cf\\u7684\\u8f6c\\u5316\\u7387 & \\u76f8\\u5173\\u6027\\u5206\\u6790\"},\"height\":3500,\"width\":1000},                        {\"responsive\": true}                    ).then(function(){\n",
       "                            \n",
       "var gd = document.getElementById('1da4f618-cd2e-4845-90b5-3467ef42a20a');\n",
       "var x = new MutationObserver(function (mutations, observer) {{\n",
       "        var display = window.getComputedStyle(gd).display;\n",
       "        if (!display || display === 'none') {{\n",
       "            console.log([gd, 'removed!']);\n",
       "            Plotly.purge(gd);\n",
       "            observer.disconnect();\n",
       "        }}\n",
       "}});\n",
       "\n",
       "// Listen for the removal of the full notebook cells\n",
       "var notebookContainer = gd.closest('#notebook-container');\n",
       "if (notebookContainer) {{\n",
       "    x.observe(notebookContainer, {childList: true});\n",
       "}}\n",
       "\n",
       "// Listen for the clearing of the current output cell\n",
       "var outputEl = gd.closest('.output');\n",
       "if (outputEl) {{\n",
       "    x.observe(outputEl, {childList: true});\n",
       "}}\n",
       "\n",
       "                        })                };                });            </script>        </div>"
      ]
     },
     "metadata": {},
     "output_type": "display_data"
    }
   ],
   "source": [
    "\n",
    "# 判断变量与目标变量是否相关（卡方检验）\n",
    "def check_correlation(data, col, target_col):\n",
    "    contingency = pd.crosstab(data[col], data[target_col])\n",
    "    res = chi2_contingency(contingency)\n",
    "    print(f\"{col} - {target_col}:\", '相关' if res[1] < 0.05 else '不相关', f\"p值={res[1]:.4f}\")\n",
    "\n",
    "# 计算每个类别变量的正样本转化率\n",
    "def probability(data, col, target_col='Y'):    \n",
    "    yes_counts = data[data[target_col] == 1][col].value_counts()\n",
    "    total_counts = data[col].value_counts()\n",
    "    ratio_yes = (yes_counts / total_counts).fillna(0) * 100\n",
    "    # 排序\n",
    "    ratio_yes = ratio_yes.sort_values(ascending=False)    \n",
    "    return ratio_yes.index.astype(str), ratio_yes.values  # x 和 y 分别返回\n",
    "\n",
    "clran_cols = data.columns.to_list()\n",
    "\n",
    "# 创建 subplot\n",
    "bar = make_subplots(\n",
    "    rows=rows,\n",
    "    cols=cols,\n",
    "    subplot_titles=clran_cols,\n",
    "    specs=[[{'type': 'bar'} for _ in range(cols)] for _ in range(rows)]\n",
    ")\n",
    "\n",
    "# 绘制图表 + 打印卡方检验结果\n",
    "for i, col in enumerate(clran_cols):\n",
    "    row = i // cols + 1\n",
    "    col_ = i % cols + 1\n",
    "    \n",
    "    x_vals, y_vals = probability(data, col, 'Y')\n",
    "\n",
    "    bar.add_trace(\n",
    "        go.Bar(x=x_vals, y=y_vals, name=col, text=[f\"{v:.2f}%\" for v in y_vals], textposition='auto'),\n",
    "        row=row,\n",
    "        col=col_\n",
    "    )\n",
    "    \n",
    "    check_correlation(data.copy(), col, 'Y')\n",
    "\n",
    "bar.update_layout(height=500 * rows, width=1000, title_text=\"分类变量的转化率 & 相关性分析\")\n",
    "bar.show()"
   ]
  },
  {
   "cell_type": "markdown",
   "metadata": {},
   "source": [
    "一些很有意思的发现，甚至违反了认知：\n",
    "1. direction_same和direction_opp 竟然和结果无关……可能是由于，如果消费场所位置距离较近，那么即便方向不同也不影响决策。后续可根据分析结果，考虑是否进行深入研究。\n",
    "2. 对于各类场所never的人群，转化率也有50%左右。"
   ]
  },
  {
   "cell_type": "markdown",
   "metadata": {},
   "source": [
    "找出组合明显有效的特征\n",
    "\n",
    "destination\n",
    "passanger\n",
    "weather\n",
    "temperature\n",
    "time\n",
    "coupon\n",
    "expiration\n",
    "gender\n",
    "age\n",
    "maritalStatus\n",
    "has_children\n",
    "education\n",
    "occupation\n",
    "income\n",
    "toCoupon_time\n",
    "\n",
    "经过前面的有效性分析和整体关联要避免场所细分，初步筛选的特征。因为存在一些违反认知的结果，所以判断每个因素对接受率的影响方向和影响度。"
   ]
  },
  {
   "cell_type": "code",
   "execution_count": 12,
   "metadata": {},
   "outputs": [],
   "source": [
    "all_features = ['destination',\n",
    "'passanger',\n",
    "'weather',\n",
    "'temperature',\n",
    "'time',\n",
    "'expiration',\n",
    "'gender',\n",
    "'age',\n",
    "'maritalStatus',\n",
    "'has_children',\n",
    "'education',\n",
    "'occupation',\n",
    "'income',\n",
    "'toCoupon_time'\n",
    "]\n",
    "# 只保留这些特征 + 标签列\n",
    "data_all_features= data[all_features + ['Y']].dropna()"
   ]
  },
  {
   "cell_type": "code",
   "execution_count": 14,
   "metadata": {
    "scrolled": false
   },
   "outputs": [
    {
     "name": "stdout",
     "output_type": "stream",
     "text": [
      "📊 模型评估报告：\n",
      "              precision    recall  f1-score   support\n",
      "\n",
      "           0     0.5564    0.4104    0.4724      1021\n",
      "           1     0.6380    0.7606    0.6939      1395\n",
      "\n",
      "    accuracy                         0.6126      2416\n",
      "   macro avg     0.5972    0.5855    0.5831      2416\n",
      "weighted avg     0.6035    0.6126    0.6003      2416\n",
      "\n",
      "Accuracy : 0.6126\n",
      "Precision: 0.6380\n",
      "Recall   : 0.7606\n",
      "\n",
      "🎯 每个特征项对接收优惠券的影响方向（前部分）:\n",
      "| feature                          |     coef | impact   |\n",
      "|:---------------------------------|---------:|:---------|\n",
      "| cat__education_Some High School  | 0.518818 | 正向     |\n",
      "| cat__passanger_Friend(s)         | 0.323237 | 正向     |\n",
      "| cat__expiration_1d               | 0.316338 | 正向     |\n",
      "| cat__weather_Sunny               | 0.30646  | 正向     |\n",
      "| cat__age_below21                 | 0.250567 | 正向     |\n",
      "| cat__destination_No Urgent Place | 0.235569 | 正向     |\n",
      "| cat__maritalStatus_Single        | 0.230768 | 正向     |\n",
      "| cat__toCoupon_time_short         | 0.217475 | 正向     |\n",
      "| cat__occupation_Basic industries | 0.186167 | 正向     |\n",
      "| cat__occupation_Social service   | 0.171824 | 正向     |\n"
     ]
    },
    {
     "name": "stderr",
     "output_type": "stream",
     "text": [
      "D:\\Anaconda\\data\\lib\\site-packages\\pandas\\compat\\_optional.py:117: DeprecationWarning:\n",
      "\n",
      "distutils Version classes are deprecated. Use packaging.version instead.\n",
      "\n",
      "D:\\Anaconda\\data\\lib\\site-packages\\setuptools\\_distutils\\version.py:345: DeprecationWarning:\n",
      "\n",
      "distutils Version classes are deprecated. Use packaging.version instead.\n",
      "\n"
     ]
    },
    {
     "data": {
      "image/png": "[encoded data removed]",
      "text/plain": [
       "<Figure size 864x576 with 1 Axes>"
      ]
     },
     "metadata": {
      "needs_background": "light"
     },
     "output_type": "display_data"
    }
   ],
   "source": [
    "def analyze_logistic_feature_impact(X, y, top_k=20, random_state=42):\n",
    "    \"\"\"逻辑回归：分析特征对接受优惠券的正负影响\"\"\"\n",
    "    \n",
    "    # 自动识别分类特征\n",
    "    cat_cols = X.columns.tolist()  \n",
    "\n",
    "    # OneHot 编码 + passthrough\n",
    "    preprocessor = ColumnTransformer([\n",
    "    ('cat', OneHotEncoder(drop=None, sparse=False), cat_cols)\n",
    "])\n",
    "\n",
    "    # 构建 pipeline\n",
    "    pipeline = Pipeline(steps=[\n",
    "        ('preprocessor', preprocessor),\n",
    "        ('classifier', LogisticRegression(max_iter=1000))\n",
    "    ])\n",
    "\n",
    "    # 拆分训练测试集\n",
    "    X_train, X_test, y_train, y_test = train_test_split(X, y, test_size=0.2, random_state=random_state)\n",
    "\n",
    "    # 拟合训练集\n",
    "    pipeline.fit(X_train, y_train)\n",
    "\n",
    "    # 模型评估\n",
    "    y_pred = pipeline.predict(X_test)\n",
    "    y_prob = pipeline.predict_proba(X_test)[:, 1]\n",
    "    \n",
    "    print(\"📊 模型评估报告：\")\n",
    "    print(classification_report(y_test, y_pred, digits=4))\n",
    "    print(f\"Accuracy : {accuracy_score(y_test, y_pred):.4f}\")\n",
    "    print(f\"Precision: {precision_score(y_test, y_pred):.4f}\")\n",
    "    print(f\"Recall   : {recall_score(y_test, y_pred):.4f}\")\n",
    "\n",
    "    # 用全部数据重新拟合模型（获取更稳定的系数）\n",
    "    pipeline.fit(X, y)\n",
    "\n",
    "    # 取出特征名 + 系数\n",
    "    feature_names = pipeline.named_steps['preprocessor'].get_feature_names_out()\n",
    "#     print(\"特征数：\" + str(len(feature_names)))\n",
    "#     # 打印分类变量数量\n",
    "#     print(f\"分类变量（object）列数: {len(cat_cols)}\")\n",
    "#     print(f\"预处理后特征数: {len(feature_names)}\")\n",
    "#     print(\"预处理后特征名示例:\", feature_names[:10])\n",
    "\n",
    "\n",
    "    coef = pipeline.named_steps['classifier'].coef_[0]\n",
    "\n",
    "    feature_effect = pd.DataFrame({\n",
    "        'feature': feature_names,\n",
    "        'coef': coef,\n",
    "        'impact': np.where(coef > 0, '正向', '负向')\n",
    "    }).sort_values('coef', ascending=False)\n",
    "    \n",
    "    \n",
    "    print(\"\\n🎯 每个特征项对接收优惠券的影响方向（前部分）:\")\n",
    "    print(feature_effect.head(10).to_markdown(index=False))\n",
    "\n",
    "    # 取前后 top_k 个影响最大的特征\n",
    "    top_features = pd.concat([\n",
    "        feature_effect.head(top_k),\n",
    "        feature_effect.tail(top_k)\n",
    "    ])\n",
    "\n",
    "    # 可视化\n",
    "    plt.figure(figsize=(12, 8))\n",
    "    sns.barplot(\n",
    "        x='coef', y='feature', hue='impact',\n",
    "        data=top_features,\n",
    "        dodge=False, palette={'正向': '#2ca02c', '负向': '#d62728'}\n",
    "    )\n",
    "    plt.axvline(0, color='gray', linestyle='--')\n",
    "    plt.title(f\"前后 Top {top_k} 特征项的影响方向（逻辑回归系数）\")\n",
    "    plt.xlabel(\"系数（正值=提升接受概率）\")\n",
    "    plt.ylabel(\"特征项\")\n",
    "    plt.legend(title='影响方向')\n",
    "    plt.tight_layout()\n",
    "    plt.show()\n",
    "\n",
    "    return feature_effect\n",
    "\n",
    "# 特征和标签\n",
    "X = data_all_features[all_features]\n",
    "y = data_all_features['Y']\n",
    "\n",
    "feature_effect = analyze_logistic_feature_impact(\n",
    "    X=data_all_features[all_features],\n",
    "    y=data_all_features['Y'],\n",
    "    top_k=20\n",
    ")"
   ]
  },
  {
   "cell_type": "code",
   "execution_count": 29,
   "metadata": {},
   "outputs": [
    {
     "name": "stderr",
     "output_type": "stream",
     "text": [
      "distutils Version classes are deprecated. Use packaging.version instead.\n",
      "distutils Version classes are deprecated. Use packaging.version instead.\n"
     ]
    }
   ],
   "source": [
    "feature_effect.to_excel(r\"D:\\兼职\\兼职\\作品项目\\feature_effect.xlsx\", index=False)"
   ]
  },
  {
   "cell_type": "markdown",
   "metadata": {},
   "source": [
    "对于单因素，正向影响最大的是：\n",
    "cat__education_Some High School\n",
    "\n",
    "负向影响最大的是：\n",
    "cat__expiration_2h\n"
   ]
  },
  {
   "cell_type": "markdown",
   "metadata": {},
   "source": [
    "接下来基于改进FP-Growth进行特征组合挖掘"
   ]
  },
  {
   "cell_type": "code",
   "execution_count": 16,
   "metadata": {},
   "outputs": [],
   "source": [
    "# 构造 transaction 格式的数据\n",
    "def prepare_transactions(data_all_features, features):\n",
    "    transactions = []\n",
    "    for _, row in data_all_features.iterrows():\n",
    "        transaction = []\n",
    "        for f in features:\n",
    "            transaction.append(f\"{f}={row[f]}\")\n",
    "        transactions.append(transaction)\n",
    "    return transactions\n",
    "\n",
    "transactions = prepare_transactions(data_all_features, all_features)\n",
    "\n",
    "# TransactionEncoder 转换为布尔型 DataFrame\n",
    "te = TransactionEncoder()\n",
    "te_ary = te.fit(transactions).transform(transactions)\n",
    "data_all_features_fp = pd.DataFrame(te_ary, columns=te.columns_)\n",
    "\n",
    "# 使用 FP-Growth 发现频繁项集\n",
    "frequent_itemsets = fpgrowth(data_all_features_fp, min_support=0.05, use_colnames=True)\n",
    "\n"
   ]
  },
  {
   "cell_type": "code",
   "execution_count": 17,
   "metadata": {
    "scrolled": true
   },
   "outputs": [
    {
     "name": "stdout",
     "output_type": "stream",
     "text": [
      "🎯 高价值组合特征 TOP20（卡方检验）：\n",
      "| itemsets                                                                                                                               |   support |   adjusted_rate |   lower_bound |     p_value |\n",
      "|:---------------------------------------------------------------------------------------------------------------------------------------|----------:|----------------:|--------------:|------------:|\n",
      "| frozenset({'destination=No Urgent Place', 'expiration=1d', 'weather=Sunny', 'temperature=12.78'})                                      | 0.0557165 |        0.783495 |      0.827922 | 4.09307e-35 |\n",
      "| frozenset({'destination=No Urgent Place', 'has_children=no_children', 'toCoupon_time=medium', 'expiration=1d', 'passanger=Friend(s)'}) | 0.0528189 |        0.782655 |      0.828615 | 2.93062e-33 |\n",
      "| frozenset({'has_children=no_children', 'expiration=1d', 'toCoupon_time=medium', 'passanger=Friend(s)'})                                | 0.0528189 |        0.782655 |      0.828615 | 2.93062e-33 |\n",
      "| frozenset({'toCoupon_time=medium', 'destination=No Urgent Place', 'expiration=1d', 'maritalStatus=Single'})                            | 0.0525706 |        0.768565 |      0.814486 | 4.29919e-29 |\n",
      "| frozenset({'destination=No Urgent Place', 'has_children=no_children', 'expiration=1d', 'passanger=Friend(s)', 'maritalStatus=Single'}) | 0.0537296 |        0.766047 |      0.811304 | 6.07937e-29 |\n",
      "| frozenset({'has_children=no_children', 'expiration=1d', 'passanger=Friend(s)', 'maritalStatus=Single'})                                | 0.0537296 |        0.766047 |      0.811304 | 6.07937e-29 |\n",
      "| frozenset({'destination=No Urgent Place', 'has_children=no_children', 'gender=Male', 'expiration=1d', 'maritalStatus=Single'})         | 0.0518255 |        0.765483 |      0.811771 | 6.66132e-28 |\n",
      "| frozenset({'destination=No Urgent Place', 'has_children=no_children', 'weather=Sunny', 'expiration=1d', 'maritalStatus=Single'})       | 0.0663962 |        0.763459 |      0.803083 | 4.50646e-34 |\n",
      "| frozenset({'passanger=Friend(s)', 'expiration=1d', 'weather=Sunny', 'maritalStatus=Single'})                                           | 0.0537296 |        0.758894 |      0.804036 | 5.48725e-27 |\n",
      "| frozenset({'destination=No Urgent Place', 'weather=Sunny', 'expiration=1d', 'passanger=Friend(s)', 'maritalStatus=Single'})            | 0.0537296 |        0.758894 |      0.804036 | 5.48725e-27 |\n",
      "| frozenset({'expiration=1d', 'passanger=Friend(s)', 'maritalStatus=Single'})                                                            | 0.0606838 |        0.75794  |      0.799774 | 9.60418e-30 |\n",
      "| frozenset({'destination=No Urgent Place', 'expiration=1d', 'passanger=Friend(s)', 'maritalStatus=Single'})                             | 0.0606838 |        0.75794  |      0.799774 | 9.60418e-30 |\n",
      "| frozenset({'gender=Male', 'destination=No Urgent Place', 'expiration=1d', 'maritalStatus=Single'})                                     | 0.0557165 |        0.757215 |      0.801319 | 2.17897e-27 |\n",
      "| frozenset({'has_children=no_children', 'destination=No Urgent Place', 'expiration=1d', 'passanger=Friend(s)'})                         | 0.0802219 |        0.757082 |      0.792311 | 4.06555e-38 |\n",
      "| frozenset({'has_children=no_children', 'expiration=1d', 'passanger=Friend(s)'})                                                        | 0.0802219 |        0.757082 |      0.792311 | 4.06555e-38 |\n",
      "| frozenset({'has_children=no_children', 'destination=No Urgent Place', 'expiration=1d', 'maritalStatus=Single'})                        | 0.0816293 |        0.756242 |      0.791095 | 2.01811e-38 |\n",
      "| frozenset({'destination=No Urgent Place', 'expiration=1d', 'weather=Sunny', 'maritalStatus=Single'})                                   | 0.0759169 |        0.754361 |      0.790776 | 3.44021e-35 |\n",
      "| frozenset({'destination=No Urgent Place', 'has_children=no_children', 'toCoupon_time=medium', 'weather=Sunny', 'expiration=1d'})       | 0.0613461 |        0.754067 |      0.795569 | 7.08174e-29 |\n",
      "| frozenset({'toCoupon_time=medium', 'expiration=1d', 'passanger=Friend(s)', 'weather=Sunny'})                                           | 0.0715291 |        0.752152 |      0.789895 | 1.52889e-32 |\n",
      "| frozenset({'destination=No Urgent Place', 'toCoupon_time=medium', 'weather=Sunny', 'expiration=1d', 'passanger=Friend(s)'})            | 0.0715291 |        0.752152 |      0.789895 | 1.52889e-32 |\n",
      "🔥 最常出现的特征组合项 Top10：\n",
      "[('weather=Sunny', 1688), ('has_children=no_children', 1100), ('passanger=Alone', 959), ('temperature=26.67', 918), ('expiration=1d', 814), ('destination=No Urgent Place', 745), ('gender=Male', 639), ('gender=Female', 632), ('toCoupon_time=short', 604), ('maritalStatus=Single', 573)]\n"
     ]
    },
    {
     "name": "stderr",
     "output_type": "stream",
     "text": [
      "D:\\Anaconda\\data\\lib\\site-packages\\pandas\\compat\\_optional.py:117: DeprecationWarning:\n",
      "\n",
      "distutils Version classes are deprecated. Use packaging.version instead.\n",
      "\n",
      "D:\\Anaconda\\data\\lib\\site-packages\\setuptools\\_distutils\\version.py:345: DeprecationWarning:\n",
      "\n",
      "distutils Version classes are deprecated. Use packaging.version instead.\n",
      "\n"
     ]
    }
   ],
   "source": [
    "def calculate_adjusted_conversion_rate_chi2(X,itemsets, original_data, prior_strength=50):\n",
    "    \"\"\" 使用卡方检验 + 贝叶斯平滑计算转化率 \"\"\"\n",
    "    # 全局先验率\n",
    "    global_rate = original_data['Y'].mean()\n",
    "    alpha = global_rate * prior_strength\n",
    "    beta = (1 - global_rate) * prior_strength\n",
    "\n",
    "    rates = []\n",
    "    lower_bounds = []\n",
    "    p_values = []\n",
    "\n",
    "    total_success = original_data['Y'].sum()\n",
    "    total_failure = len(original_data) - total_success\n",
    "    \n",
    "    cat_cols = X.columns.tolist()\n",
    "\n",
    "    for itemset in itemsets:\n",
    "        # 构造条件\n",
    "        conditions = []\n",
    "        for val in itemset:\n",
    "            col, v = val.split('=')\n",
    "            if col in cat_cols:\n",
    "                v = f\"'{v}'\"\n",
    "            conditions.append(f\"{col}=={v}\")\n",
    "        query = \" & \".join(conditions)\n",
    "        subset = original_data.query(query)\n",
    "\n",
    "        n = len(subset)\n",
    "        if n == 0:\n",
    "            rates.append(0)\n",
    "            lower_bounds.append(0)\n",
    "            p_values.append(1)\n",
    "            continue\n",
    "\n",
    "        success = subset['Y'].sum()\n",
    "        failure = n - success\n",
    "\n",
    "        # 贝叶斯平滑转化率\n",
    "        adj_success = success + alpha\n",
    "        adj_total = n + alpha + beta\n",
    "        adj_rate = adj_success / adj_total\n",
    "\n",
    "        # Wilson下置信限\n",
    "        _, lb = proportion_confint(success, n, method='wilson')\n",
    "\n",
    "        # 卡方检验\n",
    "        contingency_table = [\n",
    "            [success, failure],\n",
    "            [total_success - success, total_failure - failure]\n",
    "        ]\n",
    "        chi2, p_value, _, _ = chi2_contingency(contingency_table, correction=True)\n",
    "\n",
    "        rates.append(adj_rate)\n",
    "        lower_bounds.append(lb)\n",
    "        p_values.append(p_value)\n",
    "\n",
    "    return rates, lower_bounds, p_values\n",
    "\n",
    "# 应用计算\n",
    "adj_rates, lower_bounds, p_values = calculate_adjusted_conversion_rate_chi2(X,\n",
    "    frequent_itemsets['itemsets'],\n",
    "    data_all_features\n",
    ")\n",
    "\n",
    "# 更新 DataFrame\n",
    "frequent_itemsets['adjusted_rate'] = adj_rates\n",
    "frequent_itemsets['lower_bound'] = lower_bounds\n",
    "frequent_itemsets['p_value'] = p_values\n",
    "frequent_itemsets['n_features'] = frequent_itemsets['itemsets'].apply(len)\n",
    "\n",
    "# 过滤：支持度+置信下限+统计显著性\n",
    "final_combos = frequent_itemsets[\n",
    "    (frequent_itemsets['support'] >= 0.05) &\n",
    "    (frequent_itemsets['lower_bound'] >= 0.55) &\n",
    "    (frequent_itemsets['p_value'] < 0.05)\n",
    "].sort_values('adjusted_rate', ascending=False)\n",
    "\n",
    "# 输出结果\n",
    "print(\"🎯 高价值组合特征 TOP20（卡方检验）：\")\n",
    "print(final_combos[['itemsets', 'support', 'adjusted_rate', 'lower_bound', 'p_value']].head(20).to_markdown(index=False))\n",
    "\n",
    "\n",
    "#最常出现的特征组合项\n",
    "flat_items = [item for s in frequent_itemsets['itemsets'] for item in s]\n",
    "top_features = Counter(flat_items).most_common(10)\n",
    "print(\"🔥 最常出现的特征组合项 Top10：\")\n",
    "print(top_features)\n",
    "\n"
   ]
  },
  {
   "cell_type": "code",
   "execution_count": 33,
   "metadata": {},
   "outputs": [
    {
     "name": "stderr",
     "output_type": "stream",
     "text": [
      "distutils Version classes are deprecated. Use packaging.version instead.\n",
      "distutils Version classes are deprecated. Use packaging.version instead.\n"
     ]
    }
   ],
   "source": [
    "final_combos.to_excel(r\"D:\\兼职\\兼职\\作品项目\\final_combos.xlsx\", index=False)"
   ]
  },
  {
   "cell_type": "markdown",
   "metadata": {},
   "source": [
    "展示出来的组合可作为后续发放时优先选择的组合。\n",
    "\n",
    "可以观察到：\n",
    "1. 对于有些指标，组合到一起后，其余的指标变得很不重要了，比如第一个和第二个，多了一个负向特征并不影响转化率。\n",
    "2. 最常出现的特征组合项不一定对于转化起了较大影响，而对于常出现且正向影响较大的特征，比如cat__weather_Sunny，可以在有该特征参与下，多挖掘一些场景促进用户转化。"
   ]
  },
  {
   "cell_type": "code",
   "execution_count": 18,
   "metadata": {
    "scrolled": false
   },
   "outputs": [
    {
     "name": "stdout",
     "output_type": "stream",
     "text": [
      "\n",
      "============================================================\n",
      "🔍 正在分析 coupon 类型：Restaurant(<20)\n",
      "\n",
      "📊 模型评估报告：\n",
      "              precision    recall  f1-score   support\n",
      "\n",
      "           0     0.6292    0.3758    0.4706       149\n",
      "           1     0.7896    0.9136    0.8471       382\n",
      "\n",
      "    accuracy                         0.7627       531\n",
      "   macro avg     0.7094    0.6447    0.6588       531\n",
      "weighted avg     0.7446    0.7627    0.7414       531\n",
      "\n",
      "Accuracy : 0.7627\n",
      "Precision: 0.7896\n",
      "Recall   : 0.9136\n",
      "\n",
      "🎯 每个特征项对接收优惠券的影响方向（前部分）:\n",
      "| feature                          |     coef | impact   |\n",
      "|:---------------------------------|---------:|:---------|\n",
      "| cat__occupation_Basic industries | 0.671362 | 正向     |\n",
      "| cat__weather_Sunny               | 0.610227 | 正向     |\n",
      "| cat__time_6PM                    | 0.579752 | 正向     |\n",
      "| cat__RestaurantLessThan20_gt8    | 0.563226 | 正向     |\n",
      "| cat__expiration_1d               | 0.548786 | 正向     |\n",
      "| cat__passanger_Partner           | 0.477161 | 正向     |\n",
      "| cat__maritalStatus_Single        | 0.461681 | 正向     |\n",
      "| cat__income_$50000 - $62499      | 0.439846 | 正向     |\n",
      "| cat__destination_No Urgent Place | 0.421946 | 正向     |\n",
      "| cat__CarryAway_never             | 0.396673 | 正向     |\n"
     ]
    },
    {
     "name": "stderr",
     "output_type": "stream",
     "text": [
      "D:\\Anaconda\\data\\lib\\site-packages\\pandas\\compat\\_optional.py:117: DeprecationWarning:\n",
      "\n",
      "distutils Version classes are deprecated. Use packaging.version instead.\n",
      "\n",
      "D:\\Anaconda\\data\\lib\\site-packages\\setuptools\\_distutils\\version.py:345: DeprecationWarning:\n",
      "\n",
      "distutils Version classes are deprecated. Use packaging.version instead.\n",
      "\n"
     ]
    },
    {
     "data": {
      "image/png": "[encoded data removed]",
      "text/plain": [
       "<Figure size 864x576 with 1 Axes>"
      ]
     },
     "metadata": {
      "needs_background": "light"
     },
     "output_type": "display_data"
    },
    {
     "name": "stdout",
     "output_type": "stream",
     "text": [
      "\n",
      "============================================================\n",
      "🔍 正在分析 coupon 类型：Coffee House\n",
      "\n",
      "📊 模型评估报告：\n",
      "              precision    recall  f1-score   support\n",
      "\n",
      "           0     0.7105    0.7029    0.7067       377\n",
      "           1     0.7136    0.7209    0.7172       387\n",
      "\n",
      "    accuracy                         0.7120       764\n",
      "   macro avg     0.7120    0.7119    0.7119       764\n",
      "weighted avg     0.7120    0.7120    0.7120       764\n",
      "\n",
      "Accuracy : 0.7120\n",
      "Precision: 0.7136\n",
      "Recall   : 0.7209\n",
      "\n",
      "🎯 每个特征项对接收优惠券的影响方向（前部分）:\n",
      "| feature                          |     coef | impact   |\n",
      "|:---------------------------------|---------:|:---------|\n",
      "| cat__CoffeeHouse_4~8             | 0.865419 | 正向     |\n",
      "| cat__CoffeeHouse_gt8             | 0.811724 | 正向     |\n",
      "| cat__CoffeeHouse_1~3             | 0.59709  | 正向     |\n",
      "| cat__time_10AM                   | 0.542192 | 正向     |\n",
      "| cat__Bar_never                   | 0.451208 | 正向     |\n",
      "| cat__expiration_1d               | 0.420319 | 正向     |\n",
      "| cat__RestaurantLessThan20_never  | 0.383214 | 正向     |\n",
      "| cat__Restaurant20To50_gt8        | 0.374044 | 正向     |\n",
      "| cat__destination_No Urgent Place | 0.338676 | 正向     |\n",
      "| cat__income_$37500 - $49999      | 0.336064 | 正向     |\n"
     ]
    },
    {
     "name": "stderr",
     "output_type": "stream",
     "text": [
      "D:\\Anaconda\\data\\lib\\site-packages\\pandas\\compat\\_optional.py:117: DeprecationWarning:\n",
      "\n",
      "distutils Version classes are deprecated. Use packaging.version instead.\n",
      "\n",
      "D:\\Anaconda\\data\\lib\\site-packages\\setuptools\\_distutils\\version.py:345: DeprecationWarning:\n",
      "\n",
      "distutils Version classes are deprecated. Use packaging.version instead.\n",
      "\n"
     ]
    },
    {
     "data": {
      "image/png": "[encoded data removed]",
      "text/plain": [
       "<Figure size 864x576 with 1 Axes>"
      ]
     },
     "metadata": {
      "needs_background": "light"
     },
     "output_type": "display_data"
    },
    {
     "name": "stdout",
     "output_type": "stream",
     "text": [
      "\n",
      "============================================================\n",
      "🔍 正在分析 coupon 类型：Bar\n",
      "\n",
      "📊 模型评估报告：\n",
      "              precision    recall  f1-score   support\n",
      "\n",
      "           0     0.7339    0.7634    0.7484       224\n",
      "           1     0.6467    0.6101    0.6278       159\n",
      "\n",
      "    accuracy                         0.6997       383\n",
      "   macro avg     0.6903    0.6867    0.6881       383\n",
      "weighted avg     0.6977    0.6997    0.6983       383\n",
      "\n",
      "Accuracy : 0.6997\n",
      "Precision: 0.6467\n",
      "Recall   : 0.6101\n",
      "\n",
      "🎯 每个特征项对接收优惠券的影响方向（前部分）:\n",
      "| feature                          |     coef | impact   |\n",
      "|:---------------------------------|---------:|:---------|\n",
      "| cat__Bar_4~8                     | 0.972616 | 正向     |\n",
      "| cat__education_Some High School  | 0.937457 | 正向     |\n",
      "| cat__RestaurantLessThan20_never  | 0.870637 | 正向     |\n",
      "| cat__time_6PM                    | 0.827355 | 正向     |\n",
      "| cat__maritalStatus_Widowed       | 0.743978 | 正向     |\n",
      "| cat__passanger_Friend(s)         | 0.739878 | 正向     |\n",
      "| cat__Bar_gt8                     | 0.564288 | 正向     |\n",
      "| cat__weather_Sunny               | 0.558366 | 正向     |\n",
      "| cat__Restaurant20To50_4~8        | 0.512094 | 正向     |\n",
      "| cat__destination_No Urgent Place | 0.488627 | 正向     |\n"
     ]
    },
    {
     "name": "stderr",
     "output_type": "stream",
     "text": [
      "D:\\Anaconda\\data\\lib\\site-packages\\pandas\\compat\\_optional.py:117: DeprecationWarning:\n",
      "\n",
      "distutils Version classes are deprecated. Use packaging.version instead.\n",
      "\n",
      "D:\\Anaconda\\data\\lib\\site-packages\\setuptools\\_distutils\\version.py:345: DeprecationWarning:\n",
      "\n",
      "distutils Version classes are deprecated. Use packaging.version instead.\n",
      "\n"
     ]
    },
    {
     "data": {
      "image/png": "[encoded data removed]",
      "text/plain": [
       "<Figure size 864x576 with 1 Axes>"
      ]
     },
     "metadata": {
      "needs_background": "light"
     },
     "output_type": "display_data"
    },
    {
     "name": "stdout",
     "output_type": "stream",
     "text": [
      "\n",
      "============================================================\n",
      "🔍 正在分析 coupon 类型：Carry out & Take away\n",
      "\n",
      "📊 模型评估报告：\n",
      "              precision    recall  f1-score   support\n",
      "\n",
      "           0     0.6410    0.2000    0.3049       125\n",
      "           1     0.7602    0.9577    0.8476       331\n",
      "\n",
      "    accuracy                         0.7500       456\n",
      "   macro avg     0.7006    0.5789    0.5762       456\n",
      "weighted avg     0.7275    0.7500    0.6988       456\n",
      "\n",
      "Accuracy : 0.7500\n",
      "Precision: 0.7602\n",
      "Recall   : 0.9577\n",
      "\n",
      "🎯 每个特征项对接收优惠券的影响方向（前部分）:\n",
      "| feature                          |     coef | impact   |\n",
      "|:---------------------------------|---------:|:---------|\n",
      "| cat__education_Some High School  | 0.885369 | 正向     |\n",
      "| cat__destination_No Urgent Place | 0.626237 | 正向     |\n",
      "| cat__RestaurantLessThan20_never  | 0.50682  | 正向     |\n",
      "| cat__time_6PM                    | 0.493016 | 正向     |\n",
      "| cat__occupation_Social service   | 0.473798 | 正向     |\n",
      "| cat__time_2PM                    | 0.421682 | 正向     |\n",
      "| cat__weather_Sunny               | 0.348808 | 正向     |\n",
      "| cat__education_Associates degree | 0.341116 | 正向     |\n",
      "| cat__expiration_1d               | 0.336302 | 正向     |\n",
      "| cat__income_$50000 - $62499      | 0.316446 | 正向     |\n"
     ]
    },
    {
     "name": "stderr",
     "output_type": "stream",
     "text": [
      "D:\\Anaconda\\data\\lib\\site-packages\\pandas\\compat\\_optional.py:117: DeprecationWarning:\n",
      "\n",
      "distutils Version classes are deprecated. Use packaging.version instead.\n",
      "\n",
      "D:\\Anaconda\\data\\lib\\site-packages\\setuptools\\_distutils\\version.py:345: DeprecationWarning:\n",
      "\n",
      "distutils Version classes are deprecated. Use packaging.version instead.\n",
      "\n"
     ]
    },
    {
     "data": {
      "image/png": "[encoded data removed]",
      "text/plain": [
       "<Figure size 864x576 with 1 Axes>"
      ]
     },
     "metadata": {
      "needs_background": "light"
     },
     "output_type": "display_data"
    },
    {
     "name": "stdout",
     "output_type": "stream",
     "text": [
      "\n",
      "============================================================\n",
      "🔍 正在分析 coupon 类型：Restaurant(20-50)\n",
      "\n",
      "📊 模型评估报告：\n",
      "              precision    recall  f1-score   support\n",
      "\n",
      "           0     0.6420    0.7584    0.6954       149\n",
      "           1     0.6667    0.5333    0.5926       135\n",
      "\n",
      "    accuracy                         0.6514       284\n",
      "   macro avg     0.6544    0.6459    0.6440       284\n",
      "weighted avg     0.6537    0.6514    0.6465       284\n",
      "\n",
      "Accuracy : 0.6514\n",
      "Precision: 0.6667\n",
      "Recall   : 0.5333\n",
      "\n",
      "🎯 每个特征项对接收优惠券的影响方向（前部分）:\n",
      "| feature                               |     coef | impact   |\n",
      "|:--------------------------------------|---------:|:---------|\n",
      "| cat__passanger_Partner                | 0.642293 | 正向     |\n",
      "| cat__Restaurant20To50_gt8             | 0.576134 | 正向     |\n",
      "| cat__expiration_1d                    | 0.538053 | 正向     |\n",
      "| cat__CoffeeHouse_1~3                  | 0.538004 | 正向     |\n",
      "| cat__Restaurant20To50_4~8             | 0.507163 | 正向     |\n",
      "| cat__occupation_Technical engineering | 0.486677 | 正向     |\n",
      "| cat__income_$25000 - $37499           | 0.464752 | 正向     |\n",
      "| cat__maritalStatus_Single             | 0.456636 | 正向     |\n",
      "| cat__passanger_Friend(s)              | 0.413238 | 正向     |\n",
      "| cat__education_High School Graduate   | 0.366101 | 正向     |\n"
     ]
    },
    {
     "name": "stderr",
     "output_type": "stream",
     "text": [
      "D:\\Anaconda\\data\\lib\\site-packages\\pandas\\compat\\_optional.py:117: DeprecationWarning:\n",
      "\n",
      "distutils Version classes are deprecated. Use packaging.version instead.\n",
      "\n",
      "D:\\Anaconda\\data\\lib\\site-packages\\setuptools\\_distutils\\version.py:345: DeprecationWarning:\n",
      "\n",
      "distutils Version classes are deprecated. Use packaging.version instead.\n",
      "\n"
     ]
    },
    {
     "data": {
      "image/png": "[encoded data removed]",
      "text/plain": [
       "<Figure size 864x576 with 1 Axes>"
      ]
     },
     "metadata": {
      "needs_background": "light"
     },
     "output_type": "display_data"
    }
   ],
   "source": [
    "#找出针对不同类型消费的明显组合\n",
    "types_features = ['destination',\n",
    "'passanger',\n",
    "'weather',\n",
    "'temperature',\n",
    "'time',\n",
    "'expiration',\n",
    "'gender',\n",
    "'age',\n",
    "'maritalStatus',\n",
    "'has_children',\n",
    "'education',\n",
    "'occupation',\n",
    "'income',\n",
    "'Bar',\n",
    "'CoffeeHouse',\n",
    "'CarryAway',\n",
    "'RestaurantLessThan20',\n",
    "'Restaurant20To50',                  \n",
    "'toCoupon_time'\n",
    "]\n",
    "\n",
    "# 分析不同 coupon 类型的影响因素\n",
    "def analyze_by_coupon_type(data, coupon_types, feature_cols, target_col='Y', top_k=20):\n",
    "    results = {}\n",
    "    for coupon in coupon_types:\n",
    "        print(f\"\\n{'='*60}\\n🔍 正在分析 coupon 类型：{coupon}\\n\")\n",
    "        \n",
    "        # 筛选对应类型的数据\n",
    "        data_coupon = data[data['coupon'] == coupon]\n",
    "        data_coupon = data_coupon[feature_cols + [target_col]].dropna()\n",
    "\n",
    "        if len(data_coupon) < 100:\n",
    "            print(f\"⚠️ 数据量过小（{len(df_coupon)} 条），跳过分析。\")\n",
    "            continue\n",
    "\n",
    "        # 调用逻辑回归特征分析函数\n",
    "        result = analyze_logistic_feature_impact(\n",
    "            X=data_coupon[feature_cols],\n",
    "            y=data_coupon[target_col],\n",
    "            top_k=top_k\n",
    "        )\n",
    "        \n",
    "        results[coupon] = result\n",
    "    return results\n",
    "\n",
    "# 分析所有类型的 coupon 的影响因素\n",
    "coupon_types = data['coupon'].dropna().unique().tolist()\n",
    "coupon_feature_results = analyze_by_coupon_type(\n",
    "    data=data,\n",
    "    coupon_types=coupon_types,\n",
    "    feature_cols=types_features,\n",
    "    target_col='Y',\n",
    "    top_k=20\n",
    ")"
   ]
  },
  {
   "cell_type": "markdown",
   "metadata": {},
   "source": [
    "对于不同类型的都进行了分析，可以看出不同类型的消费场所影响特征有很大不同，因此后续推送优惠券时，如果有具体的针对某一类型消费场所提高，那么采用策略和对整体推送优惠券的策略又有不同。\n",
    "同理需要时可筛选组合特征，针对性推送策略。可优化方向是，使用精度更高的算法并且对用户更多行为数据+偏好数据进行挖掘，当用户位置或者行程有变化时，可以实时推送针对性优惠券。当然具体实施时，要考虑用户体验、计算成本、合法合规等方面进行具体设计。\n",
    "使用算法+大数据进行推荐后，数据分析复盘也是有必要的。同样对于指标变化需要明白why和what，才有可能制定出更有效的调整方向。"
   ]
  },
  {
   "cell_type": "code",
   "execution_count": 35,
   "metadata": {},
   "outputs": [
    {
     "name": "stderr",
     "output_type": "stream",
     "text": [
      "distutils Version classes are deprecated. Use packaging.version instead.\n",
      "distutils Version classes are deprecated. Use packaging.version instead.\n"
     ]
    }
   ],
   "source": [
    "types_results = []\n",
    "\n",
    "for coupon, df in coupon_feature_results.items():\n",
    "    df['coupon'] = coupon  # 添加 coupon 类型\n",
    "    types_results.append(df)\n",
    "\n",
    "# 合并为一个 DataFrame\n",
    "types_result_data = pd.concat(types_results, ignore_index=True)\n",
    "\n",
    "# 保存为 Excel 文件（一个 sheet）\n",
    "types_result_data.to_excel(r\"D:\\兼职\\兼职\\作品项目\\types_result_data.xlsx\", index=False)"
   ]
  },
  {
   "cell_type": "markdown",
   "metadata": {},
   "source": [
    "#### 对于有效性较低的用户&场景，提出针对性用户分群、场景触发、优惠券设计调整措施\n",
    "\n",
    "bar:\n",
    "1.  去酒吧次数少是重要负向因素，可结合正向因素，提出明显降低决策和消费成本的组合，推动用户形成消费习惯。\n",
    "如：在晚上6点给年轻、单身人士推送大额优惠券；给常去客户推出带新客进店优惠券；\n",
    "2. 高收入人士也是弱意向人群，可以针对性推送高消费酒吧场所优惠券\n",
    "3. 公益从业者可以从社会责任角度推行一些优惠券：每消费1捐0.1\n",
    "\n",
    "Carry out & Take away：\n",
    "1. 咖啡、酒吧常客、带孩子人群、有朋友人群对于外带明显负向，可能用户更看重这些场所空间和社交属性：\n",
    "a. 减少对外带优惠券推荐\n",
    "b. 结合地理位置，对于等位时间较长的餐厅、公园游乐场等适合户外就餐的地点可结合高转化特征推送\n",
    "\n",
    "Coffee House：\n",
    "1. 时间上越早推送效果越好\n",
    "2. 去咖啡店少+酒吧多是明显负向因素，可能因为两者使用时间有冲突，因此：\n",
    "a. 互斥推送\n",
    "b. 前一天早结束活跃+今日早活跃用户可结合正向特征推送\n",
    "\n",
    "Restaurant(<20)：\n",
    "1. 上午10点明显正向，下午6点明显正向，和Restaurant(20-50)的特征具有相似性。用户消费习惯更倾向于晚餐去餐馆消费，所以可以在晚上推送餐厅优惠券。\n",
    "2. 高收入、常去Restaurant(20-50)的人群是弱意向客户，这部分人群可更多推送高价值消费场所优惠券\n",
    "\n",
    "Restaurant(20-50)：\n",
    "1. 未养成消费习惯和收入是影响因素，除了参考bar的策略，让用户养成消费习惯外，也要考虑客观情况，如：\n",
    "a.在节假日、发薪日推送优惠券\n",
    "b.和信用卡等联合绑定推送\n"
   ]
  }
 ],
 "metadata": {
  "kernelspec": {
   "display_name": "Python (shap_env)",
   "language": "python",
   "name": "shap_env"
  },
  "language_info": {
   "codemirror_mode": {
    "name": "ipython",
    "version": 3
   },
   "file_extension": ".py",
   "mimetype": "text/x-python",
   "name": "python",
   "nbconvert_exporter": "python",
   "pygments_lexer": "ipython3",
   "version": "3.7.0"
  }
 },
 "nbformat": 4,
 "nbformat_minor": 2
}
